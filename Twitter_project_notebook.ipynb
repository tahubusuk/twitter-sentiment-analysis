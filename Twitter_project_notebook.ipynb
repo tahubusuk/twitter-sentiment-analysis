{
 "cells": [
  {
   "cell_type": "markdown",
   "id": "8b16ec0d",
   "metadata": {
    "id": "8b16ec0d"
   },
   "source": [
    "# ML Course 2023 |  Sentiment Analysis in Twitter Challenge\n",
    "You can check the updated leaderboard in this [link](https://nimble-hellebore-184.notion.site/ML-Course-2023-Sentiment-Analysis-in-Twitter-Challenge-966b041e7aec4f2eabbc8dc33d64b871)."
   ]
  },
  {
   "cell_type": "code",
   "execution_count": null,
   "id": "EJfbR5fCE1eN",
   "metadata": {
    "colab": {
     "base_uri": "https://localhost:8080/"
    },
    "executionInfo": {
     "elapsed": 39634,
     "status": "ok",
     "timestamp": 1682427886056,
     "user": {
      "displayName": "Isabel Valera",
      "userId": "14662300919014123166"
     },
     "user_tz": -120
    },
    "id": "EJfbR5fCE1eN",
    "outputId": "72a2c4bb-195c-4b19-f8e2-8e4a0a49925a",
    "scrolled": true
   },
   "outputs": [],
   "source": [
    "!pip3 install tueplots==0.0.5\n",
    "!pip3 install sentence-transformers==2.2.2\n"
   ]
  },
  {
   "cell_type": "code",
   "execution_count": null,
   "id": "f6077c48",
   "metadata": {},
   "outputs": [],
   "source": [
    "!pip3 install WordCloud\n",
    "!pip3 install seaborn\n",
    "!pip3 install -U imbalanced-learn\n",
    "!pip3 install xgboost\n"
   ]
  },
  {
   "cell_type": "markdown",
   "id": "2f5eaed7",
   "metadata": {
    "id": "2f5eaed7"
   },
   "source": [
    "# Load Tweets\n",
    "\n",
    "The dataframe of tweets contain the following columns:\n",
    "\n",
    "- `id`: The unique identifier of the tweet\n",
    "- `text`: The content of the tweet\n",
    "- `type`: The type of tweet, which can be 'tweet', 'quoted', 'retweeted' or 'quoted__replied_to'\n",
    "- `author_id`: The unique identifier of the author of the tweet\n",
    "- `possibly_sensitive`: A boolean value indicating whether the tweet contains sensitive content\n",
    "- `retweet_count`: The number of times the tweet has been retweeted\n",
    "- `quote_count`: The number of times the tweet has been quoted\n",
    "- `reply_count`: The number of times the tweet has been replied to\n",
    "- `like_count`: The number of times the tweet has been liked\n",
    "- `followers_count`: The number of followers of the author of the tweet\n",
    "- `following_count`: The number of accounts the author of the tweet is following\n",
    "- `tweet_count`: The total number of tweets made by the author of the tweet\n",
    "- `listed_count`: The number of lists the author of the tweet is a member of\n",
    "- `score_compound`:  A numerical value ranging from -1 to 1 indicating the overall sentiment of the tweet, where -1 represents  negative sentiment and 1 represents positive sentiment. **This is the target variable for the regression task.**\n",
    "- `sentiment`: A categorical variable indicating the sentiment of the tweet, which can be 'negative', 'neutral' or 'positive'. **This is the target variable for the classification task.**\n",
    "\n",
    "\n"
   ]
  },
  {
   "cell_type": "code",
   "execution_count": 1,
   "id": "762536aa",
   "metadata": {
    "id": "762536aa"
   },
   "outputs": [],
   "source": [
    "import os\n",
    "import pandas as pd\n",
    "pd.set_option('display.max_rows', 100)\n",
    "\n",
    "from wordcloud import WordCloud\n",
    "\n",
    "import matplotlib.pyplot as plt\n",
    "import seaborn as sns\n",
    "from tueplots import bundles\n",
    "\n",
    "plt.rcParams.update(bundles.icml2022())\n",
    "import tueplots.constants.color.palettes as tue_palettes\n",
    "\n",
    "from sentence_transformers import SentenceTransformer\n",
    "\n",
    "import matplotlib as mpl\n",
    "mpl.rcParams.update(mpl.rcParamsDefault)\n",
    "\n",
    "import numpy as np\n"
   ]
  },
  {
   "cell_type": "code",
   "execution_count": 273,
   "id": "2fc6b0bb",
   "metadata": {
    "id": "2fc6b0bb"
   },
   "outputs": [],
   "source": [
    "team_id = '19' #put your team id here\n",
    "split = 'test_1' # replace by 'test_2' for FINAL submission\n",
    "\n",
    "df = pd.read_csv('tweets_train.csv') # we are subsampling 100 training data\n",
    "df_test = pd.read_csv(f'tweets_{split}.csv') # we are subsampling 200 test data\n"
   ]
  },
  {
   "cell_type": "code",
   "execution_count": 274,
   "id": "c321d106",
   "metadata": {
    "colab": {
     "base_uri": "https://localhost:8080/",
     "height": 530
    },
    "executionInfo": {
     "elapsed": 8,
     "status": "ok",
     "timestamp": 1682351179439,
     "user": {
      "displayName": "Batuhan Koyuncu",
      "userId": "13470316719110860762"
     },
     "user_tz": -120
    },
    "id": "c321d106",
    "outputId": "52c430b5-e5fe-4412-d579-687609eb9dee"
   },
   "outputs": [
    {
     "data": {
      "text/html": [
       "<div>\n",
       "<style scoped>\n",
       "    .dataframe tbody tr th:only-of-type {\n",
       "        vertical-align: middle;\n",
       "    }\n",
       "\n",
       "    .dataframe tbody tr th {\n",
       "        vertical-align: top;\n",
       "    }\n",
       "\n",
       "    .dataframe thead th {\n",
       "        text-align: right;\n",
       "    }\n",
       "</style>\n",
       "<table border=\"1\" class=\"dataframe\">\n",
       "  <thead>\n",
       "    <tr style=\"text-align: right;\">\n",
       "      <th></th>\n",
       "      <th>id</th>\n",
       "      <th>text</th>\n",
       "      <th>type</th>\n",
       "      <th>author_id</th>\n",
       "      <th>possibly_sensitive</th>\n",
       "      <th>retweet_count</th>\n",
       "      <th>quote_count</th>\n",
       "      <th>reply_count</th>\n",
       "      <th>like_count</th>\n",
       "      <th>followers_count</th>\n",
       "      <th>following_count</th>\n",
       "      <th>tweet_count</th>\n",
       "      <th>listed_count</th>\n",
       "      <th>words</th>\n",
       "      <th>score_compound</th>\n",
       "      <th>sentiment</th>\n",
       "    </tr>\n",
       "  </thead>\n",
       "  <tbody>\n",
       "    <tr>\n",
       "      <th>7</th>\n",
       "      <td>1585623984858869765</td>\n",
       "      <td>Postdoctoral position available in Computation...</td>\n",
       "      <td>tweet</td>\n",
       "      <td>62044012</td>\n",
       "      <td>False</td>\n",
       "      <td>18</td>\n",
       "      <td>1</td>\n",
       "      <td>0</td>\n",
       "      <td>68</td>\n",
       "      <td>33022</td>\n",
       "      <td>3383</td>\n",
       "      <td>5246</td>\n",
       "      <td>359</td>\n",
       "      <td>['postdoctoral', 'position', 'available', 'com...</td>\n",
       "      <td>0.4404</td>\n",
       "      <td>neutral</td>\n",
       "    </tr>\n",
       "    <tr>\n",
       "      <th>20</th>\n",
       "      <td>708862256482627585</td>\n",
       "      <td>Game 4 about to start shortly. Livestream here...</td>\n",
       "      <td>tweet</td>\n",
       "      <td>1482581556</td>\n",
       "      <td>False</td>\n",
       "      <td>82</td>\n",
       "      <td>0</td>\n",
       "      <td>9</td>\n",
       "      <td>140</td>\n",
       "      <td>282492</td>\n",
       "      <td>99</td>\n",
       "      <td>1468</td>\n",
       "      <td>4681</td>\n",
       "      <td>['game', 'start', 'shortly', 'livestream', 'ro...</td>\n",
       "      <td>0.0000</td>\n",
       "      <td>neutral</td>\n",
       "    </tr>\n",
       "    <tr>\n",
       "      <th>21</th>\n",
       "      <td>1623716638205050881</td>\n",
       "      <td>For all Hebrew speaking readers of our channel...</td>\n",
       "      <td>tweet</td>\n",
       "      <td>3363584909</td>\n",
       "      <td>False</td>\n",
       "      <td>4</td>\n",
       "      <td>0</td>\n",
       "      <td>2</td>\n",
       "      <td>23</td>\n",
       "      <td>65506</td>\n",
       "      <td>113</td>\n",
       "      <td>15406</td>\n",
       "      <td>856</td>\n",
       "      <td>['hebrew', 'speaking', 'readers', 'channel', '...</td>\n",
       "      <td>0.4404</td>\n",
       "      <td>neutral</td>\n",
       "    </tr>\n",
       "    <tr>\n",
       "      <th>24</th>\n",
       "      <td>1114304151809224704</td>\n",
       "      <td>My former student Ian Goodfellow moving to App...</td>\n",
       "      <td>tweet</td>\n",
       "      <td>216939636</td>\n",
       "      <td>False</td>\n",
       "      <td>308</td>\n",
       "      <td>27</td>\n",
       "      <td>29</td>\n",
       "      <td>2631</td>\n",
       "      <td>744556</td>\n",
       "      <td>670</td>\n",
       "      <td>1510</td>\n",
       "      <td>9898</td>\n",
       "      <td>['former', 'student', 'ian', 'goodfellow', 'mo...</td>\n",
       "      <td>0.8910</td>\n",
       "      <td>positive</td>\n",
       "    </tr>\n",
       "    <tr>\n",
       "      <th>25</th>\n",
       "      <td>796222629208145920</td>\n",
       "      <td>Whatever happens tonight, when you wake up tom...</td>\n",
       "      <td>tweet</td>\n",
       "      <td>216939636</td>\n",
       "      <td>False</td>\n",
       "      <td>712</td>\n",
       "      <td>44</td>\n",
       "      <td>20</td>\n",
       "      <td>1435</td>\n",
       "      <td>744556</td>\n",
       "      <td>670</td>\n",
       "      <td>1510</td>\n",
       "      <td>9898</td>\n",
       "      <td>['whatever', 'happens', 'tonight', 'wake', 'to...</td>\n",
       "      <td>0.4404</td>\n",
       "      <td>neutral</td>\n",
       "    </tr>\n",
       "  </tbody>\n",
       "</table>\n",
       "</div>"
      ],
      "text/plain": [
       "                     id                                               text  \\\n",
       "7   1585623984858869765  Postdoctoral position available in Computation...   \n",
       "20   708862256482627585  Game 4 about to start shortly. Livestream here...   \n",
       "21  1623716638205050881  For all Hebrew speaking readers of our channel...   \n",
       "24  1114304151809224704  My former student Ian Goodfellow moving to App...   \n",
       "25   796222629208145920  Whatever happens tonight, when you wake up tom...   \n",
       "\n",
       "     type   author_id  possibly_sensitive  retweet_count  quote_count  \\\n",
       "7   tweet    62044012               False             18            1   \n",
       "20  tweet  1482581556               False             82            0   \n",
       "21  tweet  3363584909               False              4            0   \n",
       "24  tweet   216939636               False            308           27   \n",
       "25  tweet   216939636               False            712           44   \n",
       "\n",
       "    reply_count  like_count  followers_count  following_count  tweet_count  \\\n",
       "7             0          68            33022             3383         5246   \n",
       "20            9         140           282492               99         1468   \n",
       "21            2          23            65506              113        15406   \n",
       "24           29        2631           744556              670         1510   \n",
       "25           20        1435           744556              670         1510   \n",
       "\n",
       "    listed_count                                              words  \\\n",
       "7            359  ['postdoctoral', 'position', 'available', 'com...   \n",
       "20          4681  ['game', 'start', 'shortly', 'livestream', 'ro...   \n",
       "21           856  ['hebrew', 'speaking', 'readers', 'channel', '...   \n",
       "24          9898  ['former', 'student', 'ian', 'goodfellow', 'mo...   \n",
       "25          9898  ['whatever', 'happens', 'tonight', 'wake', 'to...   \n",
       "\n",
       "    score_compound sentiment  \n",
       "7           0.4404   neutral  \n",
       "20          0.0000   neutral  \n",
       "21          0.4404   neutral  \n",
       "24          0.8910  positive  \n",
       "25          0.4404   neutral  "
      ]
     },
     "execution_count": 274,
     "metadata": {},
     "output_type": "execute_result"
    }
   ],
   "source": [
    "df[df.type == 'tweet'].head()"
   ]
  },
  {
   "cell_type": "code",
   "execution_count": 275,
   "id": "57cee5aa",
   "metadata": {
    "colab": {
     "base_uri": "https://localhost:8080/",
     "height": 600
    },
    "executionInfo": {
     "elapsed": 265,
     "status": "ok",
     "timestamp": 1682351182266,
     "user": {
      "displayName": "Batuhan Koyuncu",
      "userId": "13470316719110860762"
     },
     "user_tz": -120
    },
    "id": "57cee5aa",
    "outputId": "85c2cee9-9c1b-4b8e-daba-0f52e9c088f6"
   },
   "outputs": [
    {
     "data": {
      "text/html": [
       "<div>\n",
       "<style scoped>\n",
       "    .dataframe tbody tr th:only-of-type {\n",
       "        vertical-align: middle;\n",
       "    }\n",
       "\n",
       "    .dataframe tbody tr th {\n",
       "        vertical-align: top;\n",
       "    }\n",
       "\n",
       "    .dataframe thead th {\n",
       "        text-align: right;\n",
       "    }\n",
       "</style>\n",
       "<table border=\"1\" class=\"dataframe\">\n",
       "  <thead>\n",
       "    <tr style=\"text-align: right;\">\n",
       "      <th></th>\n",
       "      <th>id</th>\n",
       "      <th>text</th>\n",
       "      <th>type</th>\n",
       "      <th>author_id</th>\n",
       "      <th>possibly_sensitive</th>\n",
       "      <th>retweet_count</th>\n",
       "      <th>quote_count</th>\n",
       "      <th>reply_count</th>\n",
       "      <th>like_count</th>\n",
       "      <th>followers_count</th>\n",
       "      <th>following_count</th>\n",
       "      <th>tweet_count</th>\n",
       "      <th>listed_count</th>\n",
       "      <th>words</th>\n",
       "    </tr>\n",
       "  </thead>\n",
       "  <tbody>\n",
       "    <tr>\n",
       "      <th>0</th>\n",
       "      <td>1594715340231290880</td>\n",
       "      <td>You allege, @ylecun. that there are zero cases...</td>\n",
       "      <td>quoted</td>\n",
       "      <td>232294292</td>\n",
       "      <td>False</td>\n",
       "      <td>6</td>\n",
       "      <td>2</td>\n",
       "      <td>8</td>\n",
       "      <td>61</td>\n",
       "      <td>86646</td>\n",
       "      <td>5312</td>\n",
       "      <td>26291</td>\n",
       "      <td>2422</td>\n",
       "      <td>['allege', 'zero', 'cases', 'llms', 'created',...</td>\n",
       "    </tr>\n",
       "    <tr>\n",
       "      <th>1</th>\n",
       "      <td>1549261742349291520</td>\n",
       "      <td>I've scanned the TOC and Introduction and I ha...</td>\n",
       "      <td>quoted</td>\n",
       "      <td>3363584909</td>\n",
       "      <td>False</td>\n",
       "      <td>3</td>\n",
       "      <td>0</td>\n",
       "      <td>1</td>\n",
       "      <td>29</td>\n",
       "      <td>65506</td>\n",
       "      <td>113</td>\n",
       "      <td>15406</td>\n",
       "      <td>856</td>\n",
       "      <td>['scanned', 'toc', 'introduction', 'strong', '...</td>\n",
       "    </tr>\n",
       "    <tr>\n",
       "      <th>2</th>\n",
       "      <td>1353027631130832896</td>\n",
       "      <td>Automatic differentiation is really pretty fan...</td>\n",
       "      <td>tweet</td>\n",
       "      <td>175624200</td>\n",
       "      <td>False</td>\n",
       "      <td>41</td>\n",
       "      <td>5</td>\n",
       "      <td>13</td>\n",
       "      <td>557</td>\n",
       "      <td>1031629</td>\n",
       "      <td>225</td>\n",
       "      <td>16316</td>\n",
       "      <td>6967</td>\n",
       "      <td>['automatic', 'differentiation', 'really', 'pr...</td>\n",
       "    </tr>\n",
       "    <tr>\n",
       "      <th>3</th>\n",
       "      <td>1603885102890733569</td>\n",
       "      <td>@__lucab Rienzi is especially great</td>\n",
       "      <td>replied_to</td>\n",
       "      <td>62044012</td>\n",
       "      <td>False</td>\n",
       "      <td>0</td>\n",
       "      <td>0</td>\n",
       "      <td>0</td>\n",
       "      <td>0</td>\n",
       "      <td>33022</td>\n",
       "      <td>3383</td>\n",
       "      <td>5246</td>\n",
       "      <td>359</td>\n",
       "      <td>['rienzi', 'especially', 'great']</td>\n",
       "    </tr>\n",
       "    <tr>\n",
       "      <th>4</th>\n",
       "      <td>1544232610343243776</td>\n",
       "      <td>To complete my story about the Kielce Pogrom\\n...</td>\n",
       "      <td>quoted</td>\n",
       "      <td>3363584909</td>\n",
       "      <td>False</td>\n",
       "      <td>0</td>\n",
       "      <td>0</td>\n",
       "      <td>1</td>\n",
       "      <td>14</td>\n",
       "      <td>65506</td>\n",
       "      <td>113</td>\n",
       "      <td>15406</td>\n",
       "      <td>856</td>\n",
       "      <td>['complete', 'story', 'kielce', 'pogrom', 'pic...</td>\n",
       "    </tr>\n",
       "  </tbody>\n",
       "</table>\n",
       "</div>"
      ],
      "text/plain": [
       "                    id                                               text  \\\n",
       "0  1594715340231290880  You allege, @ylecun. that there are zero cases...   \n",
       "1  1549261742349291520  I've scanned the TOC and Introduction and I ha...   \n",
       "2  1353027631130832896  Automatic differentiation is really pretty fan...   \n",
       "3  1603885102890733569                @__lucab Rienzi is especially great   \n",
       "4  1544232610343243776  To complete my story about the Kielce Pogrom\\n...   \n",
       "\n",
       "         type   author_id  possibly_sensitive  retweet_count  quote_count  \\\n",
       "0      quoted   232294292               False              6            2   \n",
       "1      quoted  3363584909               False              3            0   \n",
       "2       tweet   175624200               False             41            5   \n",
       "3  replied_to    62044012               False              0            0   \n",
       "4      quoted  3363584909               False              0            0   \n",
       "\n",
       "   reply_count  like_count  followers_count  following_count  tweet_count  \\\n",
       "0            8          61            86646             5312        26291   \n",
       "1            1          29            65506              113        15406   \n",
       "2           13         557          1031629              225        16316   \n",
       "3            0           0            33022             3383         5246   \n",
       "4            1          14            65506              113        15406   \n",
       "\n",
       "   listed_count                                              words  \n",
       "0          2422  ['allege', 'zero', 'cases', 'llms', 'created',...  \n",
       "1           856  ['scanned', 'toc', 'introduction', 'strong', '...  \n",
       "2          6967  ['automatic', 'differentiation', 'really', 'pr...  \n",
       "3           359                  ['rienzi', 'especially', 'great']  \n",
       "4           856  ['complete', 'story', 'kielce', 'pogrom', 'pic...  "
      ]
     },
     "execution_count": 275,
     "metadata": {},
     "output_type": "execute_result"
    }
   ],
   "source": [
    "df_test.head()"
   ]
  },
  {
   "cell_type": "markdown",
   "id": "1e7fefb4",
   "metadata": {
    "id": "1e7fefb4"
   },
   "source": [
    "# Pre-process tweets\n",
    "\n",
    "The following are the preprocessing steps we followed to get the `words` column from the original tweet, which corresponds to the `text` column of the dataframe.\n",
    "\n",
    "- Remove punctuations, special characters, mentions, links, and numbers from the tweets.\n",
    "- Convert all the tweets to lowercase.\n",
    "- Tokenize the tweets into individual words.\n",
    "- Remove stop words, such as \"and\", \"the\", \"a\", etc.\n",
    "- Perform stemming or lemmatization on the remaining words to convert them to their base form.\n",
    "- Filter out any words that occur infrequently in the corpus to reduce the dimensionality of the data.\n",
    "- Create a bag of words representation of the tweets, where each tweet is represented as a vector of word frequencies.\n",
    "\n",
    "\n",
    "**Note:** Lemmatization is a process in natural language processing where words are reduced to their base form, or lemma. This is done by removing inflections, such as pluralization or verb conjugation, and converting the word to its dictionary form. The result of this process is a word that is more easily recognizable, and can be used to improve the accuracy of NLP models, such as the LDA model. By lemmatizing the words in a corpus of text, the dimensionality of the data is reduced, and the relationships between words become clearer, making it easier to identify patterns and themes within the text.\n"
   ]
  },
  {
   "cell_type": "code",
   "execution_count": 276,
   "id": "56c35dbf",
   "metadata": {
    "id": "56c35dbf"
   },
   "outputs": [],
   "source": [
    "df['words_str'] = df['words'].apply(lambda words: ' '.join(eval(words)))\n",
    "df_test['words_str'] = df_test['words'].apply(lambda words: ' '.join(eval(words)))\n"
   ]
  },
  {
   "cell_type": "code",
   "execution_count": 277,
   "id": "b231fca1",
   "metadata": {},
   "outputs": [
    {
     "data": {
      "text/plain": [
       "0                                  ['british', 'alps']\n",
       "1    ['videos', 'presentations', 'papers', 'keynote...\n",
       "2    ['hope', 'would', 'able', 'talk', 'balcony', '...\n",
       "3    ['keynote', 'joan', 'bruna', 'geometric', 'dee...\n",
       "4    ['process', 'science', 'relies', 'much', 'basi...\n",
       "Name: words, dtype: object"
      ]
     },
     "execution_count": 277,
     "metadata": {},
     "output_type": "execute_result"
    }
   ],
   "source": [
    "df['words'].head()"
   ]
  },
  {
   "cell_type": "code",
   "execution_count": 278,
   "id": "2edcfff8",
   "metadata": {
    "scrolled": true
   },
   "outputs": [
    {
     "data": {
      "text/plain": [
       "0                                         british alps\n",
       "1    videos presentations papers keynote talks aist...\n",
       "2    hope would able talk balcony tomorrow pm et al...\n",
       "3    keynote joan bruna geometric deep learning pro...\n",
       "4    process science relies much basic honesty part...\n",
       "Name: words_str, dtype: object"
      ]
     },
     "execution_count": 278,
     "metadata": {},
     "output_type": "execute_result"
    }
   ],
   "source": [
    "df['words_str'].head()"
   ]
  },
  {
   "cell_type": "markdown",
   "id": "20b9b1e6",
   "metadata": {},
   "source": [
    "# Preprocessing data"
   ]
  },
  {
   "cell_type": "markdown",
   "id": "fb285231",
   "metadata": {},
   "source": [
    "The following processes are used to reduce the dimension of the variables and to normalize all the values"
   ]
  },
  {
   "cell_type": "code",
   "execution_count": 282,
   "id": "44071b1f",
   "metadata": {},
   "outputs": [],
   "source": [
    "df_wo_label = df.drop(['sentiment', 'words', 'words_str', 'text', 'type', 'possibly_sensitive'], axis = 1)"
   ]
  },
  {
   "cell_type": "code",
   "execution_count": 283,
   "id": "4dac6c07",
   "metadata": {},
   "outputs": [],
   "source": [
    "df_test_wo_label = df_test.drop(['words', 'words_str', 'text', 'type', 'possibly_sensitive'], axis = 1)"
   ]
  },
  {
   "cell_type": "code",
   "execution_count": 284,
   "id": "43375a47",
   "metadata": {},
   "outputs": [],
   "source": [
    "from sklearn.decomposition import PCA\n",
    "from sklearn import preprocessing"
   ]
  },
  {
   "cell_type": "code",
   "execution_count": null,
   "id": "111d3f11",
   "metadata": {},
   "outputs": [],
   "source": []
  },
  {
   "cell_type": "code",
   "execution_count": 285,
   "id": "b21310a0",
   "metadata": {},
   "outputs": [],
   "source": [
    "# better to do it every time we train and validate the model\n",
    "df_norm = preprocessing.StandardScaler().fit_transform(df_wo_label)"
   ]
  },
  {
   "cell_type": "markdown",
   "id": "3db44461",
   "metadata": {
    "id": "3db44461"
   },
   "source": [
    "# Visualize content of the tweets"
   ]
  },
  {
   "cell_type": "markdown",
   "id": "2Uzfq4IwXwz7",
   "metadata": {
    "id": "2Uzfq4IwXwz7"
   },
   "source": [
    "Join all of the preprocessed tweets together and create a world cloud of them to see most frequently used words among all tweets."
   ]
  },
  {
   "cell_type": "code",
   "execution_count": null,
   "id": "601a7f05",
   "metadata": {
    "colab": {
     "base_uri": "https://localhost:8080/",
     "height": 217
    },
    "executionInfo": {
     "elapsed": 1144,
     "status": "ok",
     "timestamp": 1682351186097,
     "user": {
      "displayName": "Batuhan Koyuncu",
      "userId": "13470316719110860762"
     },
     "user_tz": -120
    },
    "id": "601a7f05",
    "outputId": "460ff91f-a7e1-4ffa-e140-d8be48292f77"
   },
   "outputs": [],
   "source": [
    "long_string = ','.join(list(df['words_str'].values))\n",
    "# Create a WordCloud object\n",
    "wordcloud = WordCloud(font_path = 'C:/Users/bodhi/AppData/Local/Microsoft/Windows/Fonts/times.ttf', background_color=\"white\", max_words=5000, contour_width=3, contour_color='steelblue')\n",
    "# Generate a word cloud\n",
    "wordcloud.generate(long_string)\n",
    "# Visualize the word cloud\n",
    "wordcloud.to_image()"
   ]
  },
  {
   "cell_type": "markdown",
   "id": "c1071a69",
   "metadata": {
    "id": "c1071a69"
   },
   "source": [
    "# Sentiment Analysis"
   ]
  },
  {
   "cell_type": "markdown",
   "id": "7Yyjw1lMYI76",
   "metadata": {
    "id": "7Yyjw1lMYI76"
   },
   "source": [
    "**In this part, we will visualize the distribution of these possible sentiments in our dataset.**\n",
    "\n",
    "Each tweet in our dataset have one of three sentiments (`sentiment`):\n",
    "\n",
    "*   Positive\n",
    "*   Neutral\n",
    "*   Negative\n",
    "\n",
    "Also, each tweet has a continous score (`score_compound`) between [-1,1] where -1 corresponds to negative and 1 corresponds to a positive sentinement."
   ]
  },
  {
   "cell_type": "code",
   "execution_count": 12,
   "id": "9c122718",
   "metadata": {
    "colab": {
     "base_uri": "https://localhost:8080/"
    },
    "executionInfo": {
     "elapsed": 258,
     "status": "ok",
     "timestamp": 1682351191253,
     "user": {
      "displayName": "Batuhan Koyuncu",
      "userId": "13470316719110860762"
     },
     "user_tz": -120
    },
    "id": "9c122718",
    "outputId": "f5132424-6fde-43ca-a3f2-f340874a9e1c"
   },
   "outputs": [
    {
     "name": "stdout",
     "output_type": "stream",
     "text": [
      "Num. positive tweets: 2228 (27.85%)\n",
      "Num. negative tweets: 482 (6.02%)\n",
      "Num. neutral tweets: 5290 (66.12%)\n"
     ]
    }
   ],
   "source": [
    "df_pos = df[df.sentiment == 'positive']\n",
    "df_neu = df[df.sentiment == 'neutral']\n",
    "df_neg = df[df.sentiment == 'negative']\n",
    "\n",
    "\n",
    "num_total = len(df)\n",
    "num_pos = len(df_pos)\n",
    "num_neu = len(df_neu)\n",
    "num_neg = len(df_neg)\n",
    "\n",
    "print(f\"Num. positive tweets: {num_pos} ({num_pos/num_total*100:.2f}%)\")\n",
    "print(f\"Num. negative tweets: {num_neg} ({num_neg/num_total*100:.2f}%)\")\n",
    "print(f\"Num. neutral tweets: {num_neu} ({num_neu/num_total*100:.2f}%)\")\n"
   ]
  },
  {
   "cell_type": "code",
   "execution_count": 13,
   "id": "827ae151",
   "metadata": {
    "colab": {
     "base_uri": "https://localhost:8080/",
     "height": 487
    },
    "executionInfo": {
     "elapsed": 4,
     "status": "ok",
     "timestamp": 1682351193098,
     "user": {
      "displayName": "Batuhan Koyuncu",
      "userId": "13470316719110860762"
     },
     "user_tz": -120
    },
    "id": "827ae151",
    "outputId": "668a61a0-b870-4d0a-eace-d5e7f4f30fc2"
   },
   "outputs": [
    {
     "data": {
      "image/png": "[encoded data removed]",
      "text/plain": [
       "<Figure size 640x480 with 1 Axes>"
      ]
     },
     "metadata": {},
     "output_type": "display_data"
    }
   ],
   "source": [
    "plt.close('all')\n",
    "\n",
    "fig, ax = plt.subplots(1, 1)\n",
    "\n",
    "labels = []\n",
    "labels.append(f\"Positive ({num_pos/num_total*100:.2f}%)\")\n",
    "labels.append(f\"Neutral ({num_neu/num_total*100:.2f}%)\")\n",
    "labels.append(f\"Negative ({num_neg/num_total*100:.2f}%)\")\n",
    "\n",
    "sizes = [num_pos, num_neu, num_neg]\n",
    "\n",
    "colors = [f\"#{i}\" for i in tue_palettes.high_contrast[:3]]\n",
    "\n",
    "_ = ax.pie(sizes,colors=colors, startangle=90)\n",
    "# plt.style.use(default’)\n",
    "ax.legend(labels,\n",
    "          loc='upper center', \n",
    "          bbox_to_anchor=(1.23, 1.0), \n",
    "          fancybox=True, \n",
    "          shadow=True)\n",
    "\n",
    "ax.set_title(\"Sentiment Analysis\")\n",
    "plt.tight_layout()\n",
    "plt.show()"
   ]
  },
  {
   "cell_type": "code",
   "execution_count": 14,
   "id": "4c85bd0e",
   "metadata": {
    "colab": {
     "base_uri": "https://localhost:8080/",
     "height": 449
    },
    "executionInfo": {
     "elapsed": 9,
     "status": "ok",
     "timestamp": 1682351193917,
     "user": {
      "displayName": "Batuhan Koyuncu",
      "userId": "13470316719110860762"
     },
     "user_tz": -120
    },
    "id": "4c85bd0e",
    "outputId": "82da026e-2e11-4b2f-a983-9c3014834d88"
   },
   "outputs": [
    {
     "data": {
      "image/png": "[encoded data removed]",
      "text/plain": [
       "<Figure size 640x480 with 1 Axes>"
      ]
     },
     "metadata": {},
     "output_type": "display_data"
    }
   ],
   "source": [
    "plt.close('all')\n",
    "\n",
    "sns.countplot(x=df.sentiment, palette=colors)\n",
    "plt.show()"
   ]
  },
  {
   "cell_type": "code",
   "execution_count": 15,
   "id": "9ad02231",
   "metadata": {
    "colab": {
     "base_uri": "https://localhost:8080/",
     "height": 449
    },
    "executionInfo": {
     "elapsed": 576,
     "status": "ok",
     "timestamp": 1682351194486,
     "user": {
      "displayName": "Batuhan Koyuncu",
      "userId": "13470316719110860762"
     },
     "user_tz": -120
    },
    "id": "9ad02231",
    "outputId": "1a684bdc-604f-46b3-b763-acc4cb4a0100"
   },
   "outputs": [
    {
     "data": {
      "image/png": "[encoded data removed]",
      "text/plain": [
       "<Figure size 640x480 with 1 Axes>"
      ]
     },
     "metadata": {},
     "output_type": "display_data"
    }
   ],
   "source": [
    "plt.close('all')\n",
    "\n",
    "sns.violinplot(data=df, x='sentiment', y='score_compound', palette=colors)\n",
    "plt.show()"
   ]
  },
  {
   "cell_type": "markdown",
   "id": "743ff4ce",
   "metadata": {},
   "source": [
    "# Check the correlation between data and target"
   ]
  },
  {
   "cell_type": "code",
   "execution_count": 287,
   "id": "6e4894a1",
   "metadata": {},
   "outputs": [],
   "source": [
    "from scipy.stats import shapiro"
   ]
  },
  {
   "cell_type": "code",
   "execution_count": 288,
   "id": "7f6b4b11",
   "metadata": {},
   "outputs": [],
   "source": [
    "df_norm = pd.DataFrame(np.squeeze(df_norm), columns=list(df_wo_label.columns))"
   ]
  },
  {
   "cell_type": "code",
   "execution_count": 18,
   "id": "b451adc1",
   "metadata": {},
   "outputs": [
    {
     "data": {
      "text/html": [
       "<div>\n",
       "<style scoped>\n",
       "    .dataframe tbody tr th:only-of-type {\n",
       "        vertical-align: middle;\n",
       "    }\n",
       "\n",
       "    .dataframe tbody tr th {\n",
       "        vertical-align: top;\n",
       "    }\n",
       "\n",
       "    .dataframe thead th {\n",
       "        text-align: right;\n",
       "    }\n",
       "</style>\n",
       "<table border=\"1\" class=\"dataframe\">\n",
       "  <thead>\n",
       "    <tr style=\"text-align: right;\">\n",
       "      <th></th>\n",
       "      <th>id</th>\n",
       "      <th>author_id</th>\n",
       "      <th>retweet_count</th>\n",
       "      <th>quote_count</th>\n",
       "      <th>reply_count</th>\n",
       "      <th>like_count</th>\n",
       "      <th>followers_count</th>\n",
       "      <th>following_count</th>\n",
       "      <th>tweet_count</th>\n",
       "      <th>listed_count</th>\n",
       "      <th>score_compound</th>\n",
       "    </tr>\n",
       "  </thead>\n",
       "  <tbody>\n",
       "    <tr>\n",
       "      <th>0</th>\n",
       "      <td>0.424004</td>\n",
       "      <td>-0.181818</td>\n",
       "      <td>-0.070380</td>\n",
       "      <td>-0.12296</td>\n",
       "      <td>-0.167816</td>\n",
       "      <td>-0.083141</td>\n",
       "      <td>-0.526714</td>\n",
       "      <td>1.120608</td>\n",
       "      <td>-0.728350</td>\n",
       "      <td>-1.211881</td>\n",
       "      <td>-0.516603</td>\n",
       "    </tr>\n",
       "    <tr>\n",
       "      <th>1</th>\n",
       "      <td>-0.241207</td>\n",
       "      <td>5.500000</td>\n",
       "      <td>-0.057001</td>\n",
       "      <td>-0.12296</td>\n",
       "      <td>-0.182349</td>\n",
       "      <td>-0.083584</td>\n",
       "      <td>-0.537650</td>\n",
       "      <td>-0.403988</td>\n",
       "      <td>-1.255952</td>\n",
       "      <td>-1.253184</td>\n",
       "      <td>-0.516603</td>\n",
       "    </tr>\n",
       "    <tr>\n",
       "      <th>2</th>\n",
       "      <td>0.521226</td>\n",
       "      <td>-0.181818</td>\n",
       "      <td>-0.070123</td>\n",
       "      <td>-0.12296</td>\n",
       "      <td>-0.182349</td>\n",
       "      <td>-0.082919</td>\n",
       "      <td>-0.503724</td>\n",
       "      <td>-0.633590</td>\n",
       "      <td>0.451584</td>\n",
       "      <td>-1.062045</td>\n",
       "      <td>0.555099</td>\n",
       "    </tr>\n",
       "    <tr>\n",
       "      <th>3</th>\n",
       "      <td>0.245749</td>\n",
       "      <td>-0.181818</td>\n",
       "      <td>-0.061375</td>\n",
       "      <td>-0.12296</td>\n",
       "      <td>-0.182349</td>\n",
       "      <td>-0.083584</td>\n",
       "      <td>-0.534623</td>\n",
       "      <td>-0.396478</td>\n",
       "      <td>-1.181277</td>\n",
       "      <td>-1.240522</td>\n",
       "      <td>0.279569</td>\n",
       "    </tr>\n",
       "    <tr>\n",
       "      <th>4</th>\n",
       "      <td>0.663480</td>\n",
       "      <td>-0.181818</td>\n",
       "      <td>-0.070380</td>\n",
       "      <td>-0.12296</td>\n",
       "      <td>-0.167816</td>\n",
       "      <td>-0.082476</td>\n",
       "      <td>-0.247280</td>\n",
       "      <td>-0.381994</td>\n",
       "      <td>0.166240</td>\n",
       "      <td>0.635901</td>\n",
       "      <td>-1.217993</td>\n",
       "    </tr>\n",
       "    <tr>\n",
       "      <th>...</th>\n",
       "      <td>...</td>\n",
       "      <td>...</td>\n",
       "      <td>...</td>\n",
       "      <td>...</td>\n",
       "      <td>...</td>\n",
       "      <td>...</td>\n",
       "      <td>...</td>\n",
       "      <td>...</td>\n",
       "      <td>...</td>\n",
       "      <td>...</td>\n",
       "      <td>...</td>\n",
       "    </tr>\n",
       "    <tr>\n",
       "      <th>7995</th>\n",
       "      <td>-0.219960</td>\n",
       "      <td>-0.181818</td>\n",
       "      <td>-0.070380</td>\n",
       "      <td>-0.12296</td>\n",
       "      <td>-0.182349</td>\n",
       "      <td>-0.083141</td>\n",
       "      <td>0.180035</td>\n",
       "      <td>-0.573507</td>\n",
       "      <td>0.557267</td>\n",
       "      <td>0.780310</td>\n",
       "      <td>-0.516603</td>\n",
       "    </tr>\n",
       "    <tr>\n",
       "      <th>7996</th>\n",
       "      <td>0.623109</td>\n",
       "      <td>-0.181818</td>\n",
       "      <td>-0.052884</td>\n",
       "      <td>-0.12296</td>\n",
       "      <td>-0.182349</td>\n",
       "      <td>-0.083584</td>\n",
       "      <td>-0.350155</td>\n",
       "      <td>-0.641100</td>\n",
       "      <td>-1.167108</td>\n",
       "      <td>0.091123</td>\n",
       "      <td>0.184787</td>\n",
       "    </tr>\n",
       "    <tr>\n",
       "      <th>7997</th>\n",
       "      <td>0.461154</td>\n",
       "      <td>-0.181818</td>\n",
       "      <td>-0.056229</td>\n",
       "      <td>-0.12296</td>\n",
       "      <td>-0.182349</td>\n",
       "      <td>-0.083584</td>\n",
       "      <td>-0.534623</td>\n",
       "      <td>-0.396478</td>\n",
       "      <td>-1.181277</td>\n",
       "      <td>-1.240522</td>\n",
       "      <td>-0.516603</td>\n",
       "    </tr>\n",
       "    <tr>\n",
       "      <th>7998</th>\n",
       "      <td>-0.111643</td>\n",
       "      <td>-0.181818</td>\n",
       "      <td>-0.070380</td>\n",
       "      <td>-0.12296</td>\n",
       "      <td>-0.153283</td>\n",
       "      <td>-0.077825</td>\n",
       "      <td>0.180035</td>\n",
       "      <td>-0.573507</td>\n",
       "      <td>0.557267</td>\n",
       "      <td>0.780310</td>\n",
       "      <td>0.959578</td>\n",
       "    </tr>\n",
       "    <tr>\n",
       "      <th>7999</th>\n",
       "      <td>0.362870</td>\n",
       "      <td>-0.181818</td>\n",
       "      <td>-0.066263</td>\n",
       "      <td>-0.12296</td>\n",
       "      <td>-0.182349</td>\n",
       "      <td>-0.083584</td>\n",
       "      <td>0.180035</td>\n",
       "      <td>-0.573507</td>\n",
       "      <td>0.557267</td>\n",
       "      <td>0.780310</td>\n",
       "      <td>0.454145</td>\n",
       "    </tr>\n",
       "  </tbody>\n",
       "</table>\n",
       "<p>8000 rows × 11 columns</p>\n",
       "</div>"
      ],
      "text/plain": [
       "            id  author_id  retweet_count  quote_count  reply_count  \\\n",
       "0     0.424004  -0.181818      -0.070380     -0.12296    -0.167816   \n",
       "1    -0.241207   5.500000      -0.057001     -0.12296    -0.182349   \n",
       "2     0.521226  -0.181818      -0.070123     -0.12296    -0.182349   \n",
       "3     0.245749  -0.181818      -0.061375     -0.12296    -0.182349   \n",
       "4     0.663480  -0.181818      -0.070380     -0.12296    -0.167816   \n",
       "...        ...        ...            ...          ...          ...   \n",
       "7995 -0.219960  -0.181818      -0.070380     -0.12296    -0.182349   \n",
       "7996  0.623109  -0.181818      -0.052884     -0.12296    -0.182349   \n",
       "7997  0.461154  -0.181818      -0.056229     -0.12296    -0.182349   \n",
       "7998 -0.111643  -0.181818      -0.070380     -0.12296    -0.153283   \n",
       "7999  0.362870  -0.181818      -0.066263     -0.12296    -0.182349   \n",
       "\n",
       "      like_count  followers_count  following_count  tweet_count  listed_count  \\\n",
       "0      -0.083141        -0.526714         1.120608    -0.728350     -1.211881   \n",
       "1      -0.083584        -0.537650        -0.403988    -1.255952     -1.253184   \n",
       "2      -0.082919        -0.503724        -0.633590     0.451584     -1.062045   \n",
       "3      -0.083584        -0.534623        -0.396478    -1.181277     -1.240522   \n",
       "4      -0.082476        -0.247280        -0.381994     0.166240      0.635901   \n",
       "...          ...              ...              ...          ...           ...   \n",
       "7995   -0.083141         0.180035        -0.573507     0.557267      0.780310   \n",
       "7996   -0.083584        -0.350155        -0.641100    -1.167108      0.091123   \n",
       "7997   -0.083584        -0.534623        -0.396478    -1.181277     -1.240522   \n",
       "7998   -0.077825         0.180035        -0.573507     0.557267      0.780310   \n",
       "7999   -0.083584         0.180035        -0.573507     0.557267      0.780310   \n",
       "\n",
       "      score_compound  \n",
       "0          -0.516603  \n",
       "1          -0.516603  \n",
       "2           0.555099  \n",
       "3           0.279569  \n",
       "4          -1.217993  \n",
       "...              ...  \n",
       "7995       -0.516603  \n",
       "7996        0.184787  \n",
       "7997       -0.516603  \n",
       "7998        0.959578  \n",
       "7999        0.454145  \n",
       "\n",
       "[8000 rows x 11 columns]"
      ]
     },
     "execution_count": 18,
     "metadata": {},
     "output_type": "execute_result"
    }
   ],
   "source": [
    "df_norm"
   ]
  },
  {
   "cell_type": "code",
   "execution_count": 19,
   "id": "2cfdeb26",
   "metadata": {},
   "outputs": [],
   "source": [
    "# using spearman because the data is not normally distributed\n",
    "correlation = df_norm.corr('spearman')"
   ]
  },
  {
   "cell_type": "code",
   "execution_count": 20,
   "id": "d7d51886",
   "metadata": {},
   "outputs": [
    {
     "data": {
      "image/png": "[encoded data removed]",
      "text/plain": [
       "<Figure size 1000x500 with 2 Axes>"
      ]
     },
     "metadata": {},
     "output_type": "display_data"
    }
   ],
   "source": [
    "plt.figure(figsize=(10,5), dpi =100)\n",
    "sns.heatmap(correlation,annot=True,fmt=\".2f\", linewidth=.5)\n",
    "plt.show()"
   ]
  },
  {
   "cell_type": "markdown",
   "id": "bde3242f",
   "metadata": {},
   "source": [
    "the correlation between each categories and the score compound is not very strong, but maybe it could help a little bit on our result later."
   ]
  },
  {
   "cell_type": "markdown",
   "id": "0baca5db",
   "metadata": {},
   "source": [
    "# Using PCA"
   ]
  },
  {
   "cell_type": "code",
   "execution_count": 21,
   "id": "58407382",
   "metadata": {},
   "outputs": [],
   "source": [
    "from sklearn.decomposition import PCA, FastICA"
   ]
  },
  {
   "cell_type": "code",
   "execution_count": 22,
   "id": "2b8d7f69",
   "metadata": {},
   "outputs": [],
   "source": [
    "df_pca = PCA(n_components = 0.95, whiten = True).fit(df_norm.drop(['score_compound'], axis = 1))"
   ]
  },
  {
   "cell_type": "code",
   "execution_count": 23,
   "id": "2d07f389",
   "metadata": {},
   "outputs": [
    {
     "data": {
      "text/plain": [
       "array([0.30314973, 0.20528621, 0.13179466, 0.0974782 , 0.07522493,\n",
       "       0.05693383, 0.04183918, 0.03767138, 0.02879841])"
      ]
     },
     "execution_count": 23,
     "metadata": {},
     "output_type": "execute_result"
    }
   ],
   "source": [
    "df_pca.explained_variance_ratio_"
   ]
  },
  {
   "cell_type": "markdown",
   "id": "d03b65fe",
   "metadata": {},
   "source": [
    "to get 95% of the variance, we need 9 dimension, which is just the total -1. I do not think using PCA will be useful"
   ]
  },
  {
   "cell_type": "markdown",
   "id": "bf2682c3",
   "metadata": {},
   "source": [
    "# PLOT that may be useful"
   ]
  },
  {
   "cell_type": "code",
   "execution_count": null,
   "id": "39d21e84",
   "metadata": {},
   "outputs": [],
   "source": []
  },
  {
   "cell_type": "code",
   "execution_count": null,
   "id": "fef459fa",
   "metadata": {},
   "outputs": [],
   "source": []
  },
  {
   "cell_type": "markdown",
   "id": "77914864",
   "metadata": {
    "id": "77914864"
   },
   "source": [
    "# Obtain the text embeddings\n",
    "\n",
    "When working with natural language processing tasks, such as text classification, it is common to use word embeddings to represent the meaning of words and sentences. Word embeddings are dense vectors that capture the semantic relationships between words in a way that allows for easier processing by machine learning algorithms.\n",
    "\n",
    "The process of creating word embeddings involves training a neural network on a large corpus of text data. However, pre-trained word embeddings are readily available online and can be downloaded and used in your projects. See a complete list of pre-trained models [here](https://github.com/UKPLab/sentence-transformers/blob/master/docs/pretrained-models/sts-models.md). \n",
    "\n",
    "\n",
    "**Note:** When working with pre-trained models, it is important to keep in mind the computational resources required to generate the embeddings. Depending on the size of the model and the amount of text data being processed, generating embeddings may take a significant amount of time. Therefore, it is advisable to save the embeddings locally once they have been generated, to avoid the need to re-generate everytime you may want to make changes in the model (but not in the embedding).\n",
    "\n"
   ]
  },
  {
   "cell_type": "code",
   "execution_count": 24,
   "id": "27ce70f9",
   "metadata": {
    "id": "27ce70f9"
   },
   "outputs": [],
   "source": [
    "# name = 'stsb-distilbert-base'\n",
    "# name = 'all-mpnet-base-v2'\n",
    "name = 'stsb-mpnet-base-v2'\n",
    "# name = 'bert-base-nli-mean-tokens'\n",
    "# name = 'average_word_embeddings_komninos'\n",
    "model = SentenceTransformer(name)\n"
   ]
  },
  {
   "cell_type": "code",
   "execution_count": null,
   "id": "203d3eb9",
   "metadata": {
    "id": "203d3eb9"
   },
   "outputs": [],
   "source": [
    "sentences = list(df.words_str.values)\n",
    "sentence_embeddings = model.encode(sentences)\n",
    "np.save('stsb_mpnet_base_v2_embeddings_all.npy', sentence_embeddings)"
   ]
  },
  {
   "cell_type": "code",
   "execution_count": 25,
   "id": "a36397e7",
   "metadata": {},
   "outputs": [],
   "source": [
    "sentence_embeddings = np.load(\"stsb_mpnet_base_v2_embeddings_all.npy\")"
   ]
  },
  {
   "cell_type": "code",
   "execution_count": 26,
   "id": "ced1378c",
   "metadata": {},
   "outputs": [
    {
     "data": {
      "text/plain": [
       "(8000, 768)"
      ]
     },
     "execution_count": 26,
     "metadata": {},
     "output_type": "execute_result"
    }
   ],
   "source": [
    "sentence_embeddings.shape"
   ]
  },
  {
   "cell_type": "markdown",
   "id": "534d59e9",
   "metadata": {},
   "source": [
    "Aside from the sentence embeddings, we can try to use another nlp method to vectorize the words with \"Bag of Words\" method and \"Gram\" method. "
   ]
  },
  {
   "cell_type": "code",
   "execution_count": 27,
   "id": "b9601aae",
   "metadata": {},
   "outputs": [],
   "source": [
    "from sklearn.feature_extraction.text import CountVectorizer\n",
    "import pickle"
   ]
  },
  {
   "cell_type": "code",
   "execution_count": 28,
   "id": "030559ca",
   "metadata": {},
   "outputs": [],
   "source": [
    "count_vector = {\n",
    "    'words11g.pkl': None,\n",
    "    'words11g100.pkl': None,\n",
    "    'words11g500.pkl': None,\n",
    "    'words11g1000.pkl': None,\n",
    "    'words11g2500.pkl': None,\n",
    "    'words11g5000.pkl': None,\n",
    "    'words22g100.pkl' : None,\n",
    "    'words22g500.pkl' : None,\n",
    "    'words22g1000.pkl' : None,\n",
    "    'words22g2500.pkl' : None,\n",
    "    'words22g5000.pkl' : None,\n",
    "    'words22g10000.pkl' : None,\n",
    "    'words22g20000.pkl' : None,\n",
    "    'words22g25000.pkl' : None,\n",
    "    'words22g30000.pkl' : None,\n",
    "    'words22g40000.pkl' : None,\n",
    "    'words22g50000.pkl' : None,\n",
    "    'words22g60000.pkl' : None,\n",
    "    'words22g70000.pkl' : None,\n",
    "    'words22g80000.pkl' : None,\n",
    "    'words33g.pkl' : None,\n",
    "    'words33g100.pkl' : None,\n",
    "    'words33g500.pkl' : None,\n",
    "    'words33g2500.pkl' : None,\n",
    "    'words33g1000.pkl' : None,\n",
    "    'words33g5000.pkl' : None,\n",
    "    'words33g10000.pkl' : None,\n",
    "    'words33g25000.pkl' : None,\n",
    "    'words33g50000.pkl' : None,\n",
    "    'words33g75000.pkl' : None,\n",
    "    'words12g.pkl' : None,\n",
    "    'words12g100.pkl' : None,\n",
    "    'words12g500.pkl' : None,\n",
    "    'words12g1000.pkl' : None,\n",
    "    'words12g2500.pkl' : None,\n",
    "    'words12g5000.pkl' : None,\n",
    "    'words12g10000.pkl' : None,\n",
    "    'words12g25000.pkl' : None,\n",
    "    'words12g50000.pkl' : None,\n",
    "    'words12g75000.pkl' : None,\n",
    "    'words23g.pkl' : None,\n",
    "    'words23g100.pkl' : None,\n",
    "    'words23g500.pkl' : None,\n",
    "    'words23g1000.pkl' : None,\n",
    "    'words23g2500.pkl' : None,\n",
    "    'words23g5000.pkl' : None,\n",
    "    'words23g10000.pkl' : None,\n",
    "    'words23g25000.pkl' : None,\n",
    "    'words23g50000.pkl' : None,\n",
    "    'words23g75000.pkl' : None,\n",
    "    'words23g100000.pkl' : None,\n",
    "    'words23g125000.pkl' : None,\n",
    "    'words23g150000.pkl' : None,\n",
    "    'words13g.pkl' : None,\n",
    "    'words13g100.pkl' : None,\n",
    "    'words13g500.pkl' : None,\n",
    "    'words13g1000.pkl' : None,\n",
    "    'words13g2500.pkl' : None,\n",
    "    'words13g5000.pkl' : None,\n",
    "    'words13g10000.pkl' : None,\n",
    "    'words13g25000.pkl' : None,\n",
    "    'words13g50000.pkl' : None,\n",
    "    'words13g75000.pkl' : None,\n",
    "    'words13g100000.pkl' : None,\n",
    "    'words13g125000.pkl' : None,\n",
    "    'words13g150000.pkl' : None,\n",
    "    \n",
    "\n",
    "}\n"
   ]
  },
  {
   "cell_type": "code",
   "execution_count": null,
   "id": "d1ddab51",
   "metadata": {},
   "outputs": [],
   "source": []
  },
  {
   "cell_type": "markdown",
   "id": "0b36400e",
   "metadata": {},
   "source": [
    "We will analyze this. First we make few comparisons between BoW with 1-gram, 2-gram, 3-gram, and the union of each categories and also we will look at the top 10% words."
   ]
  },
  {
   "cell_type": "code",
   "execution_count": 29,
   "id": "47d0fe87",
   "metadata": {},
   "outputs": [
    {
     "data": {
      "text/plain": [
       "{'words11g.pkl': None,\n",
       " 'words11g100.pkl': None,\n",
       " 'words11g500.pkl': None,\n",
       " 'words11g1000.pkl': None,\n",
       " 'words11g2500.pkl': None,\n",
       " 'words11g5000.pkl': None,\n",
       " 'words22g100.pkl': None,\n",
       " 'words22g500.pkl': None,\n",
       " 'words22g1000.pkl': None,\n",
       " 'words22g2500.pkl': None,\n",
       " 'words22g5000.pkl': None,\n",
       " 'words22g10000.pkl': None,\n",
       " 'words22g20000.pkl': None,\n",
       " 'words22g25000.pkl': None,\n",
       " 'words22g30000.pkl': None,\n",
       " 'words22g40000.pkl': None,\n",
       " 'words22g50000.pkl': None,\n",
       " 'words22g60000.pkl': None,\n",
       " 'words22g70000.pkl': None,\n",
       " 'words22g80000.pkl': None,\n",
       " 'words33g.pkl': None,\n",
       " 'words33g100.pkl': None,\n",
       " 'words33g500.pkl': None,\n",
       " 'words33g2500.pkl': None,\n",
       " 'words33g1000.pkl': None,\n",
       " 'words33g5000.pkl': None,\n",
       " 'words33g10000.pkl': None,\n",
       " 'words33g25000.pkl': None,\n",
       " 'words33g50000.pkl': None,\n",
       " 'words33g75000.pkl': None,\n",
       " 'words12g.pkl': None,\n",
       " 'words12g100.pkl': None,\n",
       " 'words12g500.pkl': None,\n",
       " 'words12g1000.pkl': None,\n",
       " 'words12g2500.pkl': None,\n",
       " 'words12g5000.pkl': None,\n",
       " 'words12g10000.pkl': None,\n",
       " 'words12g25000.pkl': None,\n",
       " 'words12g50000.pkl': None,\n",
       " 'words12g75000.pkl': None,\n",
       " 'words23g.pkl': None,\n",
       " 'words23g100.pkl': None,\n",
       " 'words23g500.pkl': None,\n",
       " 'words23g1000.pkl': None,\n",
       " 'words23g2500.pkl': None,\n",
       " 'words23g5000.pkl': None,\n",
       " 'words23g10000.pkl': None,\n",
       " 'words23g25000.pkl': None,\n",
       " 'words23g50000.pkl': None,\n",
       " 'words23g75000.pkl': None,\n",
       " 'words23g100000.pkl': None,\n",
       " 'words23g125000.pkl': None,\n",
       " 'words23g150000.pkl': None,\n",
       " 'words13g.pkl': None,\n",
       " 'words13g100.pkl': None,\n",
       " 'words13g500.pkl': None,\n",
       " 'words13g1000.pkl': None,\n",
       " 'words13g2500.pkl': None,\n",
       " 'words13g5000.pkl': None,\n",
       " 'words13g10000.pkl': None,\n",
       " 'words13g25000.pkl': None,\n",
       " 'words13g50000.pkl': None,\n",
       " 'words13g75000.pkl': None,\n",
       " 'words13g100000.pkl': None,\n",
       " 'words13g125000.pkl': None,\n",
       " 'words13g150000.pkl': None}"
      ]
     },
     "execution_count": 29,
     "metadata": {},
     "output_type": "execute_result"
    }
   ],
   "source": [
    "count_vector"
   ]
  },
  {
   "cell_type": "markdown",
   "id": "5437a70e",
   "metadata": {},
   "source": [
    "this has more than 16k unique words, I think we will analyze using 100, 500, 1000, 2500, 5000 top words"
   ]
  },
  {
   "cell_type": "code",
   "execution_count": 30,
   "id": "036f199e",
   "metadata": {},
   "outputs": [],
   "source": [
    "\n",
    "def save_pickle(file_name):\n",
    "    with open('count_vectorizer/'+ file_name, 'wb') as f:\n",
    "        pickle.dump(count_vector[file_name], f)\n",
    "        \n",
    "def load_pickle(file_name):\n",
    "    with open('count_vectorizer/'+ file_name, 'rb') as f:\n",
    "        count_vector[file_name] = pickle.load(f)\n",
    "\n",
    "\n",
    "for key in count_vector.keys():\n",
    "    try:\n",
    "        load_pickle(key)\n",
    "    except:\n",
    "        ngram = (int(key[5]), int(key[6]))\n",
    "        max_feature = key[key.find('g') + 1:key.find('.')]\n",
    "        try:\n",
    "            count_vector[key] = CountVectorizer(ngram_range = ngram, max_features = int(max_feature)).fit_transform(df['words_str'])\n",
    "        except:\n",
    "            count_vector[key] = CountVectorizer(ngram_range = ngram).fit_transform(df['words_str'])\n",
    "        finally:\n",
    "            save_pickle(key)\n",
    "        "
   ]
  },
  {
   "cell_type": "code",
   "execution_count": 31,
   "id": "edf1d98f",
   "metadata": {},
   "outputs": [
    {
     "data": {
      "text/plain": [
       "{'words11g.pkl': <8000x16166 sparse matrix of type '<class 'numpy.int64'>'\n",
       " \twith 100563 stored elements in Compressed Sparse Row format>,\n",
       " 'words11g100.pkl': <8000x100 sparse matrix of type '<class 'numpy.int64'>'\n",
       " \twith 19303 stored elements in Compressed Sparse Row format>,\n",
       " 'words11g500.pkl': <8000x500 sparse matrix of type '<class 'numpy.int64'>'\n",
       " \twith 41833 stored elements in Compressed Sparse Row format>,\n",
       " 'words11g1000.pkl': <8000x1000 sparse matrix of type '<class 'numpy.int64'>'\n",
       " \twith 54939 stored elements in Compressed Sparse Row format>,\n",
       " 'words11g2500.pkl': <8000x2500 sparse matrix of type '<class 'numpy.int64'>'\n",
       " \twith 72939 stored elements in Compressed Sparse Row format>,\n",
       " 'words11g5000.pkl': <8000x5000 sparse matrix of type '<class 'numpy.int64'>'\n",
       " \twith 85164 stored elements in Compressed Sparse Row format>,\n",
       " 'words22g100.pkl': <8000x100 sparse matrix of type '<class 'numpy.int64'>'\n",
       " \twith 1978 stored elements in Compressed Sparse Row format>,\n",
       " 'words22g500.pkl': <8000x500 sparse matrix of type '<class 'numpy.int64'>'\n",
       " \twith 4390 stored elements in Compressed Sparse Row format>,\n",
       " 'words22g1000.pkl': <8000x1000 sparse matrix of type '<class 'numpy.int64'>'\n",
       " \twith 6242 stored elements in Compressed Sparse Row format>,\n",
       " 'words22g2500.pkl': <8000x2500 sparse matrix of type '<class 'numpy.int64'>'\n",
       " \twith 10012 stored elements in Compressed Sparse Row format>,\n",
       " 'words22g5000.pkl': <8000x5000 sparse matrix of type '<class 'numpy.int64'>'\n",
       " \twith 14869 stored elements in Compressed Sparse Row format>,\n",
       " 'words22g10000.pkl': <8000x10000 sparse matrix of type '<class 'numpy.int64'>'\n",
       " \twith 20962 stored elements in Compressed Sparse Row format>,\n",
       " 'words22g20000.pkl': <8000x20000 sparse matrix of type '<class 'numpy.int64'>'\n",
       " \twith 30962 stored elements in Compressed Sparse Row format>,\n",
       " 'words22g25000.pkl': <8000x25000 sparse matrix of type '<class 'numpy.int64'>'\n",
       " \twith 35962 stored elements in Compressed Sparse Row format>,\n",
       " 'words22g30000.pkl': <8000x30000 sparse matrix of type '<class 'numpy.int64'>'\n",
       " \twith 40962 stored elements in Compressed Sparse Row format>,\n",
       " 'words22g40000.pkl': <8000x40000 sparse matrix of type '<class 'numpy.int64'>'\n",
       " \twith 50962 stored elements in Compressed Sparse Row format>,\n",
       " 'words22g50000.pkl': <8000x50000 sparse matrix of type '<class 'numpy.int64'>'\n",
       " \twith 60962 stored elements in Compressed Sparse Row format>,\n",
       " 'words22g60000.pkl': <8000x60000 sparse matrix of type '<class 'numpy.int64'>'\n",
       " \twith 70962 stored elements in Compressed Sparse Row format>,\n",
       " 'words22g70000.pkl': <8000x70000 sparse matrix of type '<class 'numpy.int64'>'\n",
       " \twith 80962 stored elements in Compressed Sparse Row format>,\n",
       " 'words22g80000.pkl': <8000x80000 sparse matrix of type '<class 'numpy.int64'>'\n",
       " \twith 90962 stored elements in Compressed Sparse Row format>,\n",
       " 'words33g.pkl': <8000x87733 sparse matrix of type '<class 'numpy.int64'>'\n",
       " \twith 89220 stored elements in Compressed Sparse Row format>,\n",
       " 'words33g100.pkl': <8000x100 sparse matrix of type '<class 'numpy.int64'>'\n",
       " \twith 497 stored elements in Compressed Sparse Row format>,\n",
       " 'words33g500.pkl': <8000x500 sparse matrix of type '<class 'numpy.int64'>'\n",
       " \twith 1324 stored elements in Compressed Sparse Row format>,\n",
       " 'words33g2500.pkl': <8000x2500 sparse matrix of type '<class 'numpy.int64'>'\n",
       " \twith 3987 stored elements in Compressed Sparse Row format>,\n",
       " 'words33g1000.pkl': <8000x1000 sparse matrix of type '<class 'numpy.int64'>'\n",
       " \twith 2287 stored elements in Compressed Sparse Row format>,\n",
       " 'words33g5000.pkl': <8000x5000 sparse matrix of type '<class 'numpy.int64'>'\n",
       " \twith 6487 stored elements in Compressed Sparse Row format>,\n",
       " 'words33g10000.pkl': <8000x10000 sparse matrix of type '<class 'numpy.int64'>'\n",
       " \twith 11487 stored elements in Compressed Sparse Row format>,\n",
       " 'words33g25000.pkl': <8000x25000 sparse matrix of type '<class 'numpy.int64'>'\n",
       " \twith 26487 stored elements in Compressed Sparse Row format>,\n",
       " 'words33g50000.pkl': <8000x50000 sparse matrix of type '<class 'numpy.int64'>'\n",
       " \twith 51487 stored elements in Compressed Sparse Row format>,\n",
       " 'words33g75000.pkl': <8000x75000 sparse matrix of type '<class 'numpy.int64'>'\n",
       " \twith 76487 stored elements in Compressed Sparse Row format>,\n",
       " 'words12g.pkl': <8000x101813 sparse matrix of type '<class 'numpy.int64'>'\n",
       " \twith 197172 stored elements in Compressed Sparse Row format>,\n",
       " 'words12g100.pkl': <8000x100 sparse matrix of type '<class 'numpy.int64'>'\n",
       " \twith 19353 stored elements in Compressed Sparse Row format>,\n",
       " 'words12g500.pkl': <8000x500 sparse matrix of type '<class 'numpy.int64'>'\n",
       " \twith 42053 stored elements in Compressed Sparse Row format>,\n",
       " 'words12g1000.pkl': <8000x1000 sparse matrix of type '<class 'numpy.int64'>'\n",
       " \twith 55387 stored elements in Compressed Sparse Row format>,\n",
       " 'words12g2500.pkl': <8000x2500 sparse matrix of type '<class 'numpy.int64'>'\n",
       " \twith 74184 stored elements in Compressed Sparse Row format>,\n",
       " 'words12g5000.pkl': <8000x5000 sparse matrix of type '<class 'numpy.int64'>'\n",
       " \twith 87890 stored elements in Compressed Sparse Row format>,\n",
       " 'words12g10000.pkl': <8000x10000 sparse matrix of type '<class 'numpy.int64'>'\n",
       " \twith 100991 stored elements in Compressed Sparse Row format>,\n",
       " 'words12g25000.pkl': <8000x25000 sparse matrix of type '<class 'numpy.int64'>'\n",
       " \twith 120359 stored elements in Compressed Sparse Row format>,\n",
       " 'words12g50000.pkl': <8000x50000 sparse matrix of type '<class 'numpy.int64'>'\n",
       " \twith 145359 stored elements in Compressed Sparse Row format>,\n",
       " 'words12g75000.pkl': <8000x75000 sparse matrix of type '<class 'numpy.int64'>'\n",
       " \twith 170359 stored elements in Compressed Sparse Row format>,\n",
       " 'words23g.pkl': <8000x173380 sparse matrix of type '<class 'numpy.int64'>'\n",
       " \twith 185829 stored elements in Compressed Sparse Row format>,\n",
       " 'words23g100.pkl': <8000x100 sparse matrix of type '<class 'numpy.int64'>'\n",
       " \twith 2053 stored elements in Compressed Sparse Row format>,\n",
       " 'words23g500.pkl': <8000x500 sparse matrix of type '<class 'numpy.int64'>'\n",
       " \twith 4514 stored elements in Compressed Sparse Row format>,\n",
       " 'words23g1000.pkl': <8000x1000 sparse matrix of type '<class 'numpy.int64'>'\n",
       " \twith 6444 stored elements in Compressed Sparse Row format>,\n",
       " 'words23g2500.pkl': <8000x2500 sparse matrix of type '<class 'numpy.int64'>'\n",
       " \twith 10373 stored elements in Compressed Sparse Row format>,\n",
       " 'words23g5000.pkl': <8000x5000 sparse matrix of type '<class 'numpy.int64'>'\n",
       " \twith 15207 stored elements in Compressed Sparse Row format>,\n",
       " 'words23g10000.pkl': <8000x10000 sparse matrix of type '<class 'numpy.int64'>'\n",
       " \twith 22449 stored elements in Compressed Sparse Row format>,\n",
       " 'words23g25000.pkl': <8000x25000 sparse matrix of type '<class 'numpy.int64'>'\n",
       " \twith 37449 stored elements in Compressed Sparse Row format>,\n",
       " 'words23g50000.pkl': <8000x50000 sparse matrix of type '<class 'numpy.int64'>'\n",
       " \twith 62449 stored elements in Compressed Sparse Row format>,\n",
       " 'words23g75000.pkl': <8000x75000 sparse matrix of type '<class 'numpy.int64'>'\n",
       " \twith 87449 stored elements in Compressed Sparse Row format>,\n",
       " 'words23g100000.pkl': <8000x100000 sparse matrix of type '<class 'numpy.int64'>'\n",
       " \twith 112449 stored elements in Compressed Sparse Row format>,\n",
       " 'words23g125000.pkl': <8000x125000 sparse matrix of type '<class 'numpy.int64'>'\n",
       " \twith 137449 stored elements in Compressed Sparse Row format>,\n",
       " 'words23g150000.pkl': <8000x150000 sparse matrix of type '<class 'numpy.int64'>'\n",
       " \twith 162449 stored elements in Compressed Sparse Row format>,\n",
       " 'words13g.pkl': <8000x189546 sparse matrix of type '<class 'numpy.int64'>'\n",
       " \twith 286392 stored elements in Compressed Sparse Row format>,\n",
       " 'words13g100.pkl': <8000x100 sparse matrix of type '<class 'numpy.int64'>'\n",
       " \twith 19353 stored elements in Compressed Sparse Row format>,\n",
       " 'words13g500.pkl': <8000x500 sparse matrix of type '<class 'numpy.int64'>'\n",
       " \twith 42053 stored elements in Compressed Sparse Row format>,\n",
       " 'words13g1000.pkl': <8000x1000 sparse matrix of type '<class 'numpy.int64'>'\n",
       " \twith 55405 stored elements in Compressed Sparse Row format>,\n",
       " 'words13g2500.pkl': <8000x2500 sparse matrix of type '<class 'numpy.int64'>'\n",
       " \twith 74285 stored elements in Compressed Sparse Row format>,\n",
       " 'words13g5000.pkl': <8000x5000 sparse matrix of type '<class 'numpy.int64'>'\n",
       " \twith 88054 stored elements in Compressed Sparse Row format>,\n",
       " 'words13g10000.pkl': <8000x10000 sparse matrix of type '<class 'numpy.int64'>'\n",
       " \twith 101362 stored elements in Compressed Sparse Row format>,\n",
       " 'words13g25000.pkl': <8000x25000 sparse matrix of type '<class 'numpy.int64'>'\n",
       " \twith 121846 stored elements in Compressed Sparse Row format>,\n",
       " 'words13g50000.pkl': <8000x50000 sparse matrix of type '<class 'numpy.int64'>'\n",
       " \twith 146846 stored elements in Compressed Sparse Row format>,\n",
       " 'words13g75000.pkl': <8000x75000 sparse matrix of type '<class 'numpy.int64'>'\n",
       " \twith 171846 stored elements in Compressed Sparse Row format>,\n",
       " 'words13g100000.pkl': <8000x100000 sparse matrix of type '<class 'numpy.int64'>'\n",
       " \twith 196846 stored elements in Compressed Sparse Row format>,\n",
       " 'words13g125000.pkl': <8000x125000 sparse matrix of type '<class 'numpy.int64'>'\n",
       " \twith 221846 stored elements in Compressed Sparse Row format>,\n",
       " 'words13g150000.pkl': <8000x150000 sparse matrix of type '<class 'numpy.int64'>'\n",
       " \twith 246846 stored elements in Compressed Sparse Row format>}"
      ]
     },
     "execution_count": 31,
     "metadata": {},
     "output_type": "execute_result"
    }
   ],
   "source": [
    "count_vector"
   ]
  },
  {
   "cell_type": "markdown",
   "id": "62f65d98",
   "metadata": {},
   "source": [
    "we see that we have a lot of unique words. This of course eats a lot of computational power, so we will analyze it further with 10%, 25% of datasets"
   ]
  },
  {
   "cell_type": "markdown",
   "id": "86306b14",
   "metadata": {},
   "source": [
    "we will use linear regression to analyze this."
   ]
  },
  {
   "cell_type": "code",
   "execution_count": null,
   "id": "561616d6",
   "metadata": {},
   "outputs": [],
   "source": [
    "def test_model(strategy, model, X, y):\n",
    "    sum_rmse = 0\n",
    "    length = 0\n",
    "    for (train, test) in strategy.split(X, y):\n",
    "#         do i need to normalize the input ? I do not think so ?\n",
    "        \n",
    "#         fitting the model\n",
    "        reg = model.fit(X[train], y[train])\n",
    "        y_pred = reg.predict(X[test])\n",
    "        \n",
    "#         calculating the accuracy\n",
    "        rmse = np.sqrt(skm.mean_squared_error(y[test], y_pred))\n",
    "        sum_rmse += rmse\n",
    "        length += 1\n",
    "    return sum_rmse/length\n",
    "#     print(\"\\n strategy = \", strategy, \"\\n model = \", model, \"\\n avg_rmse = \", sum_rmse / length)\n"
   ]
  },
  {
   "cell_type": "code",
   "execution_count": 32,
   "id": "36d9d735",
   "metadata": {},
   "outputs": [
    {
     "ename": "NameError",
     "evalue": "name 'KFold' is not defined",
     "output_type": "error",
     "traceback": [
      "\u001b[1;31m---------------------------------------------------------------------------\u001b[0m",
      "\u001b[1;31mNameError\u001b[0m                                 Traceback (most recent call last)",
      "\u001b[1;32m~\\AppData\\Local\\Temp/ipykernel_20276/2351229766.py\u001b[0m in \u001b[0;36m<module>\u001b[1;34m\u001b[0m\n\u001b[0;32m      1\u001b[0m \u001b[1;31m#strategy for model selection\u001b[0m\u001b[1;33m\u001b[0m\u001b[1;33m\u001b[0m\u001b[0m\n\u001b[1;32m----> 2\u001b[1;33m \u001b[0mkf5\u001b[0m \u001b[1;33m=\u001b[0m \u001b[0mKFold\u001b[0m\u001b[1;33m(\u001b[0m\u001b[0mn_splits\u001b[0m \u001b[1;33m=\u001b[0m \u001b[1;36m5\u001b[0m\u001b[1;33m)\u001b[0m\u001b[1;33m\u001b[0m\u001b[1;33m\u001b[0m\u001b[0m\n\u001b[0m\u001b[0;32m      3\u001b[0m \u001b[0mkf10\u001b[0m \u001b[1;33m=\u001b[0m \u001b[0mKFold\u001b[0m\u001b[1;33m(\u001b[0m\u001b[0mn_splits\u001b[0m \u001b[1;33m=\u001b[0m \u001b[1;36m10\u001b[0m\u001b[1;33m)\u001b[0m\u001b[1;33m\u001b[0m\u001b[1;33m\u001b[0m\u001b[0m\n",
      "\u001b[1;31mNameError\u001b[0m: name 'KFold' is not defined"
     ]
    }
   ],
   "source": [
    "#strategy for model selection\n",
    "kf5 = KFold(n_splits = 5)\n",
    "kf10 = KFold(n_splits = 10)"
   ]
  },
  {
   "cell_type": "code",
   "execution_count": null,
   "id": "2d80d34b",
   "metadata": {},
   "outputs": [],
   "source": [
    "lr = linear_model.LinearRegression(fit_intercept=True, copy_X=True, n_jobs=None, positive=False)"
   ]
  },
  {
   "cell_type": "code",
   "execution_count": null,
   "id": "07faa152",
   "metadata": {
    "scrolled": true
   },
   "outputs": [],
   "source": [
    "rmse_vector = dict()\n",
    "for key in count_vector:\n",
    "    rmse = test_model(kf10, lr, count_vector[key], df['score_compound'])\n",
    "    rmse_vector[key] = rmse\n",
    "rmse_vector"
   ]
  },
  {
   "cell_type": "code",
   "execution_count": null,
   "id": "83822101",
   "metadata": {},
   "outputs": [],
   "source": [
    "# this is just example, in reality i will not use this.\n",
    "# make data\n",
    "x = list(rmse_vector.keys())\n",
    "y = rmse_vector.values()\n",
    "\n",
    "fig, ax = plt.subplots()\n",
    "plt.rcParams[\"figure.figsize\"] = (100,30)\n",
    "# ax.stem(x, y)\n",
    "markerline, stemlines, baseline = ax.stem(x, y)\n",
    "plt.setp(stemlines, 'linewidth', 30)\n",
    "plt.savefig('res.jpg')\n",
    "plt.show()"
   ]
  },
  {
   "cell_type": "code",
   "execution_count": null,
   "id": "05cc659f",
   "metadata": {},
   "outputs": [],
   "source": [
    "print(\"TOP 5 RMSE \\n\")\n",
    "for e in sorted(rmse_vector, key=rmse_vector.get)[:5]:\n",
    "    print(e + \" = \" + str(rmse_vector[e]))"
   ]
  },
  {
   "cell_type": "markdown",
   "id": "898d4c75",
   "metadata": {},
   "source": [
    "trying to use TF-IDF to these  5 models"
   ]
  },
  {
   "cell_type": "code",
   "execution_count": 33,
   "id": "5134d5f5",
   "metadata": {},
   "outputs": [],
   "source": [
    "from sklearn.feature_extraction.text import TfidfTransformer as tfidf"
   ]
  },
  {
   "cell_type": "code",
   "execution_count": null,
   "id": "307fcdbf",
   "metadata": {},
   "outputs": [],
   "source": []
  },
  {
   "cell_type": "code",
   "execution_count": 34,
   "id": "0fdf549b",
   "metadata": {},
   "outputs": [],
   "source": [
    "tfidf_vector = dict()\n",
    "\n",
    "def save_pickle(file_name):\n",
    "    with open('tfidf/' + file_name, 'wb') as f:\n",
    "        pickle.dump(tfidf_vector[file_name], f)\n",
    "        \n",
    "def load_pickle(file_name):\n",
    "    with open('tfidf/' + file_name, 'rb') as f:\n",
    "        tfidf_vector[file_name] = pickle.load(f)\n",
    "\n",
    "for key in count_vector.keys():\n",
    "    try:\n",
    "        load_pickle(key)\n",
    "    except:\n",
    "        tfidf_vector[key] = tfidf().fit_transform(count_vector[key])\n",
    "        save_pickle(key)"
   ]
  },
  {
   "cell_type": "code",
   "execution_count": 35,
   "id": "87063e8a",
   "metadata": {},
   "outputs": [
    {
     "data": {
      "text/plain": [
       "{'words11g.pkl': <8000x16166 sparse matrix of type '<class 'numpy.float64'>'\n",
       " \twith 100563 stored elements in Compressed Sparse Row format>,\n",
       " 'words11g100.pkl': <8000x100 sparse matrix of type '<class 'numpy.float64'>'\n",
       " \twith 19303 stored elements in Compressed Sparse Row format>,\n",
       " 'words11g500.pkl': <8000x500 sparse matrix of type '<class 'numpy.float64'>'\n",
       " \twith 41833 stored elements in Compressed Sparse Row format>,\n",
       " 'words11g1000.pkl': <8000x1000 sparse matrix of type '<class 'numpy.float64'>'\n",
       " \twith 54939 stored elements in Compressed Sparse Row format>,\n",
       " 'words11g2500.pkl': <8000x2500 sparse matrix of type '<class 'numpy.float64'>'\n",
       " \twith 72939 stored elements in Compressed Sparse Row format>,\n",
       " 'words11g5000.pkl': <8000x5000 sparse matrix of type '<class 'numpy.float64'>'\n",
       " \twith 85164 stored elements in Compressed Sparse Row format>,\n",
       " 'words22g100.pkl': <8000x100 sparse matrix of type '<class 'numpy.float64'>'\n",
       " \twith 1978 stored elements in Compressed Sparse Row format>,\n",
       " 'words22g500.pkl': <8000x500 sparse matrix of type '<class 'numpy.float64'>'\n",
       " \twith 4390 stored elements in Compressed Sparse Row format>,\n",
       " 'words22g1000.pkl': <8000x1000 sparse matrix of type '<class 'numpy.float64'>'\n",
       " \twith 6242 stored elements in Compressed Sparse Row format>,\n",
       " 'words22g2500.pkl': <8000x2500 sparse matrix of type '<class 'numpy.float64'>'\n",
       " \twith 10012 stored elements in Compressed Sparse Row format>,\n",
       " 'words22g5000.pkl': <8000x5000 sparse matrix of type '<class 'numpy.float64'>'\n",
       " \twith 14869 stored elements in Compressed Sparse Row format>,\n",
       " 'words22g10000.pkl': <8000x10000 sparse matrix of type '<class 'numpy.float64'>'\n",
       " \twith 20962 stored elements in Compressed Sparse Row format>,\n",
       " 'words22g20000.pkl': <8000x20000 sparse matrix of type '<class 'numpy.float64'>'\n",
       " \twith 30962 stored elements in Compressed Sparse Row format>,\n",
       " 'words22g25000.pkl': <8000x25000 sparse matrix of type '<class 'numpy.float64'>'\n",
       " \twith 35962 stored elements in Compressed Sparse Row format>,\n",
       " 'words22g30000.pkl': <8000x30000 sparse matrix of type '<class 'numpy.float64'>'\n",
       " \twith 40962 stored elements in Compressed Sparse Row format>,\n",
       " 'words22g40000.pkl': <8000x40000 sparse matrix of type '<class 'numpy.float64'>'\n",
       " \twith 50962 stored elements in Compressed Sparse Row format>,\n",
       " 'words22g50000.pkl': <8000x50000 sparse matrix of type '<class 'numpy.float64'>'\n",
       " \twith 60962 stored elements in Compressed Sparse Row format>,\n",
       " 'words22g60000.pkl': <8000x60000 sparse matrix of type '<class 'numpy.float64'>'\n",
       " \twith 70962 stored elements in Compressed Sparse Row format>,\n",
       " 'words22g70000.pkl': <8000x70000 sparse matrix of type '<class 'numpy.float64'>'\n",
       " \twith 80962 stored elements in Compressed Sparse Row format>,\n",
       " 'words22g80000.pkl': <8000x80000 sparse matrix of type '<class 'numpy.float64'>'\n",
       " \twith 90962 stored elements in Compressed Sparse Row format>,\n",
       " 'words33g.pkl': <8000x87733 sparse matrix of type '<class 'numpy.float64'>'\n",
       " \twith 89220 stored elements in Compressed Sparse Row format>,\n",
       " 'words33g100.pkl': <8000x100 sparse matrix of type '<class 'numpy.float64'>'\n",
       " \twith 497 stored elements in Compressed Sparse Row format>,\n",
       " 'words33g500.pkl': <8000x500 sparse matrix of type '<class 'numpy.float64'>'\n",
       " \twith 1324 stored elements in Compressed Sparse Row format>,\n",
       " 'words33g2500.pkl': <8000x2500 sparse matrix of type '<class 'numpy.float64'>'\n",
       " \twith 3987 stored elements in Compressed Sparse Row format>,\n",
       " 'words33g1000.pkl': <8000x1000 sparse matrix of type '<class 'numpy.float64'>'\n",
       " \twith 2287 stored elements in Compressed Sparse Row format>,\n",
       " 'words33g5000.pkl': <8000x5000 sparse matrix of type '<class 'numpy.float64'>'\n",
       " \twith 6487 stored elements in Compressed Sparse Row format>,\n",
       " 'words33g10000.pkl': <8000x10000 sparse matrix of type '<class 'numpy.float64'>'\n",
       " \twith 11487 stored elements in Compressed Sparse Row format>,\n",
       " 'words33g25000.pkl': <8000x25000 sparse matrix of type '<class 'numpy.float64'>'\n",
       " \twith 26487 stored elements in Compressed Sparse Row format>,\n",
       " 'words33g50000.pkl': <8000x50000 sparse matrix of type '<class 'numpy.float64'>'\n",
       " \twith 51487 stored elements in Compressed Sparse Row format>,\n",
       " 'words33g75000.pkl': <8000x75000 sparse matrix of type '<class 'numpy.float64'>'\n",
       " \twith 76487 stored elements in Compressed Sparse Row format>,\n",
       " 'words12g.pkl': <8000x101813 sparse matrix of type '<class 'numpy.float64'>'\n",
       " \twith 197172 stored elements in Compressed Sparse Row format>,\n",
       " 'words12g100.pkl': <8000x100 sparse matrix of type '<class 'numpy.float64'>'\n",
       " \twith 19353 stored elements in Compressed Sparse Row format>,\n",
       " 'words12g500.pkl': <8000x500 sparse matrix of type '<class 'numpy.float64'>'\n",
       " \twith 42053 stored elements in Compressed Sparse Row format>,\n",
       " 'words12g1000.pkl': <8000x1000 sparse matrix of type '<class 'numpy.float64'>'\n",
       " \twith 55387 stored elements in Compressed Sparse Row format>,\n",
       " 'words12g2500.pkl': <8000x2500 sparse matrix of type '<class 'numpy.float64'>'\n",
       " \twith 74184 stored elements in Compressed Sparse Row format>,\n",
       " 'words12g5000.pkl': <8000x5000 sparse matrix of type '<class 'numpy.float64'>'\n",
       " \twith 87890 stored elements in Compressed Sparse Row format>,\n",
       " 'words12g10000.pkl': <8000x10000 sparse matrix of type '<class 'numpy.float64'>'\n",
       " \twith 100991 stored elements in Compressed Sparse Row format>,\n",
       " 'words12g25000.pkl': <8000x25000 sparse matrix of type '<class 'numpy.float64'>'\n",
       " \twith 120359 stored elements in Compressed Sparse Row format>,\n",
       " 'words12g50000.pkl': <8000x50000 sparse matrix of type '<class 'numpy.float64'>'\n",
       " \twith 145359 stored elements in Compressed Sparse Row format>,\n",
       " 'words12g75000.pkl': <8000x75000 sparse matrix of type '<class 'numpy.float64'>'\n",
       " \twith 170359 stored elements in Compressed Sparse Row format>,\n",
       " 'words23g.pkl': <8000x173380 sparse matrix of type '<class 'numpy.float64'>'\n",
       " \twith 185829 stored elements in Compressed Sparse Row format>,\n",
       " 'words23g100.pkl': <8000x100 sparse matrix of type '<class 'numpy.float64'>'\n",
       " \twith 2053 stored elements in Compressed Sparse Row format>,\n",
       " 'words23g500.pkl': <8000x500 sparse matrix of type '<class 'numpy.float64'>'\n",
       " \twith 4514 stored elements in Compressed Sparse Row format>,\n",
       " 'words23g1000.pkl': <8000x1000 sparse matrix of type '<class 'numpy.float64'>'\n",
       " \twith 6444 stored elements in Compressed Sparse Row format>,\n",
       " 'words23g2500.pkl': <8000x2500 sparse matrix of type '<class 'numpy.float64'>'\n",
       " \twith 10373 stored elements in Compressed Sparse Row format>,\n",
       " 'words23g5000.pkl': <8000x5000 sparse matrix of type '<class 'numpy.float64'>'\n",
       " \twith 15207 stored elements in Compressed Sparse Row format>,\n",
       " 'words23g10000.pkl': <8000x10000 sparse matrix of type '<class 'numpy.float64'>'\n",
       " \twith 22449 stored elements in Compressed Sparse Row format>,\n",
       " 'words23g25000.pkl': <8000x25000 sparse matrix of type '<class 'numpy.float64'>'\n",
       " \twith 37449 stored elements in Compressed Sparse Row format>,\n",
       " 'words23g50000.pkl': <8000x50000 sparse matrix of type '<class 'numpy.float64'>'\n",
       " \twith 62449 stored elements in Compressed Sparse Row format>,\n",
       " 'words23g75000.pkl': <8000x75000 sparse matrix of type '<class 'numpy.float64'>'\n",
       " \twith 87449 stored elements in Compressed Sparse Row format>,\n",
       " 'words23g100000.pkl': <8000x100000 sparse matrix of type '<class 'numpy.float64'>'\n",
       " \twith 112449 stored elements in Compressed Sparse Row format>,\n",
       " 'words23g125000.pkl': <8000x125000 sparse matrix of type '<class 'numpy.float64'>'\n",
       " \twith 137449 stored elements in Compressed Sparse Row format>,\n",
       " 'words23g150000.pkl': <8000x150000 sparse matrix of type '<class 'numpy.float64'>'\n",
       " \twith 162449 stored elements in Compressed Sparse Row format>,\n",
       " 'words13g.pkl': <8000x189546 sparse matrix of type '<class 'numpy.float64'>'\n",
       " \twith 286392 stored elements in Compressed Sparse Row format>,\n",
       " 'words13g100.pkl': <8000x100 sparse matrix of type '<class 'numpy.float64'>'\n",
       " \twith 19353 stored elements in Compressed Sparse Row format>,\n",
       " 'words13g500.pkl': <8000x500 sparse matrix of type '<class 'numpy.float64'>'\n",
       " \twith 42053 stored elements in Compressed Sparse Row format>,\n",
       " 'words13g1000.pkl': <8000x1000 sparse matrix of type '<class 'numpy.float64'>'\n",
       " \twith 55405 stored elements in Compressed Sparse Row format>,\n",
       " 'words13g2500.pkl': <8000x2500 sparse matrix of type '<class 'numpy.float64'>'\n",
       " \twith 74285 stored elements in Compressed Sparse Row format>,\n",
       " 'words13g5000.pkl': <8000x5000 sparse matrix of type '<class 'numpy.float64'>'\n",
       " \twith 88054 stored elements in Compressed Sparse Row format>,\n",
       " 'words13g10000.pkl': <8000x10000 sparse matrix of type '<class 'numpy.float64'>'\n",
       " \twith 101362 stored elements in Compressed Sparse Row format>,\n",
       " 'words13g25000.pkl': <8000x25000 sparse matrix of type '<class 'numpy.float64'>'\n",
       " \twith 121846 stored elements in Compressed Sparse Row format>,\n",
       " 'words13g50000.pkl': <8000x50000 sparse matrix of type '<class 'numpy.float64'>'\n",
       " \twith 146846 stored elements in Compressed Sparse Row format>,\n",
       " 'words13g75000.pkl': <8000x75000 sparse matrix of type '<class 'numpy.float64'>'\n",
       " \twith 171846 stored elements in Compressed Sparse Row format>,\n",
       " 'words13g100000.pkl': <8000x100000 sparse matrix of type '<class 'numpy.float64'>'\n",
       " \twith 196846 stored elements in Compressed Sparse Row format>,\n",
       " 'words13g125000.pkl': <8000x125000 sparse matrix of type '<class 'numpy.float64'>'\n",
       " \twith 221846 stored elements in Compressed Sparse Row format>,\n",
       " 'words13g150000.pkl': <8000x150000 sparse matrix of type '<class 'numpy.float64'>'\n",
       " \twith 246846 stored elements in Compressed Sparse Row format>}"
      ]
     },
     "execution_count": 35,
     "metadata": {},
     "output_type": "execute_result"
    }
   ],
   "source": [
    "tfidf_vector"
   ]
  },
  {
   "cell_type": "code",
   "execution_count": null,
   "id": "28a4b6da",
   "metadata": {
    "scrolled": true
   },
   "outputs": [],
   "source": [
    "rmse_tfidf_vector = dict()\n",
    "for key in tfidf_vector:\n",
    "    rmse = test_model(kf10, lr, tfidf_vector[key], df['score_compound'])\n",
    "    rmse_tfidf_vector[key] = rmse\n",
    "rmse_tfidf_vector"
   ]
  },
  {
   "cell_type": "code",
   "execution_count": null,
   "id": "4f4f582b",
   "metadata": {},
   "outputs": [],
   "source": [
    "print(\"TOP 5 RMSE \\n\")\n",
    "for e in sorted(rmse_tfidf_vector, key=rmse_tfidf_vector.get)[:5]:\n",
    "    print(e + \" = \" + str(rmse_tfidf_vector[e]))"
   ]
  },
  {
   "cell_type": "markdown",
   "id": "ef5bd266",
   "metadata": {},
   "source": [
    "# problem is that how to incorporate another dimension so that the weight is good ?"
   ]
  },
  {
   "cell_type": "code",
   "execution_count": null,
   "id": "9b7af5ee",
   "metadata": {},
   "outputs": [],
   "source": []
  },
  {
   "cell_type": "code",
   "execution_count": 289,
   "id": "32af0e77",
   "metadata": {},
   "outputs": [],
   "source": [
    "dfa = df_norm.drop(['score_compound'], axis = 1).to_numpy()"
   ]
  },
  {
   "cell_type": "code",
   "execution_count": null,
   "id": "33cb7ad7",
   "metadata": {},
   "outputs": [],
   "source": [
    "words1g1000.toarray()"
   ]
  },
  {
   "cell_type": "code",
   "execution_count": 290,
   "id": "8c2c38e8",
   "metadata": {},
   "outputs": [],
   "source": [
    "dfa = np.append(dfa, count_vector['words12g.pkl'].toarray(), axis = 1)"
   ]
  },
  {
   "cell_type": "code",
   "execution_count": 291,
   "id": "d57f941f",
   "metadata": {},
   "outputs": [
    {
     "data": {
      "text/plain": [
       "(8000, 101823)"
      ]
     },
     "execution_count": 291,
     "metadata": {},
     "output_type": "execute_result"
    }
   ],
   "source": [
    "dfa.shape"
   ]
  },
  {
   "cell_type": "markdown",
   "id": "1dffe8ac",
   "metadata": {},
   "source": [
    "if we have time, let's try to make all of them.\n",
    "but for now, we will pick words12g75000_tfidf"
   ]
  },
  {
   "cell_type": "markdown",
   "id": "02b5e59b",
   "metadata": {},
   "source": [
    "# Trying to test with many regression models"
   ]
  },
  {
   "cell_type": "markdown",
   "id": "f42b1650",
   "metadata": {},
   "source": [
    "we will use the top 5 tfidf and Bag of Words for testing the models."
   ]
  },
  {
   "cell_type": "markdown",
   "id": "0422163a",
   "metadata": {},
   "source": [
    "another problem to note is the imbalance of the data. Maybe try to balance it first by making more data points? Or pruning them.\n",
    "\n",
    "using SMOTE iirc, we can do it but for categorical values."
   ]
  },
  {
   "cell_type": "code",
   "execution_count": 36,
   "id": "0d3210ce",
   "metadata": {},
   "outputs": [],
   "source": [
    "from sklearn.linear_model import LinearRegression as LR\n",
    "from sklearn.linear_model import Lasso, Perceptron\n",
    "from sklearn.linear_model import BayesianRidge as BR\n",
    "from sklearn.linear_model import SGDRegressor as SGD\n",
    "from sklearn.svm import SVR\n",
    "from sklearn.neighbors import RadiusNeighborsRegressor as RNR, KNeighborsRegressor as KNR\n",
    "from sklearn.tree import DecisionTreeRegressor as DTR\n",
    "import xgboost"
   ]
  },
  {
   "cell_type": "code",
   "execution_count": null,
   "id": "96ad29a0",
   "metadata": {},
   "outputs": [],
   "source": [
    "# model\n",
    "\n",
    "model = {\n",
    "    'lr' : LR(n_jobs = -1),\n",
    "    'lasso' : Lasso(),\n",
    "    'sgd': SGD(),\n",
    "#     'br' : BR(), have to be dense matrix, am lazy to do it\n",
    "    'svr' : SVR(),\n",
    "    'knr' : KNR(n_jobs = -1),\n",
    "#     'dtr' : DTR(),\n",
    "    'xgb': xgboost.XGBRegressor(n_jobs = -1)\n",
    "}"
   ]
  },
  {
   "cell_type": "code",
   "execution_count": null,
   "id": "a47ea8bd",
   "metadata": {},
   "outputs": [],
   "source": [
    "rmse_model_vector = dict()\n",
    "\n",
    "for key in model.keys():\n",
    "    rmse_score = dict()\n",
    "    for e in sorted(rmse_vector, key=rmse_vector.get)[:3]:\n",
    "        rmse = test_model(kf10, model[key], count_vector[e], df['score_compound'])\n",
    "        rmse_score[e] = rmse\n",
    "    rmse_model_vector[key] = rmse_score\n",
    "rmse_model_vector"
   ]
  },
  {
   "cell_type": "code",
   "execution_count": null,
   "id": "d7c3f38c",
   "metadata": {},
   "outputs": [],
   "source": [
    "rmse_tfidf_model_vector = dict()\n",
    "for key in model.keys():\n",
    "    rmse_score = dict()\n",
    "    for e in sorted(rmse_tfidf_vector, key=rmse_tfidf_vector.get)[:3]:\n",
    "        rmse = test_model(kf10, model[key], tfidf_vector[e], df['score_compound'])\n",
    "        rmse_score[e] = rmse\n",
    "    rmse_tfidf_model_vector[key] = rmse_score\n",
    "rmse_tfidf_model_vector"
   ]
  },
  {
   "cell_type": "code",
   "execution_count": null,
   "id": "2b2db151",
   "metadata": {},
   "outputs": [],
   "source": [
    "for key in model.keys():\n",
    "    print(test_model(kf10, model[key], sentence_embeddings, df['score_compound']))"
   ]
  },
  {
   "cell_type": "markdown",
   "id": "27bb4907",
   "metadata": {},
   "source": [
    "we will take xgb and lr and try to enhance the accuracy"
   ]
  },
  {
   "cell_type": "code",
   "execution_count": 42,
   "id": "96841033",
   "metadata": {},
   "outputs": [],
   "source": [
    "from sklearn.model_selection import GridSearchCV\n",
    "from sklearn.metrics import make_scorer\n",
    "import math"
   ]
  },
  {
   "cell_type": "code",
   "execution_count": 101,
   "id": "85d4c9ac",
   "metadata": {},
   "outputs": [],
   "source": [
    "def rmse_func(y_true, y_pred):\n",
    "    predict = np.array(y_true)\n",
    "    actual = np.array(y_pred)\n",
    "\n",
    "    distance = y_pred - y_true\n",
    "\n",
    "    square_distance = distance ** 2\n",
    "\n",
    "    mean_square_distance = square_distance.mean()\n",
    "\n",
    "    score = np.sqrt(mean_square_distance)\n",
    "    return score\n",
    "\n",
    "rmse_score = make_scorer(rmse_func, greater_is_better = False)"
   ]
  },
  {
   "cell_type": "code",
   "execution_count": 102,
   "id": "98da146c",
   "metadata": {},
   "outputs": [],
   "source": [
    "# explicitly require this experimental feature\n",
    "from sklearn.experimental import enable_halving_search_cv # noqa\n",
    "# now you can import normally from model_selection\n",
    "from sklearn.model_selection import HalvingGridSearchCV"
   ]
  },
  {
   "cell_type": "code",
   "execution_count": 298,
   "id": "69304aeb",
   "metadata": {},
   "outputs": [],
   "source": [
    "xgb = xgboost.XGBRegressor(n_jobs = -1, eval_metric = 'rmse')\n"
   ]
  },
  {
   "cell_type": "code",
   "execution_count": 299,
   "id": "1b040d7c",
   "metadata": {},
   "outputs": [],
   "source": [
    "xgb_param = {\n",
    "    'n_estimators' : [1000],\n",
    "    'max_depth': [4],\n",
    "    'booster': [\"gbtree\"], # dart is better but really slow, ryan coba di pc nya.\n",
    "    'eta' : [0.35],\n",
    "    'gamma': [0],\n",
    "    'min_child_weight': [1],\n",
    "    'subsample': [1],\n",
    "    'lambda': [1],\n",
    "    'alpha': [0]\n",
    "    \n",
    "    \n",
    "}"
   ]
  },
  {
   "cell_type": "code",
   "execution_count": 300,
   "id": "834ffdeb",
   "metadata": {},
   "outputs": [],
   "source": [
    "res = GridSearchCV(xgb, xgb_param, cv = 10, error_score = 'raise', scoring = rmse_score, verbose = 3)"
   ]
  },
  {
   "cell_type": "code",
   "execution_count": 302,
   "id": "66caeb49",
   "metadata": {},
   "outputs": [],
   "source": [
    "# using sentence embedding is so slow, try to use ryan's pc. "
   ]
  },
  {
   "cell_type": "code",
   "execution_count": 303,
   "id": "ff55edb6",
   "metadata": {
    "scrolled": true
   },
   "outputs": [
    {
     "name": "stdout",
     "output_type": "stream",
     "text": [
      "Fitting 10 folds for each of 1 candidates, totalling 10 fits\n",
      "[CV 1/10] END alpha=0, booster=gbtree, eta=0.35, gamma=0, lambda=1, max_depth=4, min_child_weight=1, n_estimators=1000, subsample=1;, score=-0.299 total time=53.6min\n"
     ]
    },
    {
     "ename": "KeyboardInterrupt",
     "evalue": "",
     "output_type": "error",
     "traceback": [
      "\u001b[1;31m---------------------------------------------------------------------------\u001b[0m",
      "\u001b[1;31mKeyboardInterrupt\u001b[0m                         Traceback (most recent call last)",
      "\u001b[1;32m~\\AppData\\Local\\Temp/ipykernel_20276/3837119651.py\u001b[0m in \u001b[0;36m<module>\u001b[1;34m\u001b[0m\n\u001b[1;32m----> 1\u001b[1;33m \u001b[0mres\u001b[0m\u001b[1;33m.\u001b[0m\u001b[0mfit\u001b[0m\u001b[1;33m(\u001b[0m\u001b[0mdfa\u001b[0m\u001b[1;33m,\u001b[0m \u001b[0mdf\u001b[0m\u001b[1;33m[\u001b[0m\u001b[1;34m'score_compound'\u001b[0m\u001b[1;33m]\u001b[0m\u001b[1;33m)\u001b[0m\u001b[1;33m\u001b[0m\u001b[1;33m\u001b[0m\u001b[0m\n\u001b[0m",
      "\u001b[1;32m~\\miniconda3\\lib\\site-packages\\sklearn\\model_selection\\_search.py\u001b[0m in \u001b[0;36mfit\u001b[1;34m(self, X, y, groups, **fit_params)\u001b[0m\n\u001b[0;32m    872\u001b[0m                 \u001b[1;32mreturn\u001b[0m \u001b[0mresults\u001b[0m\u001b[1;33m\u001b[0m\u001b[1;33m\u001b[0m\u001b[0m\n\u001b[0;32m    873\u001b[0m \u001b[1;33m\u001b[0m\u001b[0m\n\u001b[1;32m--> 874\u001b[1;33m             \u001b[0mself\u001b[0m\u001b[1;33m.\u001b[0m\u001b[0m_run_search\u001b[0m\u001b[1;33m(\u001b[0m\u001b[0mevaluate_candidates\u001b[0m\u001b[1;33m)\u001b[0m\u001b[1;33m\u001b[0m\u001b[1;33m\u001b[0m\u001b[0m\n\u001b[0m\u001b[0;32m    875\u001b[0m \u001b[1;33m\u001b[0m\u001b[0m\n\u001b[0;32m    876\u001b[0m             \u001b[1;31m# multimetric is determined here because in the case of a callable\u001b[0m\u001b[1;33m\u001b[0m\u001b[1;33m\u001b[0m\u001b[0m\n",
      "\u001b[1;32m~\\miniconda3\\lib\\site-packages\\sklearn\\model_selection\\_search.py\u001b[0m in \u001b[0;36m_run_search\u001b[1;34m(self, evaluate_candidates)\u001b[0m\n\u001b[0;32m   1386\u001b[0m     \u001b[1;32mdef\u001b[0m \u001b[0m_run_search\u001b[0m\u001b[1;33m(\u001b[0m\u001b[0mself\u001b[0m\u001b[1;33m,\u001b[0m \u001b[0mevaluate_candidates\u001b[0m\u001b[1;33m)\u001b[0m\u001b[1;33m:\u001b[0m\u001b[1;33m\u001b[0m\u001b[1;33m\u001b[0m\u001b[0m\n\u001b[0;32m   1387\u001b[0m         \u001b[1;34m\"\"\"Search all candidates in param_grid\"\"\"\u001b[0m\u001b[1;33m\u001b[0m\u001b[1;33m\u001b[0m\u001b[0m\n\u001b[1;32m-> 1388\u001b[1;33m         \u001b[0mevaluate_candidates\u001b[0m\u001b[1;33m(\u001b[0m\u001b[0mParameterGrid\u001b[0m\u001b[1;33m(\u001b[0m\u001b[0mself\u001b[0m\u001b[1;33m.\u001b[0m\u001b[0mparam_grid\u001b[0m\u001b[1;33m)\u001b[0m\u001b[1;33m)\u001b[0m\u001b[1;33m\u001b[0m\u001b[1;33m\u001b[0m\u001b[0m\n\u001b[0m\u001b[0;32m   1389\u001b[0m \u001b[1;33m\u001b[0m\u001b[0m\n\u001b[0;32m   1390\u001b[0m \u001b[1;33m\u001b[0m\u001b[0m\n",
      "\u001b[1;32m~\\miniconda3\\lib\\site-packages\\sklearn\\model_selection\\_search.py\u001b[0m in \u001b[0;36mevaluate_candidates\u001b[1;34m(candidate_params, cv, more_results)\u001b[0m\n\u001b[0;32m    819\u001b[0m                     )\n\u001b[0;32m    820\u001b[0m \u001b[1;33m\u001b[0m\u001b[0m\n\u001b[1;32m--> 821\u001b[1;33m                 out = parallel(\n\u001b[0m\u001b[0;32m    822\u001b[0m                     delayed(_fit_and_score)(\n\u001b[0;32m    823\u001b[0m                         \u001b[0mclone\u001b[0m\u001b[1;33m(\u001b[0m\u001b[0mbase_estimator\u001b[0m\u001b[1;33m)\u001b[0m\u001b[1;33m,\u001b[0m\u001b[1;33m\u001b[0m\u001b[1;33m\u001b[0m\u001b[0m\n",
      "\u001b[1;32m~\\miniconda3\\lib\\site-packages\\sklearn\\utils\\parallel.py\u001b[0m in \u001b[0;36m__call__\u001b[1;34m(self, iterable)\u001b[0m\n\u001b[0;32m     61\u001b[0m             \u001b[1;32mfor\u001b[0m \u001b[0mdelayed_func\u001b[0m\u001b[1;33m,\u001b[0m \u001b[0margs\u001b[0m\u001b[1;33m,\u001b[0m \u001b[0mkwargs\u001b[0m \u001b[1;32min\u001b[0m \u001b[0miterable\u001b[0m\u001b[1;33m\u001b[0m\u001b[1;33m\u001b[0m\u001b[0m\n\u001b[0;32m     62\u001b[0m         )\n\u001b[1;32m---> 63\u001b[1;33m         \u001b[1;32mreturn\u001b[0m \u001b[0msuper\u001b[0m\u001b[1;33m(\u001b[0m\u001b[1;33m)\u001b[0m\u001b[1;33m.\u001b[0m\u001b[0m__call__\u001b[0m\u001b[1;33m(\u001b[0m\u001b[0miterable_with_config\u001b[0m\u001b[1;33m)\u001b[0m\u001b[1;33m\u001b[0m\u001b[1;33m\u001b[0m\u001b[0m\n\u001b[0m\u001b[0;32m     64\u001b[0m \u001b[1;33m\u001b[0m\u001b[0m\n\u001b[0;32m     65\u001b[0m \u001b[1;33m\u001b[0m\u001b[0m\n",
      "\u001b[1;32m~\\miniconda3\\lib\\site-packages\\joblib\\parallel.py\u001b[0m in \u001b[0;36m__call__\u001b[1;34m(self, iterable)\u001b[0m\n\u001b[0;32m   1086\u001b[0m                 \u001b[0mself\u001b[0m\u001b[1;33m.\u001b[0m\u001b[0m_iterating\u001b[0m \u001b[1;33m=\u001b[0m \u001b[0mself\u001b[0m\u001b[1;33m.\u001b[0m\u001b[0m_original_iterator\u001b[0m \u001b[1;32mis\u001b[0m \u001b[1;32mnot\u001b[0m \u001b[1;32mNone\u001b[0m\u001b[1;33m\u001b[0m\u001b[1;33m\u001b[0m\u001b[0m\n\u001b[0;32m   1087\u001b[0m \u001b[1;33m\u001b[0m\u001b[0m\n\u001b[1;32m-> 1088\u001b[1;33m             \u001b[1;32mwhile\u001b[0m \u001b[0mself\u001b[0m\u001b[1;33m.\u001b[0m\u001b[0mdispatch_one_batch\u001b[0m\u001b[1;33m(\u001b[0m\u001b[0miterator\u001b[0m\u001b[1;33m)\u001b[0m\u001b[1;33m:\u001b[0m\u001b[1;33m\u001b[0m\u001b[1;33m\u001b[0m\u001b[0m\n\u001b[0m\u001b[0;32m   1089\u001b[0m                 \u001b[1;32mpass\u001b[0m\u001b[1;33m\u001b[0m\u001b[1;33m\u001b[0m\u001b[0m\n\u001b[0;32m   1090\u001b[0m \u001b[1;33m\u001b[0m\u001b[0m\n",
      "\u001b[1;32m~\\miniconda3\\lib\\site-packages\\joblib\\parallel.py\u001b[0m in \u001b[0;36mdispatch_one_batch\u001b[1;34m(self, iterator)\u001b[0m\n\u001b[0;32m    899\u001b[0m                 \u001b[1;32mreturn\u001b[0m \u001b[1;32mFalse\u001b[0m\u001b[1;33m\u001b[0m\u001b[1;33m\u001b[0m\u001b[0m\n\u001b[0;32m    900\u001b[0m             \u001b[1;32melse\u001b[0m\u001b[1;33m:\u001b[0m\u001b[1;33m\u001b[0m\u001b[1;33m\u001b[0m\u001b[0m\n\u001b[1;32m--> 901\u001b[1;33m                 \u001b[0mself\u001b[0m\u001b[1;33m.\u001b[0m\u001b[0m_dispatch\u001b[0m\u001b[1;33m(\u001b[0m\u001b[0mtasks\u001b[0m\u001b[1;33m)\u001b[0m\u001b[1;33m\u001b[0m\u001b[1;33m\u001b[0m\u001b[0m\n\u001b[0m\u001b[0;32m    902\u001b[0m                 \u001b[1;32mreturn\u001b[0m \u001b[1;32mTrue\u001b[0m\u001b[1;33m\u001b[0m\u001b[1;33m\u001b[0m\u001b[0m\n\u001b[0;32m    903\u001b[0m \u001b[1;33m\u001b[0m\u001b[0m\n",
      "\u001b[1;32m~\\miniconda3\\lib\\site-packages\\joblib\\parallel.py\u001b[0m in \u001b[0;36m_dispatch\u001b[1;34m(self, batch)\u001b[0m\n\u001b[0;32m    817\u001b[0m         \u001b[1;32mwith\u001b[0m \u001b[0mself\u001b[0m\u001b[1;33m.\u001b[0m\u001b[0m_lock\u001b[0m\u001b[1;33m:\u001b[0m\u001b[1;33m\u001b[0m\u001b[1;33m\u001b[0m\u001b[0m\n\u001b[0;32m    818\u001b[0m             \u001b[0mjob_idx\u001b[0m \u001b[1;33m=\u001b[0m \u001b[0mlen\u001b[0m\u001b[1;33m(\u001b[0m\u001b[0mself\u001b[0m\u001b[1;33m.\u001b[0m\u001b[0m_jobs\u001b[0m\u001b[1;33m)\u001b[0m\u001b[1;33m\u001b[0m\u001b[1;33m\u001b[0m\u001b[0m\n\u001b[1;32m--> 819\u001b[1;33m             \u001b[0mjob\u001b[0m \u001b[1;33m=\u001b[0m \u001b[0mself\u001b[0m\u001b[1;33m.\u001b[0m\u001b[0m_backend\u001b[0m\u001b[1;33m.\u001b[0m\u001b[0mapply_async\u001b[0m\u001b[1;33m(\u001b[0m\u001b[0mbatch\u001b[0m\u001b[1;33m,\u001b[0m \u001b[0mcallback\u001b[0m\u001b[1;33m=\u001b[0m\u001b[0mcb\u001b[0m\u001b[1;33m)\u001b[0m\u001b[1;33m\u001b[0m\u001b[1;33m\u001b[0m\u001b[0m\n\u001b[0m\u001b[0;32m    820\u001b[0m             \u001b[1;31m# A job can complete so quickly than its callback is\u001b[0m\u001b[1;33m\u001b[0m\u001b[1;33m\u001b[0m\u001b[0m\n\u001b[0;32m    821\u001b[0m             \u001b[1;31m# called before we get here, causing self._jobs to\u001b[0m\u001b[1;33m\u001b[0m\u001b[1;33m\u001b[0m\u001b[0m\n",
      "\u001b[1;32m~\\miniconda3\\lib\\site-packages\\joblib\\_parallel_backends.py\u001b[0m in \u001b[0;36mapply_async\u001b[1;34m(self, func, callback)\u001b[0m\n\u001b[0;32m    206\u001b[0m     \u001b[1;32mdef\u001b[0m \u001b[0mapply_async\u001b[0m\u001b[1;33m(\u001b[0m\u001b[0mself\u001b[0m\u001b[1;33m,\u001b[0m \u001b[0mfunc\u001b[0m\u001b[1;33m,\u001b[0m \u001b[0mcallback\u001b[0m\u001b[1;33m=\u001b[0m\u001b[1;32mNone\u001b[0m\u001b[1;33m)\u001b[0m\u001b[1;33m:\u001b[0m\u001b[1;33m\u001b[0m\u001b[1;33m\u001b[0m\u001b[0m\n\u001b[0;32m    207\u001b[0m         \u001b[1;34m\"\"\"Schedule a func to be run\"\"\"\u001b[0m\u001b[1;33m\u001b[0m\u001b[1;33m\u001b[0m\u001b[0m\n\u001b[1;32m--> 208\u001b[1;33m         \u001b[0mresult\u001b[0m \u001b[1;33m=\u001b[0m \u001b[0mImmediateResult\u001b[0m\u001b[1;33m(\u001b[0m\u001b[0mfunc\u001b[0m\u001b[1;33m)\u001b[0m\u001b[1;33m\u001b[0m\u001b[1;33m\u001b[0m\u001b[0m\n\u001b[0m\u001b[0;32m    209\u001b[0m         \u001b[1;32mif\u001b[0m \u001b[0mcallback\u001b[0m\u001b[1;33m:\u001b[0m\u001b[1;33m\u001b[0m\u001b[1;33m\u001b[0m\u001b[0m\n\u001b[0;32m    210\u001b[0m             \u001b[0mcallback\u001b[0m\u001b[1;33m(\u001b[0m\u001b[0mresult\u001b[0m\u001b[1;33m)\u001b[0m\u001b[1;33m\u001b[0m\u001b[1;33m\u001b[0m\u001b[0m\n",
      "\u001b[1;32m~\\miniconda3\\lib\\site-packages\\joblib\\_parallel_backends.py\u001b[0m in \u001b[0;36m__init__\u001b[1;34m(self, batch)\u001b[0m\n\u001b[0;32m    595\u001b[0m         \u001b[1;31m# Don't delay the application, to avoid keeping the input\u001b[0m\u001b[1;33m\u001b[0m\u001b[1;33m\u001b[0m\u001b[0m\n\u001b[0;32m    596\u001b[0m         \u001b[1;31m# arguments in memory\u001b[0m\u001b[1;33m\u001b[0m\u001b[1;33m\u001b[0m\u001b[0m\n\u001b[1;32m--> 597\u001b[1;33m         \u001b[0mself\u001b[0m\u001b[1;33m.\u001b[0m\u001b[0mresults\u001b[0m \u001b[1;33m=\u001b[0m \u001b[0mbatch\u001b[0m\u001b[1;33m(\u001b[0m\u001b[1;33m)\u001b[0m\u001b[1;33m\u001b[0m\u001b[1;33m\u001b[0m\u001b[0m\n\u001b[0m\u001b[0;32m    598\u001b[0m \u001b[1;33m\u001b[0m\u001b[0m\n\u001b[0;32m    599\u001b[0m     \u001b[1;32mdef\u001b[0m \u001b[0mget\u001b[0m\u001b[1;33m(\u001b[0m\u001b[0mself\u001b[0m\u001b[1;33m)\u001b[0m\u001b[1;33m:\u001b[0m\u001b[1;33m\u001b[0m\u001b[1;33m\u001b[0m\u001b[0m\n",
      "\u001b[1;32m~\\miniconda3\\lib\\site-packages\\joblib\\parallel.py\u001b[0m in \u001b[0;36m__call__\u001b[1;34m(self)\u001b[0m\n\u001b[0;32m    286\u001b[0m         \u001b[1;31m# change the default number of processes to -1\u001b[0m\u001b[1;33m\u001b[0m\u001b[1;33m\u001b[0m\u001b[0m\n\u001b[0;32m    287\u001b[0m         \u001b[1;32mwith\u001b[0m \u001b[0mparallel_backend\u001b[0m\u001b[1;33m(\u001b[0m\u001b[0mself\u001b[0m\u001b[1;33m.\u001b[0m\u001b[0m_backend\u001b[0m\u001b[1;33m,\u001b[0m \u001b[0mn_jobs\u001b[0m\u001b[1;33m=\u001b[0m\u001b[0mself\u001b[0m\u001b[1;33m.\u001b[0m\u001b[0m_n_jobs\u001b[0m\u001b[1;33m)\u001b[0m\u001b[1;33m:\u001b[0m\u001b[1;33m\u001b[0m\u001b[1;33m\u001b[0m\u001b[0m\n\u001b[1;32m--> 288\u001b[1;33m             return [func(*args, **kwargs)\n\u001b[0m\u001b[0;32m    289\u001b[0m                     for func, args, kwargs in self.items]\n\u001b[0;32m    290\u001b[0m \u001b[1;33m\u001b[0m\u001b[0m\n",
      "\u001b[1;32m~\\miniconda3\\lib\\site-packages\\joblib\\parallel.py\u001b[0m in \u001b[0;36m<listcomp>\u001b[1;34m(.0)\u001b[0m\n\u001b[0;32m    286\u001b[0m         \u001b[1;31m# change the default number of processes to -1\u001b[0m\u001b[1;33m\u001b[0m\u001b[1;33m\u001b[0m\u001b[0m\n\u001b[0;32m    287\u001b[0m         \u001b[1;32mwith\u001b[0m \u001b[0mparallel_backend\u001b[0m\u001b[1;33m(\u001b[0m\u001b[0mself\u001b[0m\u001b[1;33m.\u001b[0m\u001b[0m_backend\u001b[0m\u001b[1;33m,\u001b[0m \u001b[0mn_jobs\u001b[0m\u001b[1;33m=\u001b[0m\u001b[0mself\u001b[0m\u001b[1;33m.\u001b[0m\u001b[0m_n_jobs\u001b[0m\u001b[1;33m)\u001b[0m\u001b[1;33m:\u001b[0m\u001b[1;33m\u001b[0m\u001b[1;33m\u001b[0m\u001b[0m\n\u001b[1;32m--> 288\u001b[1;33m             return [func(*args, **kwargs)\n\u001b[0m\u001b[0;32m    289\u001b[0m                     for func, args, kwargs in self.items]\n\u001b[0;32m    290\u001b[0m \u001b[1;33m\u001b[0m\u001b[0m\n",
      "\u001b[1;32m~\\miniconda3\\lib\\site-packages\\sklearn\\utils\\parallel.py\u001b[0m in \u001b[0;36m__call__\u001b[1;34m(self, *args, **kwargs)\u001b[0m\n\u001b[0;32m    121\u001b[0m             \u001b[0mconfig\u001b[0m \u001b[1;33m=\u001b[0m \u001b[1;33m{\u001b[0m\u001b[1;33m}\u001b[0m\u001b[1;33m\u001b[0m\u001b[1;33m\u001b[0m\u001b[0m\n\u001b[0;32m    122\u001b[0m         \u001b[1;32mwith\u001b[0m \u001b[0mconfig_context\u001b[0m\u001b[1;33m(\u001b[0m\u001b[1;33m**\u001b[0m\u001b[0mconfig\u001b[0m\u001b[1;33m)\u001b[0m\u001b[1;33m:\u001b[0m\u001b[1;33m\u001b[0m\u001b[1;33m\u001b[0m\u001b[0m\n\u001b[1;32m--> 123\u001b[1;33m             \u001b[1;32mreturn\u001b[0m \u001b[0mself\u001b[0m\u001b[1;33m.\u001b[0m\u001b[0mfunction\u001b[0m\u001b[1;33m(\u001b[0m\u001b[1;33m*\u001b[0m\u001b[0margs\u001b[0m\u001b[1;33m,\u001b[0m \u001b[1;33m**\u001b[0m\u001b[0mkwargs\u001b[0m\u001b[1;33m)\u001b[0m\u001b[1;33m\u001b[0m\u001b[1;33m\u001b[0m\u001b[0m\n\u001b[0m",
      "\u001b[1;32m~\\miniconda3\\lib\\site-packages\\sklearn\\model_selection\\_validation.py\u001b[0m in \u001b[0;36m_fit_and_score\u001b[1;34m(estimator, X, y, scorer, train, test, verbose, parameters, fit_params, return_train_score, return_parameters, return_n_test_samples, return_times, return_estimator, split_progress, candidate_progress, error_score)\u001b[0m\n\u001b[0;32m    684\u001b[0m             \u001b[0mestimator\u001b[0m\u001b[1;33m.\u001b[0m\u001b[0mfit\u001b[0m\u001b[1;33m(\u001b[0m\u001b[0mX_train\u001b[0m\u001b[1;33m,\u001b[0m \u001b[1;33m**\u001b[0m\u001b[0mfit_params\u001b[0m\u001b[1;33m)\u001b[0m\u001b[1;33m\u001b[0m\u001b[1;33m\u001b[0m\u001b[0m\n\u001b[0;32m    685\u001b[0m         \u001b[1;32melse\u001b[0m\u001b[1;33m:\u001b[0m\u001b[1;33m\u001b[0m\u001b[1;33m\u001b[0m\u001b[0m\n\u001b[1;32m--> 686\u001b[1;33m             \u001b[0mestimator\u001b[0m\u001b[1;33m.\u001b[0m\u001b[0mfit\u001b[0m\u001b[1;33m(\u001b[0m\u001b[0mX_train\u001b[0m\u001b[1;33m,\u001b[0m \u001b[0my_train\u001b[0m\u001b[1;33m,\u001b[0m \u001b[1;33m**\u001b[0m\u001b[0mfit_params\u001b[0m\u001b[1;33m)\u001b[0m\u001b[1;33m\u001b[0m\u001b[1;33m\u001b[0m\u001b[0m\n\u001b[0m\u001b[0;32m    687\u001b[0m \u001b[1;33m\u001b[0m\u001b[0m\n\u001b[0;32m    688\u001b[0m     \u001b[1;32mexcept\u001b[0m \u001b[0mException\u001b[0m\u001b[1;33m:\u001b[0m\u001b[1;33m\u001b[0m\u001b[1;33m\u001b[0m\u001b[0m\n",
      "\u001b[1;32m~\\miniconda3\\lib\\site-packages\\xgboost\\core.py\u001b[0m in \u001b[0;36minner_f\u001b[1;34m(*args, **kwargs)\u001b[0m\n\u001b[0;32m    618\u001b[0m             \u001b[1;32mfor\u001b[0m \u001b[0mk\u001b[0m\u001b[1;33m,\u001b[0m \u001b[0marg\u001b[0m \u001b[1;32min\u001b[0m \u001b[0mzip\u001b[0m\u001b[1;33m(\u001b[0m\u001b[0msig\u001b[0m\u001b[1;33m.\u001b[0m\u001b[0mparameters\u001b[0m\u001b[1;33m,\u001b[0m \u001b[0margs\u001b[0m\u001b[1;33m)\u001b[0m\u001b[1;33m:\u001b[0m\u001b[1;33m\u001b[0m\u001b[1;33m\u001b[0m\u001b[0m\n\u001b[0;32m    619\u001b[0m                 \u001b[0mkwargs\u001b[0m\u001b[1;33m[\u001b[0m\u001b[0mk\u001b[0m\u001b[1;33m]\u001b[0m \u001b[1;33m=\u001b[0m \u001b[0marg\u001b[0m\u001b[1;33m\u001b[0m\u001b[1;33m\u001b[0m\u001b[0m\n\u001b[1;32m--> 620\u001b[1;33m             \u001b[1;32mreturn\u001b[0m \u001b[0mfunc\u001b[0m\u001b[1;33m(\u001b[0m\u001b[1;33m**\u001b[0m\u001b[0mkwargs\u001b[0m\u001b[1;33m)\u001b[0m\u001b[1;33m\u001b[0m\u001b[1;33m\u001b[0m\u001b[0m\n\u001b[0m\u001b[0;32m    621\u001b[0m \u001b[1;33m\u001b[0m\u001b[0m\n\u001b[0;32m    622\u001b[0m         \u001b[1;32mreturn\u001b[0m \u001b[0minner_f\u001b[0m\u001b[1;33m\u001b[0m\u001b[1;33m\u001b[0m\u001b[0m\n",
      "\u001b[1;32m~\\miniconda3\\lib\\site-packages\\xgboost\\sklearn.py\u001b[0m in \u001b[0;36mfit\u001b[1;34m(self, X, y, sample_weight, base_margin, eval_set, eval_metric, early_stopping_rounds, verbose, xgb_model, sample_weight_eval_set, base_margin_eval_set, feature_weights, callbacks)\u001b[0m\n\u001b[0;32m   1023\u001b[0m                 \u001b[0mxgb_model\u001b[0m\u001b[1;33m,\u001b[0m \u001b[0meval_metric\u001b[0m\u001b[1;33m,\u001b[0m \u001b[0mparams\u001b[0m\u001b[1;33m,\u001b[0m \u001b[0mearly_stopping_rounds\u001b[0m\u001b[1;33m,\u001b[0m \u001b[0mcallbacks\u001b[0m\u001b[1;33m\u001b[0m\u001b[1;33m\u001b[0m\u001b[0m\n\u001b[0;32m   1024\u001b[0m             )\n\u001b[1;32m-> 1025\u001b[1;33m             self._Booster = train(\n\u001b[0m\u001b[0;32m   1026\u001b[0m                 \u001b[0mparams\u001b[0m\u001b[1;33m,\u001b[0m\u001b[1;33m\u001b[0m\u001b[1;33m\u001b[0m\u001b[0m\n\u001b[0;32m   1027\u001b[0m                 \u001b[0mtrain_dmatrix\u001b[0m\u001b[1;33m,\u001b[0m\u001b[1;33m\u001b[0m\u001b[1;33m\u001b[0m\u001b[0m\n",
      "\u001b[1;32m~\\miniconda3\\lib\\site-packages\\xgboost\\core.py\u001b[0m in \u001b[0;36minner_f\u001b[1;34m(*args, **kwargs)\u001b[0m\n\u001b[0;32m    618\u001b[0m             \u001b[1;32mfor\u001b[0m \u001b[0mk\u001b[0m\u001b[1;33m,\u001b[0m \u001b[0marg\u001b[0m \u001b[1;32min\u001b[0m \u001b[0mzip\u001b[0m\u001b[1;33m(\u001b[0m\u001b[0msig\u001b[0m\u001b[1;33m.\u001b[0m\u001b[0mparameters\u001b[0m\u001b[1;33m,\u001b[0m \u001b[0margs\u001b[0m\u001b[1;33m)\u001b[0m\u001b[1;33m:\u001b[0m\u001b[1;33m\u001b[0m\u001b[1;33m\u001b[0m\u001b[0m\n\u001b[0;32m    619\u001b[0m                 \u001b[0mkwargs\u001b[0m\u001b[1;33m[\u001b[0m\u001b[0mk\u001b[0m\u001b[1;33m]\u001b[0m \u001b[1;33m=\u001b[0m \u001b[0marg\u001b[0m\u001b[1;33m\u001b[0m\u001b[1;33m\u001b[0m\u001b[0m\n\u001b[1;32m--> 620\u001b[1;33m             \u001b[1;32mreturn\u001b[0m \u001b[0mfunc\u001b[0m\u001b[1;33m(\u001b[0m\u001b[1;33m**\u001b[0m\u001b[0mkwargs\u001b[0m\u001b[1;33m)\u001b[0m\u001b[1;33m\u001b[0m\u001b[1;33m\u001b[0m\u001b[0m\n\u001b[0m\u001b[0;32m    621\u001b[0m \u001b[1;33m\u001b[0m\u001b[0m\n\u001b[0;32m    622\u001b[0m         \u001b[1;32mreturn\u001b[0m \u001b[0minner_f\u001b[0m\u001b[1;33m\u001b[0m\u001b[1;33m\u001b[0m\u001b[0m\n",
      "\u001b[1;32m~\\miniconda3\\lib\\site-packages\\xgboost\\training.py\u001b[0m in \u001b[0;36mtrain\u001b[1;34m(params, dtrain, num_boost_round, evals, obj, feval, maximize, early_stopping_rounds, evals_result, verbose_eval, xgb_model, callbacks, custom_metric)\u001b[0m\n\u001b[0;32m    183\u001b[0m         \u001b[1;32mif\u001b[0m \u001b[0mcb_container\u001b[0m\u001b[1;33m.\u001b[0m\u001b[0mbefore_iteration\u001b[0m\u001b[1;33m(\u001b[0m\u001b[0mbst\u001b[0m\u001b[1;33m,\u001b[0m \u001b[0mi\u001b[0m\u001b[1;33m,\u001b[0m \u001b[0mdtrain\u001b[0m\u001b[1;33m,\u001b[0m \u001b[0mevals\u001b[0m\u001b[1;33m)\u001b[0m\u001b[1;33m:\u001b[0m\u001b[1;33m\u001b[0m\u001b[1;33m\u001b[0m\u001b[0m\n\u001b[0;32m    184\u001b[0m             \u001b[1;32mbreak\u001b[0m\u001b[1;33m\u001b[0m\u001b[1;33m\u001b[0m\u001b[0m\n\u001b[1;32m--> 185\u001b[1;33m         \u001b[0mbst\u001b[0m\u001b[1;33m.\u001b[0m\u001b[0mupdate\u001b[0m\u001b[1;33m(\u001b[0m\u001b[0mdtrain\u001b[0m\u001b[1;33m,\u001b[0m \u001b[0mi\u001b[0m\u001b[1;33m,\u001b[0m \u001b[0mobj\u001b[0m\u001b[1;33m)\u001b[0m\u001b[1;33m\u001b[0m\u001b[1;33m\u001b[0m\u001b[0m\n\u001b[0m\u001b[0;32m    186\u001b[0m         \u001b[1;32mif\u001b[0m \u001b[0mcb_container\u001b[0m\u001b[1;33m.\u001b[0m\u001b[0mafter_iteration\u001b[0m\u001b[1;33m(\u001b[0m\u001b[0mbst\u001b[0m\u001b[1;33m,\u001b[0m \u001b[0mi\u001b[0m\u001b[1;33m,\u001b[0m \u001b[0mdtrain\u001b[0m\u001b[1;33m,\u001b[0m \u001b[0mevals\u001b[0m\u001b[1;33m)\u001b[0m\u001b[1;33m:\u001b[0m\u001b[1;33m\u001b[0m\u001b[1;33m\u001b[0m\u001b[0m\n\u001b[0;32m    187\u001b[0m             \u001b[1;32mbreak\u001b[0m\u001b[1;33m\u001b[0m\u001b[1;33m\u001b[0m\u001b[0m\n",
      "\u001b[1;32m~\\miniconda3\\lib\\site-packages\\xgboost\\core.py\u001b[0m in \u001b[0;36mupdate\u001b[1;34m(self, dtrain, iteration, fobj)\u001b[0m\n\u001b[0;32m   1916\u001b[0m \u001b[1;33m\u001b[0m\u001b[0m\n\u001b[0;32m   1917\u001b[0m         \u001b[1;32mif\u001b[0m \u001b[0mfobj\u001b[0m \u001b[1;32mis\u001b[0m \u001b[1;32mNone\u001b[0m\u001b[1;33m:\u001b[0m\u001b[1;33m\u001b[0m\u001b[1;33m\u001b[0m\u001b[0m\n\u001b[1;32m-> 1918\u001b[1;33m             _check_call(_LIB.XGBoosterUpdateOneIter(self.handle,\n\u001b[0m\u001b[0;32m   1919\u001b[0m                                                     \u001b[0mctypes\u001b[0m\u001b[1;33m.\u001b[0m\u001b[0mc_int\u001b[0m\u001b[1;33m(\u001b[0m\u001b[0miteration\u001b[0m\u001b[1;33m)\u001b[0m\u001b[1;33m,\u001b[0m\u001b[1;33m\u001b[0m\u001b[1;33m\u001b[0m\u001b[0m\n\u001b[0;32m   1920\u001b[0m                                                     dtrain.handle))\n",
      "\u001b[1;31mKeyboardInterrupt\u001b[0m: "
     ]
    }
   ],
   "source": [
    "res.fit(count_vector['words12g.pkl'], df['score_compound'])"
   ]
  },
  {
   "cell_type": "code",
   "execution_count": null,
   "id": "ecdfc05a",
   "metadata": {
    "scrolled": true
   },
   "outputs": [],
   "source": [
    "res.best_params_"
   ]
  },
  {
   "cell_type": "code",
   "execution_count": null,
   "id": "bda6289e",
   "metadata": {
    "scrolled": true
   },
   "outputs": [],
   "source": [
    "res.cv_results_"
   ]
  },
  {
   "cell_type": "markdown",
   "id": "9c2323d4",
   "metadata": {
    "id": "9c2323d4"
   },
   "source": [
    "# Linear regression"
   ]
  },
  {
   "cell_type": "markdown",
   "id": "GjxnefI-aSOZ",
   "metadata": {
    "id": "GjxnefI-aSOZ"
   },
   "source": [
    "In this part, we will solve an linear regression task to predict our target `score_compound`, i.e. continous sentiment score of tweets, using our features which are encodings of the tweets.\n"
   ]
  },
  {
   "cell_type": "code",
   "execution_count": 248,
   "id": "HTijDT6YctxD",
   "metadata": {
    "id": "HTijDT6YctxD"
   },
   "outputs": [],
   "source": [
    "#define some functions for plotting purposes\n",
    "\n",
    "def plot_y_continous(y, bins=10, show=True, title=None):\n",
    "    fig, ax = plt.subplots(1, 1)\n",
    "    _ = ax.hist(y, bins=bins)\n",
    "    if isinstance(title, str):\n",
    "        ax.set_title(title)\n",
    "    plt.tight_layout()\n",
    "    if show: plt.show()\n",
    "\n",
    "def plot_scatter(x, y,  show=True, x_label=None, y_label=None,  title=None):\n",
    "    fig, ax = plt.subplots(1, 1)\n",
    "    _ = ax.scatter(x,y)\n",
    "    if isinstance(title, str):\n",
    "        ax.set_title(title)\n",
    "    if isinstance(x_label, str):\n",
    "        ax.set_xlabel(x_label)\n",
    "    if isinstance(y_label, str):\n",
    "        ax.set_ylabel(y_label)\n",
    "    plt.tight_layout()\n",
    "    if show: plt.show()\n",
    "    "
   ]
  },
  {
   "cell_type": "code",
   "execution_count": 249,
   "id": "-tij9jWO4p_n",
   "metadata": {
    "colab": {
     "base_uri": "https://localhost:8080/"
    },
    "executionInfo": {
     "elapsed": 10,
     "status": "ok",
     "timestamp": 1682351209849,
     "user": {
      "displayName": "Batuhan Koyuncu",
      "userId": "13470316719110860762"
     },
     "user_tz": -120
    },
    "id": "-tij9jWO4p_n",
    "outputId": "e5d7781d-037a-48e1-eaab-14a6e7c7705f"
   },
   "outputs": [
    {
     "name": "stdout",
     "output_type": "stream",
     "text": [
      "X: (8000, 768)\n",
      "y: (8000,)\n"
     ]
    }
   ],
   "source": [
    "#create X (feature matrix) and y (targets)\n",
    "X = sentence_embeddings\n",
    "y = df.score_compound.values\n",
    "print(f\"X: {X.shape}\")\n",
    "print(f\"y: {y.shape}\")\n",
    "\n"
   ]
  },
  {
   "cell_type": "code",
   "execution_count": 250,
   "id": "027c24f9",
   "metadata": {
    "colab": {
     "base_uri": "https://localhost:8080/",
     "height": 487
    },
    "executionInfo": {
     "elapsed": 10,
     "status": "ok",
     "timestamp": 1682351209850,
     "user": {
      "displayName": "Batuhan Koyuncu",
      "userId": "13470316719110860762"
     },
     "user_tz": -120
    },
    "id": "027c24f9",
    "outputId": "b5a1b9ca-70f3-46db-bd36-9fb45c165f41"
   },
   "outputs": [
    {
     "data": {
      "image/png": "[encoded data removed]",
      "text/plain": [
       "<Figure size 640x480 with 1 Axes>"
      ]
     },
     "metadata": {},
     "output_type": "display_data"
    }
   ],
   "source": [
    "plt.close('all')\n",
    "plot_y_continous(y, bins=20, title='Histogram of Target variable')"
   ]
  },
  {
   "cell_type": "markdown",
   "id": "2_CBqwiigmaF",
   "metadata": {
    "id": "2_CBqwiigmaF"
   },
   "source": [
    "In its simplest form, predictions of a linear regression model can be summarized as\n",
    "\n",
    "$$\n",
    "\\hat{y} = \\mathbf{w}^T \\mathbf{x} = f(\\mathbf{x},\\mathbf{w})\n",
    "$$\n",
    "\n",
    "which can be optimized the cost functions \n",
    "\n",
    "$$\n",
    "\\mathbf{w}^{*}=\\underset{\\mathbf{w}}{\\arg \\min } \\frac{1}{n} \\sum_{i=1}^{n}\\left(y_{i}-f\\left(\\mathbf{x}_{i}, \\mathbf{w}\\right)\\right)^{2}\n",
    "$$"
   ]
  },
  {
   "cell_type": "code",
   "execution_count": 252,
   "id": "5377a1d1",
   "metadata": {
    "id": "5377a1d1"
   },
   "outputs": [],
   "source": [
    "from sklearn import linear_model, svm, tree, metrics\n",
    "from sklearn.experimental import enable_halving_search_cv\n",
    "from sklearn.model_selection import train_test_split, HalvingGridSearchCV\n",
    "from sklearn.model_selection import KFold, StratifiedKFold\n",
    "from sklearn.naive_bayes import ComplementNB\n",
    "import sklearn.metrics as skm\n",
    "import numpy as np"
   ]
  },
  {
   "cell_type": "code",
   "execution_count": 253,
   "id": "215770dd",
   "metadata": {},
   "outputs": [],
   "source": [
    "from imblearn.combine import SMOTEENN"
   ]
  },
  {
   "cell_type": "code",
   "execution_count": 332,
   "id": "JzZwQFApeUBd",
   "metadata": {
    "id": "JzZwQFApeUBd"
   },
   "outputs": [],
   "source": [
    "#split X and y for training and validation purposes\n",
    "X = df['words_str']\n",
    "X_train, X_val, y_train, y_val = train_test_split(X, y, test_size=0.25, random_state=42)\n",
    "X_ = CountVectorizer(ngram_range = (1,2)).fit(X_train)\n",
    "X_train = X_.transform(X_train)\n",
    "X_val= (X_).transform(X_val)\n",
    "\n",
    "datasets = [\n",
    "    [X_train, y_train],\n",
    "    [X_val, y_val]\n",
    "]\n",
    "\n",
    "#create our linear regression model\n",
    "# reg = linear_model.LinearRegression(fit_intercept=True, copy_X=True, n_jobs=None, positive=False)"
   ]
  },
  {
   "cell_type": "markdown",
   "id": "TarmeeGneDFb",
   "metadata": {
    "id": "TarmeeGneDFb"
   },
   "source": [
    "Now fit a linear regression model on the training data."
   ]
  },
  {
   "cell_type": "code",
   "execution_count": 335,
   "id": "0154442a",
   "metadata": {
    "id": "0154442a"
   },
   "outputs": [
    {
     "data": {
      "text/html": [
       "<style>#sk-container-id-38 {color: black;background-color: white;}#sk-container-id-38 pre{padding: 0;}#sk-container-id-38 div.sk-toggleable {background-color: white;}#sk-container-id-38 label.sk-toggleable__label {cursor: pointer;display: block;width: 100%;margin-bottom: 0;padding: 0.3em;box-sizing: border-box;text-align: center;}#sk-container-id-38 label.sk-toggleable__label-arrow:before {content: \"▸\";float: left;margin-right: 0.25em;color: #696969;}#sk-container-id-38 label.sk-toggleable__label-arrow:hover:before {color: black;}#sk-container-id-38 div.sk-estimator:hover label.sk-toggleable__label-arrow:before {color: black;}#sk-container-id-38 div.sk-toggleable__content {max-height: 0;max-width: 0;overflow: hidden;text-align: left;background-color: #f0f8ff;}#sk-container-id-38 div.sk-toggleable__content pre {margin: 0.2em;color: black;border-radius: 0.25em;background-color: #f0f8ff;}#sk-container-id-38 input.sk-toggleable__control:checked~div.sk-toggleable__content {max-height: 200px;max-width: 100%;overflow: auto;}#sk-container-id-38 input.sk-toggleable__control:checked~label.sk-toggleable__label-arrow:before {content: \"▾\";}#sk-container-id-38 div.sk-estimator input.sk-toggleable__control:checked~label.sk-toggleable__label {background-color: #d4ebff;}#sk-container-id-38 div.sk-label input.sk-toggleable__control:checked~label.sk-toggleable__label {background-color: #d4ebff;}#sk-container-id-38 input.sk-hidden--visually {border: 0;clip: rect(1px 1px 1px 1px);clip: rect(1px, 1px, 1px, 1px);height: 1px;margin: -1px;overflow: hidden;padding: 0;position: absolute;width: 1px;}#sk-container-id-38 div.sk-estimator {font-family: monospace;background-color: #f0f8ff;border: 1px dotted black;border-radius: 0.25em;box-sizing: border-box;margin-bottom: 0.5em;}#sk-container-id-38 div.sk-estimator:hover {background-color: #d4ebff;}#sk-container-id-38 div.sk-parallel-item::after {content: \"\";width: 100%;border-bottom: 1px solid gray;flex-grow: 1;}#sk-container-id-38 div.sk-label:hover label.sk-toggleable__label {background-color: #d4ebff;}#sk-container-id-38 div.sk-serial::before {content: \"\";position: absolute;border-left: 1px solid gray;box-sizing: border-box;top: 0;bottom: 0;left: 50%;z-index: 0;}#sk-container-id-38 div.sk-serial {display: flex;flex-direction: column;align-items: center;background-color: white;padding-right: 0.2em;padding-left: 0.2em;position: relative;}#sk-container-id-38 div.sk-item {position: relative;z-index: 1;}#sk-container-id-38 div.sk-parallel {display: flex;align-items: stretch;justify-content: center;background-color: white;position: relative;}#sk-container-id-38 div.sk-item::before, #sk-container-id-38 div.sk-parallel-item::before {content: \"\";position: absolute;border-left: 1px solid gray;box-sizing: border-box;top: 0;bottom: 0;left: 50%;z-index: -1;}#sk-container-id-38 div.sk-parallel-item {display: flex;flex-direction: column;z-index: 1;position: relative;background-color: white;}#sk-container-id-38 div.sk-parallel-item:first-child::after {align-self: flex-end;width: 50%;}#sk-container-id-38 div.sk-parallel-item:last-child::after {align-self: flex-start;width: 50%;}#sk-container-id-38 div.sk-parallel-item:only-child::after {width: 0;}#sk-container-id-38 div.sk-dashed-wrapped {border: 1px dashed gray;margin: 0 0.4em 0.5em 0.4em;box-sizing: border-box;padding-bottom: 0.4em;background-color: white;}#sk-container-id-38 div.sk-label label {font-family: monospace;font-weight: bold;display: inline-block;line-height: 1.2em;}#sk-container-id-38 div.sk-label-container {text-align: center;}#sk-container-id-38 div.sk-container {/* jupyter's `normalize.less` sets `[hidden] { display: none; }` but bootstrap.min.css set `[hidden] { display: none !important; }` so we also need the `!important` here to be able to override the default hidden behavior on the sphinx rendered scikit-learn.org. See: https://github.com/scikit-learn/scikit-learn/issues/21755 */display: inline-block !important;position: relative;}#sk-container-id-38 div.sk-text-repr-fallback {display: none;}</style><div id=\"sk-container-id-38\" class=\"sk-top-container\"><div class=\"sk-text-repr-fallback\"><pre>XGBRegressor(alpha=1, base_score=None, booster=&#x27;gbtree&#x27;, callbacks=None,\n",
       "             colsample_bylevel=None, colsample_bynode=None,\n",
       "             colsample_bytree=None, early_stopping_rounds=None,\n",
       "             enable_categorical=False, eta=0.35, eval_metric=&#x27;rmse&#x27;,\n",
       "             feature_types=None, gamma=0, gpu_id=None, grow_policy=None,\n",
       "             importance_type=None, interaction_constraints=None,\n",
       "             learning_rate=None, max_bin=None, max_cat_threshold=None,\n",
       "             max_cat_to_onehot=None, max_delta_step=None, max_depth=4,\n",
       "             max_leaves=None, min_child_weight=1, missing=nan,\n",
       "             monotone_constraints=None, n_estimators=500, n_jobs=-1,\n",
       "             num_parallel_tree=None, ...)</pre><b>In a Jupyter environment, please rerun this cell to show the HTML representation or trust the notebook. <br />On GitHub, the HTML representation is unable to render, please try loading this page with nbviewer.org.</b></div><div class=\"sk-container\" hidden><div class=\"sk-item\"><div class=\"sk-estimator sk-toggleable\"><input class=\"sk-toggleable__control sk-hidden--visually\" id=\"sk-estimator-id-82\" type=\"checkbox\" checked><label for=\"sk-estimator-id-82\" class=\"sk-toggleable__label sk-toggleable__label-arrow\">XGBRegressor</label><div class=\"sk-toggleable__content\"><pre>XGBRegressor(alpha=1, base_score=None, booster=&#x27;gbtree&#x27;, callbacks=None,\n",
       "             colsample_bylevel=None, colsample_bynode=None,\n",
       "             colsample_bytree=None, early_stopping_rounds=None,\n",
       "             enable_categorical=False, eta=0.35, eval_metric=&#x27;rmse&#x27;,\n",
       "             feature_types=None, gamma=0, gpu_id=None, grow_policy=None,\n",
       "             importance_type=None, interaction_constraints=None,\n",
       "             learning_rate=None, max_bin=None, max_cat_threshold=None,\n",
       "             max_cat_to_onehot=None, max_delta_step=None, max_depth=4,\n",
       "             max_leaves=None, min_child_weight=1, missing=nan,\n",
       "             monotone_constraints=None, n_estimators=500, n_jobs=-1,\n",
       "             num_parallel_tree=None, ...)</pre></div></div></div></div></div>"
      ],
      "text/plain": [
       "XGBRegressor(alpha=1, base_score=None, booster='gbtree', callbacks=None,\n",
       "             colsample_bylevel=None, colsample_bynode=None,\n",
       "             colsample_bytree=None, early_stopping_rounds=None,\n",
       "             enable_categorical=False, eta=0.35, eval_metric='rmse',\n",
       "             feature_types=None, gamma=0, gpu_id=None, grow_policy=None,\n",
       "             importance_type=None, interaction_constraints=None,\n",
       "             learning_rate=None, max_bin=None, max_cat_threshold=None,\n",
       "             max_cat_to_onehot=None, max_delta_step=None, max_depth=4,\n",
       "             max_leaves=None, min_child_weight=1, missing=nan,\n",
       "             monotone_constraints=None, n_estimators=500, n_jobs=-1,\n",
       "             num_parallel_tree=None, ...)"
      ]
     },
     "execution_count": 335,
     "metadata": {},
     "output_type": "execute_result"
    }
   ],
   "source": [
    "reg = xgboost.XGBRegressor(n_jobs = -1, \n",
    "                                 eval_metric = 'rmse',\n",
    "                                n_estimators = 500,\n",
    "                                max_depth = 4,\n",
    "                                booster = \"gbtree\",\n",
    "                                eta = 0.35,\n",
    "                                gamma = 0,\n",
    "                                min_child_weight = 1,\n",
    "                                subsample = 1,\n",
    "                                alpha = 1\n",
    "                                )\n",
    "reg.fit(X_train, y_train)"
   ]
  },
  {
   "cell_type": "code",
   "execution_count": 336,
   "id": "dba9ff00",
   "metadata": {
    "colab": {
     "base_uri": "https://localhost:8080/"
    },
    "executionInfo": {
     "elapsed": 5,
     "status": "ok",
     "timestamp": 1682351233221,
     "user": {
      "displayName": "Batuhan Koyuncu",
      "userId": "13470316719110860762"
     },
     "user_tz": -120
    },
    "id": "dba9ff00",
    "outputId": "41edacb2-2034-477b-a382-ca41c06d5aea"
   },
   "outputs": [
    {
     "name": "stdout",
     "output_type": "stream",
     "text": [
      "\n",
      "Split: train\n",
      "\tRMSE: 0.20\n",
      "\tMAE: 0.15\n",
      "\n",
      "Split: valididation\n",
      "\tRMSE: 0.31\n",
      "\tMAE: 0.23\n"
     ]
    }
   ],
   "source": [
    "# Evaluate our predictor quantitatively\n",
    "for split_name, dataset in zip(['train', 'valididation'], datasets):\n",
    "    X_i, y_i = dataset\n",
    "    y_pred = reg.predict(X_i)\n",
    "\n",
    "    rmse = np.sqrt(skm.mean_squared_error(y_i, y_pred))\n",
    "    print(f'\\nSplit: {split_name}')\n",
    "    print(f\"\\tRMSE: {rmse:.2f}\")\n",
    "    mae = skm.mean_absolute_error(y_i, y_pred)\n",
    "    print(f\"\\tMAE: {mae:.2f}\")"
   ]
  },
  {
   "cell_type": "code",
   "execution_count": 260,
   "id": "fcd4cf20",
   "metadata": {
    "colab": {
     "base_uri": "https://localhost:8080/",
     "height": 487
    },
    "executionInfo": {
     "elapsed": 905,
     "status": "ok",
     "timestamp": 1682351236116,
     "user": {
      "displayName": "Batuhan Koyuncu",
      "userId": "13470316719110860762"
     },
     "user_tz": -120
    },
    "id": "fcd4cf20",
    "outputId": "87a3adfb-9677-4300-de94-1348eb73cd2e"
   },
   "outputs": [
    {
     "ename": "AttributeError",
     "evalue": "Coefficients are not defined for Booster type gbtree",
     "output_type": "error",
     "traceback": [
      "\u001b[1;31m---------------------------------------------------------------------------\u001b[0m",
      "\u001b[1;31mAttributeError\u001b[0m                            Traceback (most recent call last)",
      "\u001b[1;32m~\\AppData\\Local\\Temp/ipykernel_20276/4160562051.py\u001b[0m in \u001b[0;36m<module>\u001b[1;34m\u001b[0m\n\u001b[0;32m      1\u001b[0m \u001b[1;31m#plot the histogram of learnt weights w_i\u001b[0m\u001b[1;33m\u001b[0m\u001b[1;33m\u001b[0m\u001b[0m\n\u001b[1;32m----> 2\u001b[1;33m \u001b[0mplot_y_continous\u001b[0m\u001b[1;33m(\u001b[0m\u001b[0mreg\u001b[0m\u001b[1;33m.\u001b[0m\u001b[0mcoef_\u001b[0m\u001b[1;33m,\u001b[0m \u001b[0mbins\u001b[0m\u001b[1;33m=\u001b[0m\u001b[1;36m20\u001b[0m\u001b[1;33m,\u001b[0m \u001b[0mtitle\u001b[0m\u001b[1;33m=\u001b[0m\u001b[1;34m'Histogram of Parameters (w) learnt'\u001b[0m\u001b[1;33m)\u001b[0m\u001b[1;33m\u001b[0m\u001b[1;33m\u001b[0m\u001b[0m\n\u001b[0m",
      "\u001b[1;32m~\\miniconda3\\lib\\site-packages\\xgboost\\sklearn.py\u001b[0m in \u001b[0;36mcoef_\u001b[1;34m(self)\u001b[0m\n\u001b[0;32m   1312\u001b[0m         \"\"\"\n\u001b[0;32m   1313\u001b[0m         \u001b[1;32mif\u001b[0m \u001b[0mself\u001b[0m\u001b[1;33m.\u001b[0m\u001b[0mget_xgb_params\u001b[0m\u001b[1;33m(\u001b[0m\u001b[1;33m)\u001b[0m\u001b[1;33m[\u001b[0m\u001b[1;34m\"booster\"\u001b[0m\u001b[1;33m]\u001b[0m \u001b[1;33m!=\u001b[0m \u001b[1;34m\"gblinear\"\u001b[0m\u001b[1;33m:\u001b[0m\u001b[1;33m\u001b[0m\u001b[1;33m\u001b[0m\u001b[0m\n\u001b[1;32m-> 1314\u001b[1;33m             raise AttributeError(\n\u001b[0m\u001b[0;32m   1315\u001b[0m                 \u001b[1;34mf\"Coefficients are not defined for Booster type {self.booster}\"\u001b[0m\u001b[1;33m\u001b[0m\u001b[1;33m\u001b[0m\u001b[0m\n\u001b[0;32m   1316\u001b[0m             )\n",
      "\u001b[1;31mAttributeError\u001b[0m: Coefficients are not defined for Booster type gbtree"
     ]
    }
   ],
   "source": [
    "#plot the histogram of learnt weights w_i \n",
    "plot_y_continous(reg.coef_, bins=20, title='Histogram of Parameters (w) learnt')"
   ]
  },
  {
   "cell_type": "markdown",
   "id": "qBItenN5erIi",
   "metadata": {
    "id": "qBItenN5erIi"
   },
   "source": [
    "At this point, we can use our model to predict sentiments scores of tweets from `X_test`, i.e. test set. Do not forget to encode them as well.\n",
    "\n",
    "And save your predictions `y_hat` by naming it with the following format. \n",
    "\n",
    "`<TEAM_ID>__<SPLIT>_reg_pred.npy`\n",
    "\n",
    "Make sure that\n",
    "\n",
    "`<TEAM_ID>` is your team id as given in CMS.\n",
    "\n",
    "`<SPLIT>` is \"test_1\" during the semester and \"test_2\" for final submission. You will be notified when we need to move to \"test_2\"."
   ]
  },
  {
   "cell_type": "code",
   "execution_count": 280,
   "id": "91ee5e03",
   "metadata": {
    "id": "91ee5e03"
   },
   "outputs": [],
   "source": [
    "# Run this to save a file with your predictions on the test set to be submitted\n",
    "\n",
    "sentences = list(df_test.words_str.values)\n",
    "# X_test = model.encode(sentences)\n",
    "X_test = CountVectorizer(ngram_range = (1,2)).fit(df['words_str']).transform(sentences)\n",
    "y_hat = reg.predict(X_test)\n",
    "\n",
    "# Save the results with the format <TEAM_ID>__<SPLIT>_reg_pred.npy\n",
    "\n",
    "folder = 'result'\n",
    "np.save(os.path.join(folder, f'{team_id}__{split}__reg_pred.npy'), y_hat)\n"
   ]
  },
  {
   "cell_type": "markdown",
   "id": "34410538",
   "metadata": {
    "id": "34410538"
   },
   "source": [
    "# Linear classification"
   ]
  },
  {
   "cell_type": "markdown",
   "id": "WeqFeth6hb6w",
   "metadata": {
    "id": "WeqFeth6hb6w"
   },
   "source": [
    "In this part, we will solve a linear classification task to predict our target `sentiment`, i.e. sentiment class of tweets, using our features which are encodings of the tweets.\n"
   ]
  },
  {
   "cell_type": "code",
   "execution_count": null,
   "id": "7ad5ec07",
   "metadata": {
    "id": "7ad5ec07"
   },
   "outputs": [],
   "source": [
    "from sklearn import linear_model\n",
    "from sklearn import preprocessing\n",
    "import numpy as np"
   ]
  },
  {
   "cell_type": "code",
   "execution_count": null,
   "id": "65482d95",
   "metadata": {
    "id": "65482d95"
   },
   "outputs": [],
   "source": [
    "def plot_y_discrete(y, show=True, title=None):\n",
    "    fig, ax = plt.subplots(1, 1)\n",
    "    sns.countplot(x=y, palette=colors, ax=ax)\n",
    "    if isinstance(title, str):\n",
    "        ax.set_title(title)\n",
    "    plt.tight_layout()\n",
    "    if show: plt.show()"
   ]
  },
  {
   "cell_type": "code",
   "execution_count": null,
   "id": "371be48e",
   "metadata": {
    "colab": {
     "base_uri": "https://localhost:8080/",
     "height": 487
    },
    "executionInfo": {
     "elapsed": 1137,
     "status": "ok",
     "timestamp": 1682351440534,
     "user": {
      "displayName": "Batuhan Koyuncu",
      "userId": "13470316719110860762"
     },
     "user_tz": -120
    },
    "id": "371be48e",
    "outputId": "aeeb88b1-578e-421e-d471-8a379cb18f3c"
   },
   "outputs": [],
   "source": [
    "plot_y_discrete(df.sentiment)"
   ]
  },
  {
   "cell_type": "markdown",
   "id": "_QIyfxXthmTT",
   "metadata": {
    "id": "_QIyfxXthmTT"
   },
   "source": [
    "We will first change our targets (classes; positive, neutral, negative) to numeric targets. Then, we solve a logistic regression problem by minimizing the multinomial cross-entropy function\n",
    "\n",
    "$$\n",
    "J(\\theta) = -\\frac{1}{n} \\sum_{i=1}^{n} \\sum_{k=1}^{K} \\mathbb{1}_{y_{i}=k} \\log(p_{\\theta}(\\hat{y}=k | \\mathbf{x}_{i}))\n",
    "$$\n",
    "\n",
    "where $y_i \\in \\{1,\\ldots,K\\}$ and $p_{\\theta}(\\hat{y}=k | \\mathbf{x}_{i})$ is the probability assigned by our model to class $k$ having observed features $\\mathbf{x}_{i}$."
   ]
  },
  {
   "cell_type": "code",
   "execution_count": null,
   "id": "5f516bc9",
   "metadata": {
    "colab": {
     "base_uri": "https://localhost:8080/"
    },
    "executionInfo": {
     "elapsed": 7,
     "status": "ok",
     "timestamp": 1682351440534,
     "user": {
      "displayName": "Batuhan Koyuncu",
      "userId": "13470316719110860762"
     },
     "user_tz": -120
    },
    "id": "5f516bc9",
    "outputId": "4991e414-ad05-44c8-bcf8-be32c14590e5"
   },
   "outputs": [],
   "source": [
    "X = sentence_embeddings\n",
    "y_text = df.sentiment.values\n",
    "le = preprocessing.LabelEncoder()\n",
    "le.fit(y_text)\n",
    "print(f'Original classes {le.classes_}')\n",
    "print(f'Corresponding numeric classes {le.transform(le.classes_)}')\n",
    "y =le.transform(y_text)\n",
    "print(f\"X: {X.shape}\")\n",
    "print(f\"y: {y.shape} {np.unique(y)}\")\n",
    "X_train, X_val, y_train, y_val = train_test_split(X, y, test_size=0.2, random_state=42)\n",
    "\n",
    "datasets = [\n",
    "    [X_train, y_train],\n",
    "    [X_val, y_val]\n",
    "]\n",
    "clf = linear_model.LogisticRegression(penalty='none', \n",
    "                                      dual=False, \n",
    "                                      tol=0.0001, \n",
    "                                      C=1.0, \n",
    "                                      fit_intercept=True, \n",
    "                                      intercept_scaling=1, \n",
    "                                      class_weight=None, # None, balanced\n",
    "                                      random_state=None, \n",
    "                                      solver='lbfgs', \n",
    "                                      max_iter=1000, \n",
    "                                      multi_class='auto', \n",
    "                                      verbose=0, \n",
    "                                      warm_start=False, \n",
    "                                      n_jobs=None, \n",
    "                                      l1_ratio=None\n",
    "                                      \n",
    "                                     )"
   ]
  },
  {
   "cell_type": "code",
   "execution_count": null,
   "id": "46cd0300",
   "metadata": {},
   "outputs": [],
   "source": [
    "\n",
    "clf = linear_model.LogisticRegression(penalty='none', \n",
    "                                      dual=False, \n",
    "                                      tol=0.0001, \n",
    "                                      C=1.0, \n",
    "                                      fit_intercept=True, \n",
    "                                      intercept_scaling=1, \n",
    "                                      class_weight=None, # None, balanced\n",
    "                                      random_state=None, \n",
    "                                      solver='lbfgs', \n",
    "                                      max_iter=1000, \n",
    "                                      multi_class='auto', \n",
    "                                      verbose=0, \n",
    "                                      warm_start=False, \n",
    "                                      n_jobs=None, \n",
    "                                      l1_ratio=None\n",
    "                                      \n",
    "                                     )"
   ]
  },
  {
   "cell_type": "markdown",
   "id": "af310057",
   "metadata": {},
   "source": [
    "# MODEL"
   ]
  },
  {
   "cell_type": "code",
   "execution_count": null,
   "id": "74732e91",
   "metadata": {},
   "outputs": [],
   "source": [
    "from sklearn.svm import SVC\n",
    "from sklearn.model_selection import GridSearchCV"
   ]
  },
  {
   "cell_type": "code",
   "execution_count": null,
   "id": "ea0c777c",
   "metadata": {},
   "outputs": [],
   "source": [
    "svc = SVC(class_weight = 'balanced', kernel = 'poly', coef0 = 1e-2)\n"
   ]
  },
  {
   "cell_type": "code",
   "execution_count": null,
   "id": "114738e2",
   "metadata": {},
   "outputs": [],
   "source": [
    "test_model(kf10, svc, X, y)"
   ]
  },
  {
   "cell_type": "code",
   "execution_count": null,
   "id": "fe6932ec",
   "metadata": {},
   "outputs": [],
   "source": [
    "test_model(kf10, svc, words12g75000_tfidf, y)"
   ]
  },
  {
   "cell_type": "code",
   "execution_count": null,
   "id": "f9aaa3b7",
   "metadata": {},
   "outputs": [],
   "source": [
    "svc_param = {\n",
    "#     'C': [1.0, 0.5, 0.1],\n",
    "    'kernel': ['poly'],\n",
    "#     'degree': [3],\n",
    "#     'gamma': ['scale', 'auto'],\n",
    "    'coef0': [0, 0.1, 1e-2, 1e-3],\n",
    "#     'tol': [1e-2, 1e-3, 1e-4],\n",
    "    \n",
    "}"
   ]
  },
  {
   "cell_type": "code",
   "execution_count": null,
   "id": "4180bf43",
   "metadata": {},
   "outputs": [],
   "source": [
    "# svc = svc.fit(X_res, y_res)\n",
    "svc_gscv = GridSearchCV(svc, param_grid = svc_param, n_jobs = -1, cv = kf5, scoring = metrics.f1_score, verbose = 3)"
   ]
  },
  {
   "cell_type": "code",
   "execution_count": null,
   "id": "5f8b228e",
   "metadata": {},
   "outputs": [],
   "source": [
    "svc_gscv = svc_gscv.fit(X_res, y_res)"
   ]
  },
  {
   "cell_type": "code",
   "execution_count": null,
   "id": "7b7c37e3",
   "metadata": {},
   "outputs": [],
   "source": [
    "svc_gscv.best_params_"
   ]
  },
  {
   "cell_type": "code",
   "execution_count": null,
   "id": "92beaacc",
   "metadata": {},
   "outputs": [],
   "source": [
    "X_res, y_res = SMOTE().fit_resample(X_train, y_train)"
   ]
  },
  {
   "cell_type": "code",
   "execution_count": null,
   "id": "813df5e7",
   "metadata": {},
   "outputs": [],
   "source": [
    "Counter(y_res)"
   ]
  },
  {
   "cell_type": "code",
   "execution_count": null,
   "id": "ec9bcf4c",
   "metadata": {},
   "outputs": [],
   "source": [
    "datasets = [\n",
    "    [X_res, y_res],\n",
    "    [X_val, y_val]\n",
    "]"
   ]
  },
  {
   "cell_type": "code",
   "execution_count": null,
   "id": "80210292",
   "metadata": {},
   "outputs": [],
   "source": [
    "\n",
    "print(f\"X: {X_res.shape}\")\n",
    "print(f\"y: {y_res.shape} {np.unique(y)}\")"
   ]
  },
  {
   "cell_type": "markdown",
   "id": "0S5pf_bA2XAV",
   "metadata": {
    "id": "0S5pf_bA2XAV"
   },
   "source": [
    "Fit your model by using training data."
   ]
  },
  {
   "cell_type": "code",
   "execution_count": null,
   "id": "c167c0b4",
   "metadata": {
    "id": "c167c0b4",
    "scrolled": true
   },
   "outputs": [],
   "source": [
    "clf = clf.fit(X_res, y_res)\n"
   ]
  },
  {
   "cell_type": "code",
   "execution_count": null,
   "id": "84f6bf9f",
   "metadata": {},
   "outputs": [],
   "source": [
    "y_pred = svc_gscv.predict(X_val)\n",
    "rmse = np.sqrt(skm.mean_squared_error(y_val, y_pred))                                                                                                                                                                                                                                                                                                                                                                                                                                                                                                                                                                                                                                                                                                                                                                                                                                                                                                                                                                                                                                                                                                                                                                                                                                                                                                                                                                                                                                                                                                                                                                                                                                                                                                                                                                                                                                                                                                                                                                                                                                                                                                                                                                                                                                                                                                                                                                                                                                                                                                                                                                                                                                                                                                                                                                                                                                                                                                                                                                                                                                                                                                                                                                                                                                                                                                                                                                                                                                                                                                                                                                                                                                                                                                                                                                                                                                                                                                                                                                                                                                                                                                                                                                                                                                                                                                                                                                                                                                                                                                                                                                                                                                                                                                                                                                                                                                                                                                                                                                                                                                                                                                                                                                                                                                                                                                                                                                                                                                                                                                                                                                                           \n",
    "print(rmse)"
   ]
  },
  {
   "cell_type": "markdown",
   "id": "b4e812a9",
   "metadata": {
    "id": "b4e812a9"
   },
   "source": [
    "\n",
    "Reminders about macro and micro averaging:\n",
    "\n",
    "\n",
    "In the context of computing F1-score, \"macro\" and \"micro\" averaging are two commonly used techniques to aggregate the per-class F1-scores.\n",
    "\n",
    "**Micro-average**: Compute the F1-score globally by counting the total true positives, false negatives, and false positives over all classes, and then calculating precision, recall, and F1-score using these aggregated values.\n",
    "\n",
    "**Macro-average**: Calculate the F1-score for each class separately, and then take the average of these per-class F1-scores.\n",
    "\n",
    "The main difference between these two techniques is the way they treat class imbalance. Micro-average treats all classes equally, regardless of their size, while macro-average treats each class equally, regardless of the number of samples in that class.\n",
    "\n",
    "Micro-average is often used when we care about overall performance across all classes, and we want to give more weight to the performance on larger classes. In contrast, macro-average is often used when we want to evaluate the performance on each class separately and give equal weight to each class.\n",
    "\n",
    "\n",
    "In addition to micro and macro averaging, there is another common technique for computing the F1-score called **weighted averaging**.\n",
    "\n",
    "**Weighted averaging** is similar to macro averaging in that it computes the per-class F1-score and then takes the average of these scores. However, unlike macro averaging, weighted averaging takes into account the number of samples in each class when computing the average. Specifically, the weighted average is computed as follows:\n",
    "\n",
    "- Compute the F1-score for each class separately.\n",
    "- Compute the weight for each class as the number of samples in that class divided by the total number of samples.\n",
    "- Compute the weighted average of the per-class F1-scores, where each per-class F1-score is weighted by the weight of that class.\n",
    "\n",
    "The weighted average is commonly used when the dataset is imbalanced, meaning that some classes have many more samples than others. In such cases, using the simple average (macro-average) would give too much weight to the smaller classes, while using micro-average would give too much weight to the larger classes. The weighted average strikes a balance between these two approaches by giving more weight to the classes with more samples while still taking into account the performance of all classes.\n"
   ]
  },
  {
   "cell_type": "markdown",
   "id": "URLzKp2J2x6i",
   "metadata": {
    "id": "URLzKp2J2x6i"
   },
   "source": [
    "Now evaluate your model"
   ]
  },
  {
   "cell_type": "code",
   "execution_count": null,
   "id": "ff8e0e50",
   "metadata": {
    "colab": {
     "base_uri": "https://localhost:8080/"
    },
    "executionInfo": {
     "elapsed": 5,
     "status": "ok",
     "timestamp": 1682351440535,
     "user": {
      "displayName": "Batuhan Koyuncu",
      "userId": "13470316719110860762"
     },
     "user_tz": -120
    },
    "id": "ff8e0e50",
    "outputId": "38afdacb-3bae-41a7-e1fb-b25dbbaf36c9"
   },
   "outputs": [],
   "source": [
    "for split_name, dataset in zip(['train', 'validation'], datasets):\n",
    "    X_i, y_i = dataset\n",
    "    y_pred = svc.predict(X_i)\n",
    "    print(f'\\nSplit: {split_name}')\n",
    "    print(skm.classification_report(y_i, y_pred))"
   ]
  },
  {
   "cell_type": "markdown",
   "id": "sGxdMSXO2-xH",
   "metadata": {
    "id": "sGxdMSXO2-xH"
   },
   "source": [
    "At this point, we can use our model to predict sentiments scores of tweets from `X_test`, i.e. test set. Do not forget to encode them as well.\n",
    "\n",
    "And save your predictions `y_hat` by naming it with the following format. \n",
    "\n",
    "`<TEAM_ID>__<SPLIT>_clf_pred.npy`\n",
    "\n",
    "Make sure that\n",
    "\n",
    "`<TEAM_ID>` is your team id as given in CMS.\n",
    "\n",
    "`<SPLIT>` is \"test_1\" during the semester and \"test_2\" for final submission. You will be notified when we need to move to \"test_2\"."
   ]
  },
  {
   "cell_type": "code",
   "execution_count": 279,
   "id": "d0cea870",
   "metadata": {
    "id": "d0cea870"
   },
   "outputs": [
    {
     "ename": "KeyboardInterrupt",
     "evalue": "",
     "output_type": "error",
     "traceback": [
      "\u001b[1;31m---------------------------------------------------------------------------\u001b[0m",
      "\u001b[1;31mKeyboardInterrupt\u001b[0m                         Traceback (most recent call last)",
      "\u001b[1;32m~\\AppData\\Local\\Temp/ipykernel_20276/2878862706.py\u001b[0m in \u001b[0;36m<module>\u001b[1;34m\u001b[0m\n\u001b[0;32m      1\u001b[0m \u001b[1;31m# Run this to save a file with your predictions on the test set to be submitted\u001b[0m\u001b[1;33m\u001b[0m\u001b[1;33m\u001b[0m\u001b[0m\n\u001b[0;32m      2\u001b[0m \u001b[0msentences\u001b[0m \u001b[1;33m=\u001b[0m \u001b[0mlist\u001b[0m\u001b[1;33m(\u001b[0m\u001b[0mdf_test\u001b[0m\u001b[1;33m.\u001b[0m\u001b[0mwords_str\u001b[0m\u001b[1;33m.\u001b[0m\u001b[0mvalues\u001b[0m\u001b[1;33m)\u001b[0m\u001b[1;33m\u001b[0m\u001b[1;33m\u001b[0m\u001b[0m\n\u001b[1;32m----> 3\u001b[1;33m \u001b[0mX_test\u001b[0m \u001b[1;33m=\u001b[0m \u001b[0mmodel\u001b[0m\u001b[1;33m.\u001b[0m\u001b[0mencode\u001b[0m\u001b[1;33m(\u001b[0m\u001b[0msentences\u001b[0m\u001b[1;33m)\u001b[0m\u001b[1;33m\u001b[0m\u001b[1;33m\u001b[0m\u001b[0m\n\u001b[0m\u001b[0;32m      4\u001b[0m \u001b[0my_hat\u001b[0m \u001b[1;33m=\u001b[0m \u001b[0mclf\u001b[0m\u001b[1;33m.\u001b[0m\u001b[0mpredict\u001b[0m\u001b[1;33m(\u001b[0m\u001b[0mX_test\u001b[0m\u001b[1;33m)\u001b[0m\u001b[1;33m\u001b[0m\u001b[1;33m\u001b[0m\u001b[0m\n\u001b[0;32m      5\u001b[0m \u001b[1;33m\u001b[0m\u001b[0m\n",
      "\u001b[1;32m~\\miniconda3\\lib\\site-packages\\sentence_transformers\\SentenceTransformer.py\u001b[0m in \u001b[0;36mencode\u001b[1;34m(self, sentences, batch_size, show_progress_bar, output_value, convert_to_numpy, convert_to_tensor, device, normalize_embeddings)\u001b[0m\n\u001b[0;32m    163\u001b[0m \u001b[1;33m\u001b[0m\u001b[0m\n\u001b[0;32m    164\u001b[0m             \u001b[1;32mwith\u001b[0m \u001b[0mtorch\u001b[0m\u001b[1;33m.\u001b[0m\u001b[0mno_grad\u001b[0m\u001b[1;33m(\u001b[0m\u001b[1;33m)\u001b[0m\u001b[1;33m:\u001b[0m\u001b[1;33m\u001b[0m\u001b[1;33m\u001b[0m\u001b[0m\n\u001b[1;32m--> 165\u001b[1;33m                 \u001b[0mout_features\u001b[0m \u001b[1;33m=\u001b[0m \u001b[0mself\u001b[0m\u001b[1;33m.\u001b[0m\u001b[0mforward\u001b[0m\u001b[1;33m(\u001b[0m\u001b[0mfeatures\u001b[0m\u001b[1;33m)\u001b[0m\u001b[1;33m\u001b[0m\u001b[1;33m\u001b[0m\u001b[0m\n\u001b[0m\u001b[0;32m    166\u001b[0m \u001b[1;33m\u001b[0m\u001b[0m\n\u001b[0;32m    167\u001b[0m                 \u001b[1;32mif\u001b[0m \u001b[0moutput_value\u001b[0m \u001b[1;33m==\u001b[0m \u001b[1;34m'token_embeddings'\u001b[0m\u001b[1;33m:\u001b[0m\u001b[1;33m\u001b[0m\u001b[1;33m\u001b[0m\u001b[0m\n",
      "\u001b[1;32m~\\miniconda3\\lib\\site-packages\\torch\\nn\\modules\\container.py\u001b[0m in \u001b[0;36mforward\u001b[1;34m(self, input)\u001b[0m\n\u001b[0;32m    215\u001b[0m     \u001b[1;32mdef\u001b[0m \u001b[0mforward\u001b[0m\u001b[1;33m(\u001b[0m\u001b[0mself\u001b[0m\u001b[1;33m,\u001b[0m \u001b[0minput\u001b[0m\u001b[1;33m)\u001b[0m\u001b[1;33m:\u001b[0m\u001b[1;33m\u001b[0m\u001b[1;33m\u001b[0m\u001b[0m\n\u001b[0;32m    216\u001b[0m         \u001b[1;32mfor\u001b[0m \u001b[0mmodule\u001b[0m \u001b[1;32min\u001b[0m \u001b[0mself\u001b[0m\u001b[1;33m:\u001b[0m\u001b[1;33m\u001b[0m\u001b[1;33m\u001b[0m\u001b[0m\n\u001b[1;32m--> 217\u001b[1;33m             \u001b[0minput\u001b[0m \u001b[1;33m=\u001b[0m \u001b[0mmodule\u001b[0m\u001b[1;33m(\u001b[0m\u001b[0minput\u001b[0m\u001b[1;33m)\u001b[0m\u001b[1;33m\u001b[0m\u001b[1;33m\u001b[0m\u001b[0m\n\u001b[0m\u001b[0;32m    218\u001b[0m         \u001b[1;32mreturn\u001b[0m \u001b[0minput\u001b[0m\u001b[1;33m\u001b[0m\u001b[1;33m\u001b[0m\u001b[0m\n\u001b[0;32m    219\u001b[0m \u001b[1;33m\u001b[0m\u001b[0m\n",
      "\u001b[1;32m~\\miniconda3\\lib\\site-packages\\torch\\nn\\modules\\module.py\u001b[0m in \u001b[0;36m_call_impl\u001b[1;34m(self, *args, **kwargs)\u001b[0m\n\u001b[0;32m   1499\u001b[0m                 \u001b[1;32mor\u001b[0m \u001b[0m_global_backward_pre_hooks\u001b[0m \u001b[1;32mor\u001b[0m \u001b[0m_global_backward_hooks\u001b[0m\u001b[1;33m\u001b[0m\u001b[1;33m\u001b[0m\u001b[0m\n\u001b[0;32m   1500\u001b[0m                 or _global_forward_hooks or _global_forward_pre_hooks):\n\u001b[1;32m-> 1501\u001b[1;33m             \u001b[1;32mreturn\u001b[0m \u001b[0mforward_call\u001b[0m\u001b[1;33m(\u001b[0m\u001b[1;33m*\u001b[0m\u001b[0margs\u001b[0m\u001b[1;33m,\u001b[0m \u001b[1;33m**\u001b[0m\u001b[0mkwargs\u001b[0m\u001b[1;33m)\u001b[0m\u001b[1;33m\u001b[0m\u001b[1;33m\u001b[0m\u001b[0m\n\u001b[0m\u001b[0;32m   1502\u001b[0m         \u001b[1;31m# Do not call functions when jit is used\u001b[0m\u001b[1;33m\u001b[0m\u001b[1;33m\u001b[0m\u001b[0m\n\u001b[0;32m   1503\u001b[0m         \u001b[0mfull_backward_hooks\u001b[0m\u001b[1;33m,\u001b[0m \u001b[0mnon_full_backward_hooks\u001b[0m \u001b[1;33m=\u001b[0m \u001b[1;33m[\u001b[0m\u001b[1;33m]\u001b[0m\u001b[1;33m,\u001b[0m \u001b[1;33m[\u001b[0m\u001b[1;33m]\u001b[0m\u001b[1;33m\u001b[0m\u001b[1;33m\u001b[0m\u001b[0m\n",
      "\u001b[1;32m~\\miniconda3\\lib\\site-packages\\sentence_transformers\\models\\Transformer.py\u001b[0m in \u001b[0;36mforward\u001b[1;34m(self, features)\u001b[0m\n\u001b[0;32m     64\u001b[0m             \u001b[0mtrans_features\u001b[0m\u001b[1;33m[\u001b[0m\u001b[1;34m'token_type_ids'\u001b[0m\u001b[1;33m]\u001b[0m \u001b[1;33m=\u001b[0m \u001b[0mfeatures\u001b[0m\u001b[1;33m[\u001b[0m\u001b[1;34m'token_type_ids'\u001b[0m\u001b[1;33m]\u001b[0m\u001b[1;33m\u001b[0m\u001b[1;33m\u001b[0m\u001b[0m\n\u001b[0;32m     65\u001b[0m \u001b[1;33m\u001b[0m\u001b[0m\n\u001b[1;32m---> 66\u001b[1;33m         \u001b[0moutput_states\u001b[0m \u001b[1;33m=\u001b[0m \u001b[0mself\u001b[0m\u001b[1;33m.\u001b[0m\u001b[0mauto_model\u001b[0m\u001b[1;33m(\u001b[0m\u001b[1;33m**\u001b[0m\u001b[0mtrans_features\u001b[0m\u001b[1;33m,\u001b[0m \u001b[0mreturn_dict\u001b[0m\u001b[1;33m=\u001b[0m\u001b[1;32mFalse\u001b[0m\u001b[1;33m)\u001b[0m\u001b[1;33m\u001b[0m\u001b[1;33m\u001b[0m\u001b[0m\n\u001b[0m\u001b[0;32m     67\u001b[0m         \u001b[0moutput_tokens\u001b[0m \u001b[1;33m=\u001b[0m \u001b[0moutput_states\u001b[0m\u001b[1;33m[\u001b[0m\u001b[1;36m0\u001b[0m\u001b[1;33m]\u001b[0m\u001b[1;33m\u001b[0m\u001b[1;33m\u001b[0m\u001b[0m\n\u001b[0;32m     68\u001b[0m \u001b[1;33m\u001b[0m\u001b[0m\n",
      "\u001b[1;32m~\\miniconda3\\lib\\site-packages\\torch\\nn\\modules\\module.py\u001b[0m in \u001b[0;36m_call_impl\u001b[1;34m(self, *args, **kwargs)\u001b[0m\n\u001b[0;32m   1499\u001b[0m                 \u001b[1;32mor\u001b[0m \u001b[0m_global_backward_pre_hooks\u001b[0m \u001b[1;32mor\u001b[0m \u001b[0m_global_backward_hooks\u001b[0m\u001b[1;33m\u001b[0m\u001b[1;33m\u001b[0m\u001b[0m\n\u001b[0;32m   1500\u001b[0m                 or _global_forward_hooks or _global_forward_pre_hooks):\n\u001b[1;32m-> 1501\u001b[1;33m             \u001b[1;32mreturn\u001b[0m \u001b[0mforward_call\u001b[0m\u001b[1;33m(\u001b[0m\u001b[1;33m*\u001b[0m\u001b[0margs\u001b[0m\u001b[1;33m,\u001b[0m \u001b[1;33m**\u001b[0m\u001b[0mkwargs\u001b[0m\u001b[1;33m)\u001b[0m\u001b[1;33m\u001b[0m\u001b[1;33m\u001b[0m\u001b[0m\n\u001b[0m\u001b[0;32m   1502\u001b[0m         \u001b[1;31m# Do not call functions when jit is used\u001b[0m\u001b[1;33m\u001b[0m\u001b[1;33m\u001b[0m\u001b[0m\n\u001b[0;32m   1503\u001b[0m         \u001b[0mfull_backward_hooks\u001b[0m\u001b[1;33m,\u001b[0m \u001b[0mnon_full_backward_hooks\u001b[0m \u001b[1;33m=\u001b[0m \u001b[1;33m[\u001b[0m\u001b[1;33m]\u001b[0m\u001b[1;33m,\u001b[0m \u001b[1;33m[\u001b[0m\u001b[1;33m]\u001b[0m\u001b[1;33m\u001b[0m\u001b[1;33m\u001b[0m\u001b[0m\n",
      "\u001b[1;32m~\\miniconda3\\lib\\site-packages\\transformers\\models\\mpnet\\modeling_mpnet.py\u001b[0m in \u001b[0;36mforward\u001b[1;34m(self, input_ids, attention_mask, position_ids, head_mask, inputs_embeds, output_attentions, output_hidden_states, return_dict, **kwargs)\u001b[0m\n\u001b[0;32m    548\u001b[0m         \u001b[0mhead_mask\u001b[0m \u001b[1;33m=\u001b[0m \u001b[0mself\u001b[0m\u001b[1;33m.\u001b[0m\u001b[0mget_head_mask\u001b[0m\u001b[1;33m(\u001b[0m\u001b[0mhead_mask\u001b[0m\u001b[1;33m,\u001b[0m \u001b[0mself\u001b[0m\u001b[1;33m.\u001b[0m\u001b[0mconfig\u001b[0m\u001b[1;33m.\u001b[0m\u001b[0mnum_hidden_layers\u001b[0m\u001b[1;33m)\u001b[0m\u001b[1;33m\u001b[0m\u001b[1;33m\u001b[0m\u001b[0m\n\u001b[0;32m    549\u001b[0m         \u001b[0membedding_output\u001b[0m \u001b[1;33m=\u001b[0m \u001b[0mself\u001b[0m\u001b[1;33m.\u001b[0m\u001b[0membeddings\u001b[0m\u001b[1;33m(\u001b[0m\u001b[0minput_ids\u001b[0m\u001b[1;33m=\u001b[0m\u001b[0minput_ids\u001b[0m\u001b[1;33m,\u001b[0m \u001b[0mposition_ids\u001b[0m\u001b[1;33m=\u001b[0m\u001b[0mposition_ids\u001b[0m\u001b[1;33m,\u001b[0m \u001b[0minputs_embeds\u001b[0m\u001b[1;33m=\u001b[0m\u001b[0minputs_embeds\u001b[0m\u001b[1;33m)\u001b[0m\u001b[1;33m\u001b[0m\u001b[1;33m\u001b[0m\u001b[0m\n\u001b[1;32m--> 550\u001b[1;33m         encoder_outputs = self.encoder(\n\u001b[0m\u001b[0;32m    551\u001b[0m             \u001b[0membedding_output\u001b[0m\u001b[1;33m,\u001b[0m\u001b[1;33m\u001b[0m\u001b[1;33m\u001b[0m\u001b[0m\n\u001b[0;32m    552\u001b[0m             \u001b[0mattention_mask\u001b[0m\u001b[1;33m=\u001b[0m\u001b[0mextended_attention_mask\u001b[0m\u001b[1;33m,\u001b[0m\u001b[1;33m\u001b[0m\u001b[1;33m\u001b[0m\u001b[0m\n",
      "\u001b[1;32m~\\miniconda3\\lib\\site-packages\\torch\\nn\\modules\\module.py\u001b[0m in \u001b[0;36m_call_impl\u001b[1;34m(self, *args, **kwargs)\u001b[0m\n\u001b[0;32m   1499\u001b[0m                 \u001b[1;32mor\u001b[0m \u001b[0m_global_backward_pre_hooks\u001b[0m \u001b[1;32mor\u001b[0m \u001b[0m_global_backward_hooks\u001b[0m\u001b[1;33m\u001b[0m\u001b[1;33m\u001b[0m\u001b[0m\n\u001b[0;32m   1500\u001b[0m                 or _global_forward_hooks or _global_forward_pre_hooks):\n\u001b[1;32m-> 1501\u001b[1;33m             \u001b[1;32mreturn\u001b[0m \u001b[0mforward_call\u001b[0m\u001b[1;33m(\u001b[0m\u001b[1;33m*\u001b[0m\u001b[0margs\u001b[0m\u001b[1;33m,\u001b[0m \u001b[1;33m**\u001b[0m\u001b[0mkwargs\u001b[0m\u001b[1;33m)\u001b[0m\u001b[1;33m\u001b[0m\u001b[1;33m\u001b[0m\u001b[0m\n\u001b[0m\u001b[0;32m   1502\u001b[0m         \u001b[1;31m# Do not call functions when jit is used\u001b[0m\u001b[1;33m\u001b[0m\u001b[1;33m\u001b[0m\u001b[0m\n\u001b[0;32m   1503\u001b[0m         \u001b[0mfull_backward_hooks\u001b[0m\u001b[1;33m,\u001b[0m \u001b[0mnon_full_backward_hooks\u001b[0m \u001b[1;33m=\u001b[0m \u001b[1;33m[\u001b[0m\u001b[1;33m]\u001b[0m\u001b[1;33m,\u001b[0m \u001b[1;33m[\u001b[0m\u001b[1;33m]\u001b[0m\u001b[1;33m\u001b[0m\u001b[1;33m\u001b[0m\u001b[0m\n",
      "\u001b[1;32m~\\miniconda3\\lib\\site-packages\\transformers\\models\\mpnet\\modeling_mpnet.py\u001b[0m in \u001b[0;36mforward\u001b[1;34m(self, hidden_states, attention_mask, head_mask, output_attentions, output_hidden_states, return_dict, **kwargs)\u001b[0m\n\u001b[0;32m    337\u001b[0m                 \u001b[0mall_hidden_states\u001b[0m \u001b[1;33m=\u001b[0m \u001b[0mall_hidden_states\u001b[0m \u001b[1;33m+\u001b[0m \u001b[1;33m(\u001b[0m\u001b[0mhidden_states\u001b[0m\u001b[1;33m,\u001b[0m\u001b[1;33m)\u001b[0m\u001b[1;33m\u001b[0m\u001b[1;33m\u001b[0m\u001b[0m\n\u001b[0;32m    338\u001b[0m \u001b[1;33m\u001b[0m\u001b[0m\n\u001b[1;32m--> 339\u001b[1;33m             layer_outputs = layer_module(\n\u001b[0m\u001b[0;32m    340\u001b[0m                 \u001b[0mhidden_states\u001b[0m\u001b[1;33m,\u001b[0m\u001b[1;33m\u001b[0m\u001b[1;33m\u001b[0m\u001b[0m\n\u001b[0;32m    341\u001b[0m                 \u001b[0mattention_mask\u001b[0m\u001b[1;33m,\u001b[0m\u001b[1;33m\u001b[0m\u001b[1;33m\u001b[0m\u001b[0m\n",
      "\u001b[1;32m~\\miniconda3\\lib\\site-packages\\torch\\nn\\modules\\module.py\u001b[0m in \u001b[0;36m_call_impl\u001b[1;34m(self, *args, **kwargs)\u001b[0m\n\u001b[0;32m   1499\u001b[0m                 \u001b[1;32mor\u001b[0m \u001b[0m_global_backward_pre_hooks\u001b[0m \u001b[1;32mor\u001b[0m \u001b[0m_global_backward_hooks\u001b[0m\u001b[1;33m\u001b[0m\u001b[1;33m\u001b[0m\u001b[0m\n\u001b[0;32m   1500\u001b[0m                 or _global_forward_hooks or _global_forward_pre_hooks):\n\u001b[1;32m-> 1501\u001b[1;33m             \u001b[1;32mreturn\u001b[0m \u001b[0mforward_call\u001b[0m\u001b[1;33m(\u001b[0m\u001b[1;33m*\u001b[0m\u001b[0margs\u001b[0m\u001b[1;33m,\u001b[0m \u001b[1;33m**\u001b[0m\u001b[0mkwargs\u001b[0m\u001b[1;33m)\u001b[0m\u001b[1;33m\u001b[0m\u001b[1;33m\u001b[0m\u001b[0m\n\u001b[0m\u001b[0;32m   1502\u001b[0m         \u001b[1;31m# Do not call functions when jit is used\u001b[0m\u001b[1;33m\u001b[0m\u001b[1;33m\u001b[0m\u001b[0m\n\u001b[0;32m   1503\u001b[0m         \u001b[0mfull_backward_hooks\u001b[0m\u001b[1;33m,\u001b[0m \u001b[0mnon_full_backward_hooks\u001b[0m \u001b[1;33m=\u001b[0m \u001b[1;33m[\u001b[0m\u001b[1;33m]\u001b[0m\u001b[1;33m,\u001b[0m \u001b[1;33m[\u001b[0m\u001b[1;33m]\u001b[0m\u001b[1;33m\u001b[0m\u001b[1;33m\u001b[0m\u001b[0m\n",
      "\u001b[1;32m~\\miniconda3\\lib\\site-packages\\transformers\\models\\mpnet\\modeling_mpnet.py\u001b[0m in \u001b[0;36mforward\u001b[1;34m(self, hidden_states, attention_mask, head_mask, position_bias, output_attentions, **kwargs)\u001b[0m\n\u001b[0;32m    306\u001b[0m         \u001b[0moutputs\u001b[0m \u001b[1;33m=\u001b[0m \u001b[0mself_attention_outputs\u001b[0m\u001b[1;33m[\u001b[0m\u001b[1;36m1\u001b[0m\u001b[1;33m:\u001b[0m\u001b[1;33m]\u001b[0m  \u001b[1;31m# add self attentions if we output attention weights\u001b[0m\u001b[1;33m\u001b[0m\u001b[1;33m\u001b[0m\u001b[0m\n\u001b[0;32m    307\u001b[0m \u001b[1;33m\u001b[0m\u001b[0m\n\u001b[1;32m--> 308\u001b[1;33m         \u001b[0mintermediate_output\u001b[0m \u001b[1;33m=\u001b[0m \u001b[0mself\u001b[0m\u001b[1;33m.\u001b[0m\u001b[0mintermediate\u001b[0m\u001b[1;33m(\u001b[0m\u001b[0mattention_output\u001b[0m\u001b[1;33m)\u001b[0m\u001b[1;33m\u001b[0m\u001b[1;33m\u001b[0m\u001b[0m\n\u001b[0m\u001b[0;32m    309\u001b[0m         \u001b[0mlayer_output\u001b[0m \u001b[1;33m=\u001b[0m \u001b[0mself\u001b[0m\u001b[1;33m.\u001b[0m\u001b[0moutput\u001b[0m\u001b[1;33m(\u001b[0m\u001b[0mintermediate_output\u001b[0m\u001b[1;33m,\u001b[0m \u001b[0mattention_output\u001b[0m\u001b[1;33m)\u001b[0m\u001b[1;33m\u001b[0m\u001b[1;33m\u001b[0m\u001b[0m\n\u001b[0;32m    310\u001b[0m         \u001b[0moutputs\u001b[0m \u001b[1;33m=\u001b[0m \u001b[1;33m(\u001b[0m\u001b[0mlayer_output\u001b[0m\u001b[1;33m,\u001b[0m\u001b[1;33m)\u001b[0m \u001b[1;33m+\u001b[0m \u001b[0moutputs\u001b[0m\u001b[1;33m\u001b[0m\u001b[1;33m\u001b[0m\u001b[0m\n",
      "\u001b[1;32m~\\miniconda3\\lib\\site-packages\\torch\\nn\\modules\\module.py\u001b[0m in \u001b[0;36m_call_impl\u001b[1;34m(self, *args, **kwargs)\u001b[0m\n\u001b[0;32m   1499\u001b[0m                 \u001b[1;32mor\u001b[0m \u001b[0m_global_backward_pre_hooks\u001b[0m \u001b[1;32mor\u001b[0m \u001b[0m_global_backward_hooks\u001b[0m\u001b[1;33m\u001b[0m\u001b[1;33m\u001b[0m\u001b[0m\n\u001b[0;32m   1500\u001b[0m                 or _global_forward_hooks or _global_forward_pre_hooks):\n\u001b[1;32m-> 1501\u001b[1;33m             \u001b[1;32mreturn\u001b[0m \u001b[0mforward_call\u001b[0m\u001b[1;33m(\u001b[0m\u001b[1;33m*\u001b[0m\u001b[0margs\u001b[0m\u001b[1;33m,\u001b[0m \u001b[1;33m**\u001b[0m\u001b[0mkwargs\u001b[0m\u001b[1;33m)\u001b[0m\u001b[1;33m\u001b[0m\u001b[1;33m\u001b[0m\u001b[0m\n\u001b[0m\u001b[0;32m   1502\u001b[0m         \u001b[1;31m# Do not call functions when jit is used\u001b[0m\u001b[1;33m\u001b[0m\u001b[1;33m\u001b[0m\u001b[0m\n\u001b[0;32m   1503\u001b[0m         \u001b[0mfull_backward_hooks\u001b[0m\u001b[1;33m,\u001b[0m \u001b[0mnon_full_backward_hooks\u001b[0m \u001b[1;33m=\u001b[0m \u001b[1;33m[\u001b[0m\u001b[1;33m]\u001b[0m\u001b[1;33m,\u001b[0m \u001b[1;33m[\u001b[0m\u001b[1;33m]\u001b[0m\u001b[1;33m\u001b[0m\u001b[1;33m\u001b[0m\u001b[0m\n",
      "\u001b[1;32m~\\miniconda3\\lib\\site-packages\\transformers\\models\\mpnet\\modeling_mpnet.py\u001b[0m in \u001b[0;36mforward\u001b[1;34m(self, hidden_states)\u001b[0m\n\u001b[0;32m    260\u001b[0m \u001b[1;33m\u001b[0m\u001b[0m\n\u001b[0;32m    261\u001b[0m     \u001b[1;32mdef\u001b[0m \u001b[0mforward\u001b[0m\u001b[1;33m(\u001b[0m\u001b[0mself\u001b[0m\u001b[1;33m,\u001b[0m \u001b[0mhidden_states\u001b[0m\u001b[1;33m:\u001b[0m \u001b[0mtorch\u001b[0m\u001b[1;33m.\u001b[0m\u001b[0mTensor\u001b[0m\u001b[1;33m)\u001b[0m \u001b[1;33m->\u001b[0m \u001b[0mtorch\u001b[0m\u001b[1;33m.\u001b[0m\u001b[0mTensor\u001b[0m\u001b[1;33m:\u001b[0m\u001b[1;33m\u001b[0m\u001b[1;33m\u001b[0m\u001b[0m\n\u001b[1;32m--> 262\u001b[1;33m         \u001b[0mhidden_states\u001b[0m \u001b[1;33m=\u001b[0m \u001b[0mself\u001b[0m\u001b[1;33m.\u001b[0m\u001b[0mdense\u001b[0m\u001b[1;33m(\u001b[0m\u001b[0mhidden_states\u001b[0m\u001b[1;33m)\u001b[0m\u001b[1;33m\u001b[0m\u001b[1;33m\u001b[0m\u001b[0m\n\u001b[0m\u001b[0;32m    263\u001b[0m         \u001b[0mhidden_states\u001b[0m \u001b[1;33m=\u001b[0m \u001b[0mself\u001b[0m\u001b[1;33m.\u001b[0m\u001b[0mintermediate_act_fn\u001b[0m\u001b[1;33m(\u001b[0m\u001b[0mhidden_states\u001b[0m\u001b[1;33m)\u001b[0m\u001b[1;33m\u001b[0m\u001b[1;33m\u001b[0m\u001b[0m\n\u001b[0;32m    264\u001b[0m         \u001b[1;32mreturn\u001b[0m \u001b[0mhidden_states\u001b[0m\u001b[1;33m\u001b[0m\u001b[1;33m\u001b[0m\u001b[0m\n",
      "\u001b[1;32m~\\miniconda3\\lib\\site-packages\\torch\\nn\\modules\\module.py\u001b[0m in \u001b[0;36m_call_impl\u001b[1;34m(self, *args, **kwargs)\u001b[0m\n\u001b[0;32m   1499\u001b[0m                 \u001b[1;32mor\u001b[0m \u001b[0m_global_backward_pre_hooks\u001b[0m \u001b[1;32mor\u001b[0m \u001b[0m_global_backward_hooks\u001b[0m\u001b[1;33m\u001b[0m\u001b[1;33m\u001b[0m\u001b[0m\n\u001b[0;32m   1500\u001b[0m                 or _global_forward_hooks or _global_forward_pre_hooks):\n\u001b[1;32m-> 1501\u001b[1;33m             \u001b[1;32mreturn\u001b[0m \u001b[0mforward_call\u001b[0m\u001b[1;33m(\u001b[0m\u001b[1;33m*\u001b[0m\u001b[0margs\u001b[0m\u001b[1;33m,\u001b[0m \u001b[1;33m**\u001b[0m\u001b[0mkwargs\u001b[0m\u001b[1;33m)\u001b[0m\u001b[1;33m\u001b[0m\u001b[1;33m\u001b[0m\u001b[0m\n\u001b[0m\u001b[0;32m   1502\u001b[0m         \u001b[1;31m# Do not call functions when jit is used\u001b[0m\u001b[1;33m\u001b[0m\u001b[1;33m\u001b[0m\u001b[0m\n\u001b[0;32m   1503\u001b[0m         \u001b[0mfull_backward_hooks\u001b[0m\u001b[1;33m,\u001b[0m \u001b[0mnon_full_backward_hooks\u001b[0m \u001b[1;33m=\u001b[0m \u001b[1;33m[\u001b[0m\u001b[1;33m]\u001b[0m\u001b[1;33m,\u001b[0m \u001b[1;33m[\u001b[0m\u001b[1;33m]\u001b[0m\u001b[1;33m\u001b[0m\u001b[1;33m\u001b[0m\u001b[0m\n",
      "\u001b[1;32m~\\miniconda3\\lib\\site-packages\\torch\\nn\\modules\\linear.py\u001b[0m in \u001b[0;36mforward\u001b[1;34m(self, input)\u001b[0m\n\u001b[0;32m    112\u001b[0m \u001b[1;33m\u001b[0m\u001b[0m\n\u001b[0;32m    113\u001b[0m     \u001b[1;32mdef\u001b[0m \u001b[0mforward\u001b[0m\u001b[1;33m(\u001b[0m\u001b[0mself\u001b[0m\u001b[1;33m,\u001b[0m \u001b[0minput\u001b[0m\u001b[1;33m:\u001b[0m \u001b[0mTensor\u001b[0m\u001b[1;33m)\u001b[0m \u001b[1;33m->\u001b[0m \u001b[0mTensor\u001b[0m\u001b[1;33m:\u001b[0m\u001b[1;33m\u001b[0m\u001b[1;33m\u001b[0m\u001b[0m\n\u001b[1;32m--> 114\u001b[1;33m         \u001b[1;32mreturn\u001b[0m \u001b[0mF\u001b[0m\u001b[1;33m.\u001b[0m\u001b[0mlinear\u001b[0m\u001b[1;33m(\u001b[0m\u001b[0minput\u001b[0m\u001b[1;33m,\u001b[0m \u001b[0mself\u001b[0m\u001b[1;33m.\u001b[0m\u001b[0mweight\u001b[0m\u001b[1;33m,\u001b[0m \u001b[0mself\u001b[0m\u001b[1;33m.\u001b[0m\u001b[0mbias\u001b[0m\u001b[1;33m)\u001b[0m\u001b[1;33m\u001b[0m\u001b[1;33m\u001b[0m\u001b[0m\n\u001b[0m\u001b[0;32m    115\u001b[0m \u001b[1;33m\u001b[0m\u001b[0m\n\u001b[0;32m    116\u001b[0m     \u001b[1;32mdef\u001b[0m \u001b[0mextra_repr\u001b[0m\u001b[1;33m(\u001b[0m\u001b[0mself\u001b[0m\u001b[1;33m)\u001b[0m \u001b[1;33m->\u001b[0m \u001b[0mstr\u001b[0m\u001b[1;33m:\u001b[0m\u001b[1;33m\u001b[0m\u001b[1;33m\u001b[0m\u001b[0m\n",
      "\u001b[1;31mKeyboardInterrupt\u001b[0m: "
     ]
    }
   ],
   "source": [
    "# Run this to save a file with your predictions on the test set to be submitted\n",
    "sentences = list(df_test.words_str.values)\n",
    "X_test = model.encode(sentences)\n",
    "y_hat = clf.predict(X_test)\n",
    "\n",
    "# Save the results with the format <TEAM_ID>__<SPLIT>_clf_pred.npy\n",
    "\n",
    "folder = 'result'\n",
    "np.save(os.path.join(folder, f'{team_id}__{split}__clf_pred.npy'), y_hat)"
   ]
  },
  {
   "cell_type": "markdown",
   "id": "CMofiwvW5Sd8",
   "metadata": {
    "id": "CMofiwvW5Sd8"
   },
   "source": [
    "# Submission to CMS"
   ]
  },
  {
   "cell_type": "markdown",
   "id": "n-7pww1o3iWN",
   "metadata": {
    "id": "n-7pww1o3iWN"
   },
   "source": [
    "Put your .npy files for both regression and classification tasks in the same zip file. Please name the file as `<TEAM_ID>.zip` and upload it to CMS system. It is essential that the files inside the .zip are named as follow:\n",
    "\n",
    "`<TEAM_ID>__<SPLIT>__reg_pred.npy` \\\n",
    "`<TEAM_ID>__<SPLIT>__clf_pred.npy` \\\n",
    "\n",
    "Above, `<SPLIT>` should correspond to `test_1` for the leaderboard and `test_2` for the final submission. "
   ]
  },
  {
   "cell_type": "code",
   "execution_count": null,
   "id": "B75zOG1F-KAQ",
   "metadata": {
    "id": "B75zOG1F-KAQ"
   },
   "outputs": [],
   "source": []
  },
  {
   "cell_type": "code",
   "execution_count": null,
   "id": "f1161689",
   "metadata": {},
   "outputs": [],
   "source": [
    "res = np.load('result/1__test_1__reg_pred.npy')"
   ]
  },
  {
   "cell_type": "code",
   "execution_count": null,
   "id": "07eb40c6",
   "metadata": {},
   "outputs": [],
   "source": [
    "res"
   ]
  },
  {
   "cell_type": "code",
   "execution_count": null,
   "id": "2c52b701",
   "metadata": {},
   "outputs": [],
   "source": []
  }
 ],
 "metadata": {
  "colab": {
   "provenance": [],
   "toc_visible": true
  },
  "kernelspec": {
   "display_name": "PyCharm (timung_sorting)",
   "language": "python",
   "name": "pycharm-ad6b22b"
  },
  "language_info": {
   "codemirror_mode": {
    "name": "ipython",
    "version": 3
   },
   "file_extension": ".py",
   "mimetype": "text/x-python",
   "name": "python",
   "nbconvert_exporter": "python",
   "pygments_lexer": "ipython3",
   "version": "3.9.7"
  }
 },
 "nbformat": 4,
 "nbformat_minor": 5
}
